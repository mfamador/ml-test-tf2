{
 "cells": [
  {
   "cell_type": "code",
   "execution_count": 1,
   "metadata": {},
   "outputs": [],
   "source": [
    "import tensorflow as tf\n",
    "from tensorflow import keras\n",
    "from tensorflow.keras import layers\n",
    "from tensorflow.keras.preprocessing.text import Tokenizer\n",
    "from tensorflow.keras.utils import to_categorical\n",
    "\n",
    "import itertools\n",
    "import json\n",
    "\n",
    "import matplotlib.pyplot as plt\n",
    "import numpy as np\n",
    "import pandas as pd\n",
    "from sklearn.metrics import confusion_matrix\n",
    "from sklearn.preprocessing import LabelEncoder\n",
    "\n",
    "pd.options.display.max_colwidth = 10000"
   ]
  },
  {
   "cell_type": "code",
   "execution_count": 2,
   "metadata": {},
   "outputs": [
    {
     "data": {
      "text/html": [
       "<div>\n",
       "<style scoped>\n",
       "    .dataframe tbody tr th:only-of-type {\n",
       "        vertical-align: middle;\n",
       "    }\n",
       "\n",
       "    .dataframe tbody tr th {\n",
       "        vertical-align: top;\n",
       "    }\n",
       "\n",
       "    .dataframe thead th {\n",
       "        text-align: right;\n",
       "    }\n",
       "</style>\n",
       "<table border=\"1\" class=\"dataframe\">\n",
       "  <thead>\n",
       "    <tr style=\"text-align: right;\">\n",
       "      <th></th>\n",
       "      <th>comments</th>\n",
       "      <th>currency</th>\n",
       "      <th>lastUpdated</th>\n",
       "      <th>purchaseTime</th>\n",
       "      <th>status</th>\n",
       "      <th>uploadedTime</th>\n",
       "      <th>totalConfidence</th>\n",
       "      <th>lastOpenAt</th>\n",
       "      <th>lastVerifiedAt</th>\n",
       "      <th>taxTotal</th>\n",
       "      <th>total</th>\n",
       "      <th>deletedAt</th>\n",
       "      <th>retailerName</th>\n",
       "      <th>retailerCountry</th>\n",
       "      <th>retailerVatNumber</th>\n",
       "      <th>rawData</th>\n",
       "      <th>receiptImage</th>\n",
       "    </tr>\n",
       "  </thead>\n",
       "  <tbody>\n",
       "    <tr>\n",
       "      <th>0</th>\n",
       "      <td>NaN</td>\n",
       "      <td>GBP</td>\n",
       "      <td>2019-06-15 17:00:57</td>\n",
       "      <td>2019-06-14 18:20:00</td>\n",
       "      <td>REVIEWED</td>\n",
       "      <td>2019-06-14 22:11:40</td>\n",
       "      <td>0.7</td>\n",
       "      <td>NaN</td>\n",
       "      <td>2019-06-15 17:00:57</td>\n",
       "      <td>NaN</td>\n",
       "      <td>NaN</td>\n",
       "      <td>NaN</td>\n",
       "      <td>Selfridges</td>\n",
       "      <td>GB</td>\n",
       "      <td>NaN</td>\n",
       "      <td>{\"message\":\"SUCCESS: Result available\",\"status\":\"done\",\"status_code\":3,\"token\":null,\"success\":true,\"code\":202,\"duplicate\":false,\"duplicateToken\":null,\"result\":{\"establishment\":\"Selfridges\",\"validatedEstablishment\":false,\"date\":\"2019-06-14 18:20:00\",\"total\":30.000,\"url\":\"www.selfridges.com\",\"phoneNumber\":\"8569 4004156\",\"paymentMethod\":\"VISA\",\"address\":\"400 Oxford Street London W1A 1AB\",\"validatedTotal\":false,\"subTotal\":30.000,\"validatedSubTotal\":true,\"cash\":\"0.000\",\"change\":\"0.000\",\"tax\":0.000,\"discount\":0.000,\"subTotalConfidence\":0.99,\"totalConfidence\":0.7,\"cashConfidence\":0.0,\"changeConfidence\":0.0,\"roundingConfidence\":0.0,\"otherData\":[],\"lineItems\":[{\"qty\":0,\"desc\":\"FULTON BROLLYMA41568569 400415685692\",\"unit\":\"\",\"price\":0.000,\"descClean\":\"You 193 were served by : Ines FULTON BROLLYMA 400415685692\",\"lineTotal\":18.000,\"productCode\":\"41568569\"},{\"qty\":0,\"desc\":\"JJ DOT HYDR - TRA 82401412\",\"unit\":\"\",\"price\":0.000,\"descClean\":\"JJ DOT HYDR - TRA\",\"lineTotal\":12.000,\"productCode\":\"82401412\"}],\"summaryItems\":[{\"qty\":2,\"desc\":\"Total 2 Items\",\"unit\":\"\",\"price\":0.000,\"descClean\":\"Total Items\",\"lineTotal\":30.000,\"productCode\":\"\"},{\"qty\":0,\"desc\":\"Visa\",\"unit\":\"\",\"price\":0.000,\"descClean\":\"Visa\",\"lineTotal\":30.000,\"productCode\":\"\"},{\"qty\":14,\"desc\":\"009999 Date 14 / 06 / 19\",\"unit\":\"\",\"price\":0.000,\"descClean\":\"Date / 06 / 19\",\"lineTotal\":18.200,\"productCode\":\"009999\"}]}}</td>\n",
       "      <td>https://s3-eu-west-1.amazonaws.com/wevat-receipts/5955cc32-894b-4dbd-8c1f-f54fbd95d8e8</td>\n",
       "    </tr>\n",
       "  </tbody>\n",
       "</table>\n",
       "</div>"
      ],
      "text/plain": [
       "   comments currency          lastUpdated         purchaseTime    status  \\\n",
       "0       NaN      GBP  2019-06-15 17:00:57  2019-06-14 18:20:00  REVIEWED   \n",
       "\n",
       "          uploadedTime  totalConfidence lastOpenAt       lastVerifiedAt  \\\n",
       "0  2019-06-14 22:11:40              0.7        NaN  2019-06-15 17:00:57   \n",
       "\n",
       "   taxTotal  total deletedAt retailerName retailerCountry  retailerVatNumber  \\\n",
       "0       NaN    NaN       NaN   Selfridges              GB                NaN   \n",
       "\n",
       "                                                                                                                                                                                                                                                                                                                                                                                                                                                                                                                                                                                                                                                                                                                                                                                                                                                                                                                                                                                                                                                                                                                                                                                                                                                                                                                                                                                                                                    rawData  \\\n",
       "0  {\"message\":\"SUCCESS: Result available\",\"status\":\"done\",\"status_code\":3,\"token\":null,\"success\":true,\"code\":202,\"duplicate\":false,\"duplicateToken\":null,\"result\":{\"establishment\":\"Selfridges\",\"validatedEstablishment\":false,\"date\":\"2019-06-14 18:20:00\",\"total\":30.000,\"url\":\"www.selfridges.com\",\"phoneNumber\":\"8569 4004156\",\"paymentMethod\":\"VISA\",\"address\":\"400 Oxford Street London W1A 1AB\",\"validatedTotal\":false,\"subTotal\":30.000,\"validatedSubTotal\":true,\"cash\":\"0.000\",\"change\":\"0.000\",\"tax\":0.000,\"discount\":0.000,\"subTotalConfidence\":0.99,\"totalConfidence\":0.7,\"cashConfidence\":0.0,\"changeConfidence\":0.0,\"roundingConfidence\":0.0,\"otherData\":[],\"lineItems\":[{\"qty\":0,\"desc\":\"FULTON BROLLYMA41568569 400415685692\",\"unit\":\"\",\"price\":0.000,\"descClean\":\"You 193 were served by : Ines FULTON BROLLYMA 400415685692\",\"lineTotal\":18.000,\"productCode\":\"41568569\"},{\"qty\":0,\"desc\":\"JJ DOT HYDR - TRA 82401412\",\"unit\":\"\",\"price\":0.000,\"descClean\":\"JJ DOT HYDR - TRA\",\"lineTotal\":12.000,\"productCode\":\"82401412\"}],\"summaryItems\":[{\"qty\":2,\"desc\":\"Total 2 Items\",\"unit\":\"\",\"price\":0.000,\"descClean\":\"Total Items\",\"lineTotal\":30.000,\"productCode\":\"\"},{\"qty\":0,\"desc\":\"Visa\",\"unit\":\"\",\"price\":0.000,\"descClean\":\"Visa\",\"lineTotal\":30.000,\"productCode\":\"\"},{\"qty\":14,\"desc\":\"009999 Date 14 / 06 / 19\",\"unit\":\"\",\"price\":0.000,\"descClean\":\"Date / 06 / 19\",\"lineTotal\":18.200,\"productCode\":\"009999\"}]}}   \n",
       "\n",
       "                                                                             receiptImage  \n",
       "0  https://s3-eu-west-1.amazonaws.com/wevat-receipts/5955cc32-894b-4dbd-8c1f-f54fbd95d8e8  "
      ]
     },
     "execution_count": 2,
     "metadata": {},
     "output_type": "execute_result"
    }
   ],
   "source": [
    "# read provided dataset\n",
    "df = pd.read_csv(\"receipt_data.csv\")\n",
    "df.head(1)"
   ]
  },
  {
   "cell_type": "code",
   "execution_count": 3,
   "metadata": {},
   "outputs": [
    {
     "data": {
      "text/html": [
       "<div>\n",
       "<style scoped>\n",
       "    .dataframe tbody tr th:only-of-type {\n",
       "        vertical-align: middle;\n",
       "    }\n",
       "\n",
       "    .dataframe tbody tr th {\n",
       "        vertical-align: top;\n",
       "    }\n",
       "\n",
       "    .dataframe thead th {\n",
       "        text-align: right;\n",
       "    }\n",
       "</style>\n",
       "<table border=\"1\" class=\"dataframe\">\n",
       "  <thead>\n",
       "    <tr style=\"text-align: right;\">\n",
       "      <th></th>\n",
       "      <th>retailerName</th>\n",
       "      <th>rawData</th>\n",
       "    </tr>\n",
       "  </thead>\n",
       "  <tbody>\n",
       "    <tr>\n",
       "      <th>0</th>\n",
       "      <td>Selfridges</td>\n",
       "      <td>{\"message\":\"SUCCESS: Result available\",\"status\":\"done\",\"status_code\":3,\"token\":null,\"success\":true,\"code\":202,\"duplicate\":false,\"duplicateToken\":null,\"result\":{\"establishment\":\"Selfridges\",\"validatedEstablishment\":false,\"date\":\"2019-06-14 18:20:00\",\"total\":30.000,\"url\":\"www.selfridges.com\",\"phoneNumber\":\"8569 4004156\",\"paymentMethod\":\"VISA\",\"address\":\"400 Oxford Street London W1A 1AB\",\"validatedTotal\":false,\"subTotal\":30.000,\"validatedSubTotal\":true,\"cash\":\"0.000\",\"change\":\"0.000\",\"tax\":0.000,\"discount\":0.000,\"subTotalConfidence\":0.99,\"totalConfidence\":0.7,\"cashConfidence\":0.0,\"changeConfidence\":0.0,\"roundingConfidence\":0.0,\"otherData\":[],\"lineItems\":[{\"qty\":0,\"desc\":\"FULTON BROLLYMA41568569 400415685692\",\"unit\":\"\",\"price\":0.000,\"descClean\":\"You 193 were served by : Ines FULTON BROLLYMA 400415685692\",\"lineTotal\":18.000,\"productCode\":\"41568569\"},{\"qty\":0,\"desc\":\"JJ DOT HYDR - TRA 82401412\",\"unit\":\"\",\"price\":0.000,\"descClean\":\"JJ DOT HYDR - TRA\",\"lineTotal\":12.000,\"productCode\":\"82401412\"}],\"summaryItems\":[{\"qty\":2,\"desc\":\"Total 2 Items\",\"unit\":\"\",\"price\":0.000,\"descClean\":\"Total Items\",\"lineTotal\":30.000,\"productCode\":\"\"},{\"qty\":0,\"desc\":\"Visa\",\"unit\":\"\",\"price\":0.000,\"descClean\":\"Visa\",\"lineTotal\":30.000,\"productCode\":\"\"},{\"qty\":14,\"desc\":\"009999 Date 14 / 06 / 19\",\"unit\":\"\",\"price\":0.000,\"descClean\":\"Date / 06 / 19\",\"lineTotal\":18.200,\"productCode\":\"009999\"}]}}</td>\n",
       "    </tr>\n",
       "    <tr>\n",
       "      <th>1</th>\n",
       "      <td>Harrods</td>\n",
       "      <td>{\"message\":\"SUCCESS: Result available\",\"status\":\"done\",\"status_code\":3,\"token\":null,\"success\":true,\"code\":202,\"duplicate\":false,\"duplicateToken\":null,\"result\":{\"establishment\":\"Harrods\",\"validatedEstablishment\":false,\"date\":\"2019-06-19 13:24:00\",\"total\":86.000,\"url\":\"harrods.com\",\"phoneNumber\":\"020 7730 1234\",\"paymentMethod\":\"\",\"address\":\"LONDON S1 ot Road\",\"validatedTotal\":false,\"subTotal\":86.000,\"validatedSubTotal\":true,\"cash\":\"0.000\",\"change\":\"0.000\",\"tax\":0.000,\"discount\":0.000,\"subTotalConfidence\":0.6,\"totalConfidence\":0.0,\"cashConfidence\":0.0,\"changeConfidence\":0.0,\"roundingConfidence\":0.0,\"otherData\":[],\"lineItems\":[{\"qty\":0,\"desc\":\"Rewards 0005708615 Saving FRAGRANCE\",\"unit\":\"\",\"price\":0.000,\"descClean\":\"Rewards Saving FRAGRANCE f8.60\",\"lineTotal\":86.000,\"productCode\":\"0005708615\"}],\"summaryItems\":[{\"qty\":0,\"desc\":\"Sub Total\",\"unit\":\"\",\"price\":0.000,\"descClean\":\"Sub Total\",\"lineTotal\":86.000,\"productCode\":\"\"},{\"qty\":1,\"desc\":\"TOTAL ( 1 item )\",\"unit\":\"\",\"price\":0.000,\"descClean\":\"TOTAL ( item )\",\"lineTotal\":77.400,\"productCode\":\"\"},{\"qty\":0,\"desc\":\"Chinese Mobile Tendered\",\"unit\":\"\",\"price\":0.000,\"descClean\":\"Chinese Mobile Tendered\",\"lineTotal\":77.400,\"productCode\":\"\"},{\"qty\":0,\"desc\":\"Rewards Points balance\",\"unit\":\"\",\"price\":0.000,\"descClean\":\"Rewards Points balance\",\"lineTotal\":194.800,\"productCode\":\"\"}]}}</td>\n",
       "    </tr>\n",
       "    <tr>\n",
       "      <th>2</th>\n",
       "      <td>Boots</td>\n",
       "      <td>{\"message\":\"SUCCESS: Result available\",\"status\":\"done\",\"status_code\":3,\"token\":null,\"success\":true,\"code\":202,\"duplicate\":false,\"duplicateToken\":null,\"result\":{\"establishment\":\"Boots\",\"validatedEstablishment\":false,\"date\":\"2019-06-18 18:24:00\",\"total\":20.460,\"url\":\"\",\"phoneNumber\":\"(0115) 9410199\",\"paymentMethod\":\"\",\"address\":\"\",\"validatedTotal\":true,\"subTotal\":0.000,\"validatedSubTotal\":false,\"cash\":\"50.500\",\"change\":\"30.040\",\"tax\":0.000,\"discount\":0.000,\"subTotalConfidence\":0.0,\"totalConfidence\":0.99,\"cashConfidence\":0.99,\"changeConfidence\":0.99,\"roundingConfidence\":0.0,\"otherData\":[\"f\",\"Boots UK Limited\",\"NOTTINGHAM - 6\",\"18/06/2019\",\"(0115) 9410199\",\"18:24\",\"Served by: LAURIEN GOOD\",\"1404\",\"619 7646 0006 144 *6330************686\",\"\"],\"lineItems\":[{\"qty\":28,\"desc\":\"Nno Nno Int Int Wht Wht Stp Strong 28 2 5.00 NOW\",\"unit\":\"\",\"price\":0.000,\"descClean\":\"Nno Nno Int Int Wht Wht Stp Strong 2 5.00 NOW STUDENT DISCOUNT\",\"lineTotal\":18.750,\"productCode\":\"\"}],\"summaryItems\":[{\"qty\":0,\"desc\":\"TOTAL TO PAY\",\"unit\":\"\",\"price\":0.000,\"descClean\":\"TOTAL TO PAY\",\"lineTotal\":20.460,\"productCode\":\"\"},{\"qty\":0,\"desc\":\"CASH\",\"unit\":\"\",\"price\":0.000,\"descClean\":\"CASH\",\"lineTotal\":50.500,\"productCode\":\"\"},{\"qty\":0,\"desc\":\"CHANGE\",\"unit\":\"\",\"price\":0.000,\"descClean\":\"CHANGE\",\"lineTotal\":30.040,\"productCode\":\"\"}]}}</td>\n",
       "    </tr>\n",
       "    <tr>\n",
       "      <th>3</th>\n",
       "      <td>Selfridges</td>\n",
       "      <td>{\"message\":\"SUCCESS: Result available\",\"status\":\"done\",\"status_code\":3,\"token\":null,\"success\":true,\"code\":202,\"duplicate\":false,\"duplicateToken\":null,\"result\":{\"establishment\":\"Selfridges\",\"validatedEstablishment\":false,\"date\":\"2019-06-01 20:48:00\",\"total\":370.000,\"url\":\"www.selfridges.com\",\"phoneNumber\":\"+44 (0) 207 160 62\",\"paymentMethod\":\"ALIPAY\",\"address\":\"400 Oxford Street London W1A 1AB\",\"validatedTotal\":false,\"subTotal\":0.000,\"validatedSubTotal\":false,\"cash\":\"0.000\",\"change\":\"0.000\",\"tax\":0.000,\"discount\":0.000,\"subTotalConfidence\":0.0,\"totalConfidence\":0.0,\"cashConfidence\":0.0,\"changeConfidence\":0.0,\"roundingConfidence\":0.0,\"otherData\":[\"SELFRIDGES&amp;Cº\",\"400 Oxford Street London W1A 1AB\",\"Freephone 0800 123 400\",\"( From overseas +44 (0) 207 160 6222)\",\"V.A.T NO. GB 705 3259 52\",\"www.selfridges.com\",\"You were served by: Mikel\",\"Chanel RTW &amp; Accs\",\"1 @ f370.00\",\"CAR\",\"Notified terms and conditions will apply\",\"For details visit selfridges.com/london\",\"****************************** ************\",\"We have a passion for what we do and\",\"want you to have an amazing experience\",\"every time you come to Selfridges.\",\"*****************************************\",\"Loteborhoomorpbtitles 298 espela\",\"Shop online at www.selfridges.com\",\"You are welcome to exchange or refund\",\"your purchase by Sat 29 Jun 2019\",\"Please note Sale items\",\"can only be exchanged\",\"-\",\"-\",\"Term 0250 Opr 9999979506 Trans 3919\",\"Store 009999 Date 01/06/19 20:48\",\"00999902503919190601204713\",\"mellogu\",\"erot new uovi\",\"\"],\"lineItems\":[{\"qty\":1,\"desc\":\"1 @ f370.00\",\"unit\":\"\",\"price\":0.000,\"descClean\":\"f370.00\",\"lineTotal\":370.000,\"productCode\":\"\"},{\"qty\":1,\"desc\":\"Alipay READVICE\",\"unit\":\"\",\"price\":0.000,\"descClean\":\"- - Total Item READVICE f370.00 Alipay READVICE\",\"lineTotal\":370.000,\"productCode\":\"\"}],\"summaryItems\":[]}}</td>\n",
       "    </tr>\n",
       "    <tr>\n",
       "      <th>4</th>\n",
       "      <td>John Lewis</td>\n",
       "      <td>{\"message\":\"SUCCESS: Result available\",\"status\":\"done\",\"status_code\":3,\"token\":null,\"success\":true,\"code\":202,\"duplicate\":false,\"duplicateToken\":null,\"result\":{\"establishment\":\"John Lewis\",\"validatedEstablishment\":false,\"date\":\"2019-06-16 14:02:00\",\"total\":26.940,\"url\":\"www.johnlewis.com/customer\",\"phoneNumber\":\"0114 276 8511\",\"paymentMethod\":\"\",\"address\":\", SS1 2HB\",\"validatedTotal\":false,\"subTotal\":26.940,\"validatedSubTotal\":true,\"cash\":\"3.060\",\"change\":\"0.000\",\"tax\":4.490,\"discount\":0.000,\"subTotalConfidence\":0.0,\"totalConfidence\":0.6,\"cashConfidence\":0.6,\"changeConfidence\":0.0,\"roundingConfidence\":0.0,\"otherData\":[],\"lineItems\":[{\"qty\":0,\"desc\":\"S 73220442 Construction Toy\",\"unit\":\"\",\"price\":0.000,\"descClean\":\"S Construction Toy\",\"lineTotal\":8.970,\"productCode\":\"73220442\"},{\"qty\":2,\"desc\":\"S 73220446 Construction Toy\",\"unit\":\"\",\"price\":0.000,\"descClean\":\"S Construction Toy No.items\",\"lineTotal\":17.970,\"productCode\":\"73220446\"}],\"summaryItems\":[{\"qty\":0,\"desc\":\"Total\",\"unit\":\"\",\"price\":0.000,\"descClean\":\"Total\",\"lineTotal\":26.940,\"productCode\":\"\"},{\"qty\":0,\"desc\":\"Cash\",\"unit\":\"\",\"price\":0.000,\"descClean\":\"Cash\",\"lineTotal\":30.000,\"productCode\":\"\"},{\"qty\":0,\"desc\":\"Cash\",\"unit\":\"\",\"price\":0.000,\"descClean\":\"Cash\",\"lineTotal\":3.060,\"productCode\":\"\"},{\"qty\":5,\"desc\":\"S 20.0% 26.94 4.49\",\"unit\":\"\",\"price\":4.490,\"descClean\":\"S 20.0% 26.94\",\"lineTotal\":22.450,\"productCode\":\"\"}]}}</td>\n",
       "    </tr>\n",
       "  </tbody>\n",
       "</table>\n",
       "</div>"
      ],
      "text/plain": [
       "  retailerName  \\\n",
       "0   Selfridges   \n",
       "1      Harrods   \n",
       "2        Boots   \n",
       "3   Selfridges   \n",
       "4   John Lewis   \n",
       "\n",
       "                                                                                                                                                                                                                                                                                                                                                                                                                                                                                                                                                                                                                                                                                                                                                                                                                                                                                                                                                                                                                                                                                                                                                                                                                                                                                                                                                                                                                                                                                                                                                                                                                                                                                                                                                                                                                                                                                     rawData  \n",
       "0                                                                                                                                                                                                                                                                                                                                                                                                                                                   {\"message\":\"SUCCESS: Result available\",\"status\":\"done\",\"status_code\":3,\"token\":null,\"success\":true,\"code\":202,\"duplicate\":false,\"duplicateToken\":null,\"result\":{\"establishment\":\"Selfridges\",\"validatedEstablishment\":false,\"date\":\"2019-06-14 18:20:00\",\"total\":30.000,\"url\":\"www.selfridges.com\",\"phoneNumber\":\"8569 4004156\",\"paymentMethod\":\"VISA\",\"address\":\"400 Oxford Street London W1A 1AB\",\"validatedTotal\":false,\"subTotal\":30.000,\"validatedSubTotal\":true,\"cash\":\"0.000\",\"change\":\"0.000\",\"tax\":0.000,\"discount\":0.000,\"subTotalConfidence\":0.99,\"totalConfidence\":0.7,\"cashConfidence\":0.0,\"changeConfidence\":0.0,\"roundingConfidence\":0.0,\"otherData\":[],\"lineItems\":[{\"qty\":0,\"desc\":\"FULTON BROLLYMA41568569 400415685692\",\"unit\":\"\",\"price\":0.000,\"descClean\":\"You 193 were served by : Ines FULTON BROLLYMA 400415685692\",\"lineTotal\":18.000,\"productCode\":\"41568569\"},{\"qty\":0,\"desc\":\"JJ DOT HYDR - TRA 82401412\",\"unit\":\"\",\"price\":0.000,\"descClean\":\"JJ DOT HYDR - TRA\",\"lineTotal\":12.000,\"productCode\":\"82401412\"}],\"summaryItems\":[{\"qty\":2,\"desc\":\"Total 2 Items\",\"unit\":\"\",\"price\":0.000,\"descClean\":\"Total Items\",\"lineTotal\":30.000,\"productCode\":\"\"},{\"qty\":0,\"desc\":\"Visa\",\"unit\":\"\",\"price\":0.000,\"descClean\":\"Visa\",\"lineTotal\":30.000,\"productCode\":\"\"},{\"qty\":14,\"desc\":\"009999 Date 14 / 06 / 19\",\"unit\":\"\",\"price\":0.000,\"descClean\":\"Date / 06 / 19\",\"lineTotal\":18.200,\"productCode\":\"009999\"}]}}  \n",
       "1                                                                                                                                                                                                                                                                                                                                                                                                                                                                                                {\"message\":\"SUCCESS: Result available\",\"status\":\"done\",\"status_code\":3,\"token\":null,\"success\":true,\"code\":202,\"duplicate\":false,\"duplicateToken\":null,\"result\":{\"establishment\":\"Harrods\",\"validatedEstablishment\":false,\"date\":\"2019-06-19 13:24:00\",\"total\":86.000,\"url\":\"harrods.com\",\"phoneNumber\":\"020 7730 1234\",\"paymentMethod\":\"\",\"address\":\"LONDON S1 ot Road\",\"validatedTotal\":false,\"subTotal\":86.000,\"validatedSubTotal\":true,\"cash\":\"0.000\",\"change\":\"0.000\",\"tax\":0.000,\"discount\":0.000,\"subTotalConfidence\":0.6,\"totalConfidence\":0.0,\"cashConfidence\":0.0,\"changeConfidence\":0.0,\"roundingConfidence\":0.0,\"otherData\":[],\"lineItems\":[{\"qty\":0,\"desc\":\"Rewards 0005708615 Saving FRAGRANCE\",\"unit\":\"\",\"price\":0.000,\"descClean\":\"Rewards Saving FRAGRANCE f8.60\",\"lineTotal\":86.000,\"productCode\":\"0005708615\"}],\"summaryItems\":[{\"qty\":0,\"desc\":\"Sub Total\",\"unit\":\"\",\"price\":0.000,\"descClean\":\"Sub Total\",\"lineTotal\":86.000,\"productCode\":\"\"},{\"qty\":1,\"desc\":\"TOTAL ( 1 item )\",\"unit\":\"\",\"price\":0.000,\"descClean\":\"TOTAL ( item )\",\"lineTotal\":77.400,\"productCode\":\"\"},{\"qty\":0,\"desc\":\"Chinese Mobile Tendered\",\"unit\":\"\",\"price\":0.000,\"descClean\":\"Chinese Mobile Tendered\",\"lineTotal\":77.400,\"productCode\":\"\"},{\"qty\":0,\"desc\":\"Rewards Points balance\",\"unit\":\"\",\"price\":0.000,\"descClean\":\"Rewards Points balance\",\"lineTotal\":194.800,\"productCode\":\"\"}]}}  \n",
       "2                                                                                                                                                                                                                                                                                                                                                                                                                                                                                                                         {\"message\":\"SUCCESS: Result available\",\"status\":\"done\",\"status_code\":3,\"token\":null,\"success\":true,\"code\":202,\"duplicate\":false,\"duplicateToken\":null,\"result\":{\"establishment\":\"Boots\",\"validatedEstablishment\":false,\"date\":\"2019-06-18 18:24:00\",\"total\":20.460,\"url\":\"\",\"phoneNumber\":\"(0115) 9410199\",\"paymentMethod\":\"\",\"address\":\"\",\"validatedTotal\":true,\"subTotal\":0.000,\"validatedSubTotal\":false,\"cash\":\"50.500\",\"change\":\"30.040\",\"tax\":0.000,\"discount\":0.000,\"subTotalConfidence\":0.0,\"totalConfidence\":0.99,\"cashConfidence\":0.99,\"changeConfidence\":0.99,\"roundingConfidence\":0.0,\"otherData\":[\"f\",\"Boots UK Limited\",\"NOTTINGHAM - 6\",\"18/06/2019\",\"(0115) 9410199\",\"18:24\",\"Served by: LAURIEN GOOD\",\"1404\",\"619 7646 0006 144 *6330************686\",\"\"],\"lineItems\":[{\"qty\":28,\"desc\":\"Nno Nno Int Int Wht Wht Stp Strong 28 2 5.00 NOW\",\"unit\":\"\",\"price\":0.000,\"descClean\":\"Nno Nno Int Int Wht Wht Stp Strong 2 5.00 NOW STUDENT DISCOUNT\",\"lineTotal\":18.750,\"productCode\":\"\"}],\"summaryItems\":[{\"qty\":0,\"desc\":\"TOTAL TO PAY\",\"unit\":\"\",\"price\":0.000,\"descClean\":\"TOTAL TO PAY\",\"lineTotal\":20.460,\"productCode\":\"\"},{\"qty\":0,\"desc\":\"CASH\",\"unit\":\"\",\"price\":0.000,\"descClean\":\"CASH\",\"lineTotal\":50.500,\"productCode\":\"\"},{\"qty\":0,\"desc\":\"CHANGE\",\"unit\":\"\",\"price\":0.000,\"descClean\":\"CHANGE\",\"lineTotal\":30.040,\"productCode\":\"\"}]}}  \n",
       "3  {\"message\":\"SUCCESS: Result available\",\"status\":\"done\",\"status_code\":3,\"token\":null,\"success\":true,\"code\":202,\"duplicate\":false,\"duplicateToken\":null,\"result\":{\"establishment\":\"Selfridges\",\"validatedEstablishment\":false,\"date\":\"2019-06-01 20:48:00\",\"total\":370.000,\"url\":\"www.selfridges.com\",\"phoneNumber\":\"+44 (0) 207 160 62\",\"paymentMethod\":\"ALIPAY\",\"address\":\"400 Oxford Street London W1A 1AB\",\"validatedTotal\":false,\"subTotal\":0.000,\"validatedSubTotal\":false,\"cash\":\"0.000\",\"change\":\"0.000\",\"tax\":0.000,\"discount\":0.000,\"subTotalConfidence\":0.0,\"totalConfidence\":0.0,\"cashConfidence\":0.0,\"changeConfidence\":0.0,\"roundingConfidence\":0.0,\"otherData\":[\"SELFRIDGES&Cº\",\"400 Oxford Street London W1A 1AB\",\"Freephone 0800 123 400\",\"( From overseas +44 (0) 207 160 6222)\",\"V.A.T NO. GB 705 3259 52\",\"www.selfridges.com\",\"You were served by: Mikel\",\"Chanel RTW & Accs\",\"1 @ f370.00\",\"CAR\",\"Notified terms and conditions will apply\",\"For details visit selfridges.com/london\",\"****************************** ************\",\"We have a passion for what we do and\",\"want you to have an amazing experience\",\"every time you come to Selfridges.\",\"*****************************************\",\"Loteborhoomorpbtitles 298 espela\",\"Shop online at www.selfridges.com\",\"You are welcome to exchange or refund\",\"your purchase by Sat 29 Jun 2019\",\"Please note Sale items\",\"can only be exchanged\",\"-\",\"-\",\"Term 0250 Opr 9999979506 Trans 3919\",\"Store 009999 Date 01/06/19 20:48\",\"00999902503919190601204713\",\"mellogu\",\"erot new uovi\",\"\"],\"lineItems\":[{\"qty\":1,\"desc\":\"1 @ f370.00\",\"unit\":\"\",\"price\":0.000,\"descClean\":\"f370.00\",\"lineTotal\":370.000,\"productCode\":\"\"},{\"qty\":1,\"desc\":\"Alipay READVICE\",\"unit\":\"\",\"price\":0.000,\"descClean\":\"- - Total Item READVICE f370.00 Alipay READVICE\",\"lineTotal\":370.000,\"productCode\":\"\"}],\"summaryItems\":[]}}  \n",
       "4                                                                                                                                                                                                                                                                                                                                                                                                                                   {\"message\":\"SUCCESS: Result available\",\"status\":\"done\",\"status_code\":3,\"token\":null,\"success\":true,\"code\":202,\"duplicate\":false,\"duplicateToken\":null,\"result\":{\"establishment\":\"John Lewis\",\"validatedEstablishment\":false,\"date\":\"2019-06-16 14:02:00\",\"total\":26.940,\"url\":\"www.johnlewis.com/customer\",\"phoneNumber\":\"0114 276 8511\",\"paymentMethod\":\"\",\"address\":\", SS1 2HB\",\"validatedTotal\":false,\"subTotal\":26.940,\"validatedSubTotal\":true,\"cash\":\"3.060\",\"change\":\"0.000\",\"tax\":4.490,\"discount\":0.000,\"subTotalConfidence\":0.0,\"totalConfidence\":0.6,\"cashConfidence\":0.6,\"changeConfidence\":0.0,\"roundingConfidence\":0.0,\"otherData\":[],\"lineItems\":[{\"qty\":0,\"desc\":\"S 73220442 Construction Toy\",\"unit\":\"\",\"price\":0.000,\"descClean\":\"S Construction Toy\",\"lineTotal\":8.970,\"productCode\":\"73220442\"},{\"qty\":2,\"desc\":\"S 73220446 Construction Toy\",\"unit\":\"\",\"price\":0.000,\"descClean\":\"S Construction Toy No.items\",\"lineTotal\":17.970,\"productCode\":\"73220446\"}],\"summaryItems\":[{\"qty\":0,\"desc\":\"Total\",\"unit\":\"\",\"price\":0.000,\"descClean\":\"Total\",\"lineTotal\":26.940,\"productCode\":\"\"},{\"qty\":0,\"desc\":\"Cash\",\"unit\":\"\",\"price\":0.000,\"descClean\":\"Cash\",\"lineTotal\":30.000,\"productCode\":\"\"},{\"qty\":0,\"desc\":\"Cash\",\"unit\":\"\",\"price\":0.000,\"descClean\":\"Cash\",\"lineTotal\":3.060,\"productCode\":\"\"},{\"qty\":5,\"desc\":\"S 20.0% 26.94 4.49\",\"unit\":\"\",\"price\":4.490,\"descClean\":\"S 20.0% 26.94\",\"lineTotal\":22.450,\"productCode\":\"\"}]}}  "
      ]
     },
     "execution_count": 3,
     "metadata": {},
     "output_type": "execute_result"
    }
   ],
   "source": [
    "# filter retailerName to be used as label and rawData as features\n",
    "df = df.filter(['retailerName', 'rawData'])\n",
    "df.head(5)"
   ]
  },
  {
   "cell_type": "code",
   "execution_count": 4,
   "metadata": {},
   "outputs": [
    {
     "data": {
      "text/plain": [
       "Selfridges           1961\n",
       "Boots                1601\n",
       "Harrods              1188\n",
       "Holland & Barrett     582\n",
       "John Lewis            458\n",
       "TK Maxx               433\n",
       "Debenhams             394\n",
       "Boots UK Limited      383\n",
       "Name: retailerName, dtype: int64"
      ]
     },
     "execution_count": 4,
     "metadata": {},
     "output_type": "execute_result"
    }
   ],
   "source": [
    "\n",
    "# we can see that some Boot tags are duplicated\n",
    "df['retailerName'].value_counts()"
   ]
  },
  {
   "cell_type": "code",
   "execution_count": 5,
   "metadata": {},
   "outputs": [
    {
     "data": {
      "text/plain": [
       "Boots                1984\n",
       "Selfridges           1961\n",
       "Harrods              1188\n",
       "Holland & Barrett     582\n",
       "John Lewis            458\n",
       "TK Maxx               433\n",
       "Debenhams             394\n",
       "Name: retailerName, dtype: int64"
      ]
     },
     "execution_count": 5,
     "metadata": {},
     "output_type": "execute_result"
    }
   ],
   "source": [
    "# clean some data with bad labels\n",
    "df.retailerName = df.retailerName.str.replace('Boots.*', 'Boots', regex=True)\n",
    "\n",
    "# Boot retailer tags must be now deduplicated\n",
    "# The counts should be closer for the model be more balanced\n",
    "df['retailerName'].value_counts()"
   ]
  },
  {
   "cell_type": "code",
   "execution_count": 6,
   "metadata": {},
   "outputs": [
    {
     "data": {
      "text/html": [
       "<div>\n",
       "<style scoped>\n",
       "    .dataframe tbody tr th:only-of-type {\n",
       "        vertical-align: middle;\n",
       "    }\n",
       "\n",
       "    .dataframe tbody tr th {\n",
       "        vertical-align: top;\n",
       "    }\n",
       "\n",
       "    .dataframe thead th {\n",
       "        text-align: right;\n",
       "    }\n",
       "</style>\n",
       "<table border=\"1\" class=\"dataframe\">\n",
       "  <thead>\n",
       "    <tr style=\"text-align: right;\">\n",
       "      <th></th>\n",
       "      <th>retailerName</th>\n",
       "      <th>rawData</th>\n",
       "    </tr>\n",
       "  </thead>\n",
       "  <tbody>\n",
       "    <tr>\n",
       "      <th>685</th>\n",
       "      <td>Boots</td>\n",
       "      <td>NaN</td>\n",
       "    </tr>\n",
       "    <tr>\n",
       "      <th>1326</th>\n",
       "      <td>Boots</td>\n",
       "      <td>NaN</td>\n",
       "    </tr>\n",
       "    <tr>\n",
       "      <th>1537</th>\n",
       "      <td>John Lewis</td>\n",
       "      <td>NaN</td>\n",
       "    </tr>\n",
       "    <tr>\n",
       "      <th>1872</th>\n",
       "      <td>Holland &amp; Barrett</td>\n",
       "      <td>NaN</td>\n",
       "    </tr>\n",
       "    <tr>\n",
       "      <th>3050</th>\n",
       "      <td>Boots</td>\n",
       "      <td>NaN</td>\n",
       "    </tr>\n",
       "  </tbody>\n",
       "</table>\n",
       "</div>"
      ],
      "text/plain": [
       "           retailerName rawData\n",
       "685               Boots     NaN\n",
       "1326              Boots     NaN\n",
       "1537         John Lewis     NaN\n",
       "1872  Holland & Barrett     NaN\n",
       "3050              Boots     NaN"
      ]
     },
     "execution_count": 6,
     "metadata": {},
     "output_type": "execute_result"
    }
   ],
   "source": [
    "ignore = df[df.rawData.apply(lambda x: not isinstance(x, str))]\n",
    "ignore.head(5)"
   ]
  },
  {
   "cell_type": "code",
   "execution_count": 7,
   "metadata": {},
   "outputs": [
    {
     "data": {
      "text/html": [
       "<div>\n",
       "<style scoped>\n",
       "    .dataframe tbody tr th:only-of-type {\n",
       "        vertical-align: middle;\n",
       "    }\n",
       "\n",
       "    .dataframe tbody tr th {\n",
       "        vertical-align: top;\n",
       "    }\n",
       "\n",
       "    .dataframe thead th {\n",
       "        text-align: right;\n",
       "    }\n",
       "</style>\n",
       "<table border=\"1\" class=\"dataframe\">\n",
       "  <thead>\n",
       "    <tr style=\"text-align: right;\">\n",
       "      <th></th>\n",
       "      <th>retailerName</th>\n",
       "      <th>rawData</th>\n",
       "    </tr>\n",
       "  </thead>\n",
       "  <tbody>\n",
       "    <tr>\n",
       "      <th>0</th>\n",
       "      <td>Selfridges</td>\n",
       "      <td>{\"message\":\"SUCCESS: Result available\",\"status\":\"done\",\"status_code\":3,\"token\":null,\"success\":true,\"code\":202,\"duplicate\":false,\"duplicateToken\":null,\"result\":{\"establishment\":\"Selfridges\",\"validatedEstablishment\":false,\"date\":\"2019-06-14 18:20:00\",\"total\":30.000,\"url\":\"www.selfridges.com\",\"phoneNumber\":\"8569 4004156\",\"paymentMethod\":\"VISA\",\"address\":\"400 Oxford Street London W1A 1AB\",\"validatedTotal\":false,\"subTotal\":30.000,\"validatedSubTotal\":true,\"cash\":\"0.000\",\"change\":\"0.000\",\"tax\":0.000,\"discount\":0.000,\"subTotalConfidence\":0.99,\"totalConfidence\":0.7,\"cashConfidence\":0.0,\"changeConfidence\":0.0,\"roundingConfidence\":0.0,\"otherData\":[],\"lineItems\":[{\"qty\":0,\"desc\":\"FULTON BROLLYMA41568569 400415685692\",\"unit\":\"\",\"price\":0.000,\"descClean\":\"You 193 were served by : Ines FULTON BROLLYMA 400415685692\",\"lineTotal\":18.000,\"productCode\":\"41568569\"},{\"qty\":0,\"desc\":\"JJ DOT HYDR - TRA 82401412\",\"unit\":\"\",\"price\":0.000,\"descClean\":\"JJ DOT HYDR - TRA\",\"lineTotal\":12.000,\"productCode\":\"82401412\"}],\"summaryItems\":[{\"qty\":2,\"desc\":\"Total 2 Items\",\"unit\":\"\",\"price\":0.000,\"descClean\":\"Total Items\",\"lineTotal\":30.000,\"productCode\":\"\"},{\"qty\":0,\"desc\":\"Visa\",\"unit\":\"\",\"price\":0.000,\"descClean\":\"Visa\",\"lineTotal\":30.000,\"productCode\":\"\"},{\"qty\":14,\"desc\":\"009999 Date 14 / 06 / 19\",\"unit\":\"\",\"price\":0.000,\"descClean\":\"Date / 06 / 19\",\"lineTotal\":18.200,\"productCode\":\"009999\"}]}}</td>\n",
       "    </tr>\n",
       "    <tr>\n",
       "      <th>1</th>\n",
       "      <td>Harrods</td>\n",
       "      <td>{\"message\":\"SUCCESS: Result available\",\"status\":\"done\",\"status_code\":3,\"token\":null,\"success\":true,\"code\":202,\"duplicate\":false,\"duplicateToken\":null,\"result\":{\"establishment\":\"Harrods\",\"validatedEstablishment\":false,\"date\":\"2019-06-19 13:24:00\",\"total\":86.000,\"url\":\"harrods.com\",\"phoneNumber\":\"020 7730 1234\",\"paymentMethod\":\"\",\"address\":\"LONDON S1 ot Road\",\"validatedTotal\":false,\"subTotal\":86.000,\"validatedSubTotal\":true,\"cash\":\"0.000\",\"change\":\"0.000\",\"tax\":0.000,\"discount\":0.000,\"subTotalConfidence\":0.6,\"totalConfidence\":0.0,\"cashConfidence\":0.0,\"changeConfidence\":0.0,\"roundingConfidence\":0.0,\"otherData\":[],\"lineItems\":[{\"qty\":0,\"desc\":\"Rewards 0005708615 Saving FRAGRANCE\",\"unit\":\"\",\"price\":0.000,\"descClean\":\"Rewards Saving FRAGRANCE f8.60\",\"lineTotal\":86.000,\"productCode\":\"0005708615\"}],\"summaryItems\":[{\"qty\":0,\"desc\":\"Sub Total\",\"unit\":\"\",\"price\":0.000,\"descClean\":\"Sub Total\",\"lineTotal\":86.000,\"productCode\":\"\"},{\"qty\":1,\"desc\":\"TOTAL ( 1 item )\",\"unit\":\"\",\"price\":0.000,\"descClean\":\"TOTAL ( item )\",\"lineTotal\":77.400,\"productCode\":\"\"},{\"qty\":0,\"desc\":\"Chinese Mobile Tendered\",\"unit\":\"\",\"price\":0.000,\"descClean\":\"Chinese Mobile Tendered\",\"lineTotal\":77.400,\"productCode\":\"\"},{\"qty\":0,\"desc\":\"Rewards Points balance\",\"unit\":\"\",\"price\":0.000,\"descClean\":\"Rewards Points balance\",\"lineTotal\":194.800,\"productCode\":\"\"}]}}</td>\n",
       "    </tr>\n",
       "    <tr>\n",
       "      <th>2</th>\n",
       "      <td>Boots</td>\n",
       "      <td>{\"message\":\"SUCCESS: Result available\",\"status\":\"done\",\"status_code\":3,\"token\":null,\"success\":true,\"code\":202,\"duplicate\":false,\"duplicateToken\":null,\"result\":{\"establishment\":\"Boots\",\"validatedEstablishment\":false,\"date\":\"2019-06-18 18:24:00\",\"total\":20.460,\"url\":\"\",\"phoneNumber\":\"(0115) 9410199\",\"paymentMethod\":\"\",\"address\":\"\",\"validatedTotal\":true,\"subTotal\":0.000,\"validatedSubTotal\":false,\"cash\":\"50.500\",\"change\":\"30.040\",\"tax\":0.000,\"discount\":0.000,\"subTotalConfidence\":0.0,\"totalConfidence\":0.99,\"cashConfidence\":0.99,\"changeConfidence\":0.99,\"roundingConfidence\":0.0,\"otherData\":[\"f\",\"Boots UK Limited\",\"NOTTINGHAM - 6\",\"18/06/2019\",\"(0115) 9410199\",\"18:24\",\"Served by: LAURIEN GOOD\",\"1404\",\"619 7646 0006 144 *6330************686\",\"\"],\"lineItems\":[{\"qty\":28,\"desc\":\"Nno Nno Int Int Wht Wht Stp Strong 28 2 5.00 NOW\",\"unit\":\"\",\"price\":0.000,\"descClean\":\"Nno Nno Int Int Wht Wht Stp Strong 2 5.00 NOW STUDENT DISCOUNT\",\"lineTotal\":18.750,\"productCode\":\"\"}],\"summaryItems\":[{\"qty\":0,\"desc\":\"TOTAL TO PAY\",\"unit\":\"\",\"price\":0.000,\"descClean\":\"TOTAL TO PAY\",\"lineTotal\":20.460,\"productCode\":\"\"},{\"qty\":0,\"desc\":\"CASH\",\"unit\":\"\",\"price\":0.000,\"descClean\":\"CASH\",\"lineTotal\":50.500,\"productCode\":\"\"},{\"qty\":0,\"desc\":\"CHANGE\",\"unit\":\"\",\"price\":0.000,\"descClean\":\"CHANGE\",\"lineTotal\":30.040,\"productCode\":\"\"}]}}</td>\n",
       "    </tr>\n",
       "    <tr>\n",
       "      <th>3</th>\n",
       "      <td>Selfridges</td>\n",
       "      <td>{\"message\":\"SUCCESS: Result available\",\"status\":\"done\",\"status_code\":3,\"token\":null,\"success\":true,\"code\":202,\"duplicate\":false,\"duplicateToken\":null,\"result\":{\"establishment\":\"Selfridges\",\"validatedEstablishment\":false,\"date\":\"2019-06-01 20:48:00\",\"total\":370.000,\"url\":\"www.selfridges.com\",\"phoneNumber\":\"+44 (0) 207 160 62\",\"paymentMethod\":\"ALIPAY\",\"address\":\"400 Oxford Street London W1A 1AB\",\"validatedTotal\":false,\"subTotal\":0.000,\"validatedSubTotal\":false,\"cash\":\"0.000\",\"change\":\"0.000\",\"tax\":0.000,\"discount\":0.000,\"subTotalConfidence\":0.0,\"totalConfidence\":0.0,\"cashConfidence\":0.0,\"changeConfidence\":0.0,\"roundingConfidence\":0.0,\"otherData\":[\"SELFRIDGES&amp;Cº\",\"400 Oxford Street London W1A 1AB\",\"Freephone 0800 123 400\",\"( From overseas +44 (0) 207 160 6222)\",\"V.A.T NO. GB 705 3259 52\",\"www.selfridges.com\",\"You were served by: Mikel\",\"Chanel RTW &amp; Accs\",\"1 @ f370.00\",\"CAR\",\"Notified terms and conditions will apply\",\"For details visit selfridges.com/london\",\"****************************** ************\",\"We have a passion for what we do and\",\"want you to have an amazing experience\",\"every time you come to Selfridges.\",\"*****************************************\",\"Loteborhoomorpbtitles 298 espela\",\"Shop online at www.selfridges.com\",\"You are welcome to exchange or refund\",\"your purchase by Sat 29 Jun 2019\",\"Please note Sale items\",\"can only be exchanged\",\"-\",\"-\",\"Term 0250 Opr 9999979506 Trans 3919\",\"Store 009999 Date 01/06/19 20:48\",\"00999902503919190601204713\",\"mellogu\",\"erot new uovi\",\"\"],\"lineItems\":[{\"qty\":1,\"desc\":\"1 @ f370.00\",\"unit\":\"\",\"price\":0.000,\"descClean\":\"f370.00\",\"lineTotal\":370.000,\"productCode\":\"\"},{\"qty\":1,\"desc\":\"Alipay READVICE\",\"unit\":\"\",\"price\":0.000,\"descClean\":\"- - Total Item READVICE f370.00 Alipay READVICE\",\"lineTotal\":370.000,\"productCode\":\"\"}],\"summaryItems\":[]}}</td>\n",
       "    </tr>\n",
       "    <tr>\n",
       "      <th>4</th>\n",
       "      <td>John Lewis</td>\n",
       "      <td>{\"message\":\"SUCCESS: Result available\",\"status\":\"done\",\"status_code\":3,\"token\":null,\"success\":true,\"code\":202,\"duplicate\":false,\"duplicateToken\":null,\"result\":{\"establishment\":\"John Lewis\",\"validatedEstablishment\":false,\"date\":\"2019-06-16 14:02:00\",\"total\":26.940,\"url\":\"www.johnlewis.com/customer\",\"phoneNumber\":\"0114 276 8511\",\"paymentMethod\":\"\",\"address\":\", SS1 2HB\",\"validatedTotal\":false,\"subTotal\":26.940,\"validatedSubTotal\":true,\"cash\":\"3.060\",\"change\":\"0.000\",\"tax\":4.490,\"discount\":0.000,\"subTotalConfidence\":0.0,\"totalConfidence\":0.6,\"cashConfidence\":0.6,\"changeConfidence\":0.0,\"roundingConfidence\":0.0,\"otherData\":[],\"lineItems\":[{\"qty\":0,\"desc\":\"S 73220442 Construction Toy\",\"unit\":\"\",\"price\":0.000,\"descClean\":\"S Construction Toy\",\"lineTotal\":8.970,\"productCode\":\"73220442\"},{\"qty\":2,\"desc\":\"S 73220446 Construction Toy\",\"unit\":\"\",\"price\":0.000,\"descClean\":\"S Construction Toy No.items\",\"lineTotal\":17.970,\"productCode\":\"73220446\"}],\"summaryItems\":[{\"qty\":0,\"desc\":\"Total\",\"unit\":\"\",\"price\":0.000,\"descClean\":\"Total\",\"lineTotal\":26.940,\"productCode\":\"\"},{\"qty\":0,\"desc\":\"Cash\",\"unit\":\"\",\"price\":0.000,\"descClean\":\"Cash\",\"lineTotal\":30.000,\"productCode\":\"\"},{\"qty\":0,\"desc\":\"Cash\",\"unit\":\"\",\"price\":0.000,\"descClean\":\"Cash\",\"lineTotal\":3.060,\"productCode\":\"\"},{\"qty\":5,\"desc\":\"S 20.0% 26.94 4.49\",\"unit\":\"\",\"price\":4.490,\"descClean\":\"S 20.0% 26.94\",\"lineTotal\":22.450,\"productCode\":\"\"}]}}</td>\n",
       "    </tr>\n",
       "  </tbody>\n",
       "</table>\n",
       "</div>"
      ],
      "text/plain": [
       "  retailerName  \\\n",
       "0   Selfridges   \n",
       "1      Harrods   \n",
       "2        Boots   \n",
       "3   Selfridges   \n",
       "4   John Lewis   \n",
       "\n",
       "                                                                                                                                                                                                                                                                                                                                                                                                                                                                                                                                                                                                                                                                                                                                                                                                                                                                                                                                                                                                                                                                                                                                                                                                                                                                                                                                                                                                                                                                                                                                                                                                                                                                                                                                                                                                                                                                                     rawData  \n",
       "0                                                                                                                                                                                                                                                                                                                                                                                                                                                   {\"message\":\"SUCCESS: Result available\",\"status\":\"done\",\"status_code\":3,\"token\":null,\"success\":true,\"code\":202,\"duplicate\":false,\"duplicateToken\":null,\"result\":{\"establishment\":\"Selfridges\",\"validatedEstablishment\":false,\"date\":\"2019-06-14 18:20:00\",\"total\":30.000,\"url\":\"www.selfridges.com\",\"phoneNumber\":\"8569 4004156\",\"paymentMethod\":\"VISA\",\"address\":\"400 Oxford Street London W1A 1AB\",\"validatedTotal\":false,\"subTotal\":30.000,\"validatedSubTotal\":true,\"cash\":\"0.000\",\"change\":\"0.000\",\"tax\":0.000,\"discount\":0.000,\"subTotalConfidence\":0.99,\"totalConfidence\":0.7,\"cashConfidence\":0.0,\"changeConfidence\":0.0,\"roundingConfidence\":0.0,\"otherData\":[],\"lineItems\":[{\"qty\":0,\"desc\":\"FULTON BROLLYMA41568569 400415685692\",\"unit\":\"\",\"price\":0.000,\"descClean\":\"You 193 were served by : Ines FULTON BROLLYMA 400415685692\",\"lineTotal\":18.000,\"productCode\":\"41568569\"},{\"qty\":0,\"desc\":\"JJ DOT HYDR - TRA 82401412\",\"unit\":\"\",\"price\":0.000,\"descClean\":\"JJ DOT HYDR - TRA\",\"lineTotal\":12.000,\"productCode\":\"82401412\"}],\"summaryItems\":[{\"qty\":2,\"desc\":\"Total 2 Items\",\"unit\":\"\",\"price\":0.000,\"descClean\":\"Total Items\",\"lineTotal\":30.000,\"productCode\":\"\"},{\"qty\":0,\"desc\":\"Visa\",\"unit\":\"\",\"price\":0.000,\"descClean\":\"Visa\",\"lineTotal\":30.000,\"productCode\":\"\"},{\"qty\":14,\"desc\":\"009999 Date 14 / 06 / 19\",\"unit\":\"\",\"price\":0.000,\"descClean\":\"Date / 06 / 19\",\"lineTotal\":18.200,\"productCode\":\"009999\"}]}}  \n",
       "1                                                                                                                                                                                                                                                                                                                                                                                                                                                                                                {\"message\":\"SUCCESS: Result available\",\"status\":\"done\",\"status_code\":3,\"token\":null,\"success\":true,\"code\":202,\"duplicate\":false,\"duplicateToken\":null,\"result\":{\"establishment\":\"Harrods\",\"validatedEstablishment\":false,\"date\":\"2019-06-19 13:24:00\",\"total\":86.000,\"url\":\"harrods.com\",\"phoneNumber\":\"020 7730 1234\",\"paymentMethod\":\"\",\"address\":\"LONDON S1 ot Road\",\"validatedTotal\":false,\"subTotal\":86.000,\"validatedSubTotal\":true,\"cash\":\"0.000\",\"change\":\"0.000\",\"tax\":0.000,\"discount\":0.000,\"subTotalConfidence\":0.6,\"totalConfidence\":0.0,\"cashConfidence\":0.0,\"changeConfidence\":0.0,\"roundingConfidence\":0.0,\"otherData\":[],\"lineItems\":[{\"qty\":0,\"desc\":\"Rewards 0005708615 Saving FRAGRANCE\",\"unit\":\"\",\"price\":0.000,\"descClean\":\"Rewards Saving FRAGRANCE f8.60\",\"lineTotal\":86.000,\"productCode\":\"0005708615\"}],\"summaryItems\":[{\"qty\":0,\"desc\":\"Sub Total\",\"unit\":\"\",\"price\":0.000,\"descClean\":\"Sub Total\",\"lineTotal\":86.000,\"productCode\":\"\"},{\"qty\":1,\"desc\":\"TOTAL ( 1 item )\",\"unit\":\"\",\"price\":0.000,\"descClean\":\"TOTAL ( item )\",\"lineTotal\":77.400,\"productCode\":\"\"},{\"qty\":0,\"desc\":\"Chinese Mobile Tendered\",\"unit\":\"\",\"price\":0.000,\"descClean\":\"Chinese Mobile Tendered\",\"lineTotal\":77.400,\"productCode\":\"\"},{\"qty\":0,\"desc\":\"Rewards Points balance\",\"unit\":\"\",\"price\":0.000,\"descClean\":\"Rewards Points balance\",\"lineTotal\":194.800,\"productCode\":\"\"}]}}  \n",
       "2                                                                                                                                                                                                                                                                                                                                                                                                                                                                                                                         {\"message\":\"SUCCESS: Result available\",\"status\":\"done\",\"status_code\":3,\"token\":null,\"success\":true,\"code\":202,\"duplicate\":false,\"duplicateToken\":null,\"result\":{\"establishment\":\"Boots\",\"validatedEstablishment\":false,\"date\":\"2019-06-18 18:24:00\",\"total\":20.460,\"url\":\"\",\"phoneNumber\":\"(0115) 9410199\",\"paymentMethod\":\"\",\"address\":\"\",\"validatedTotal\":true,\"subTotal\":0.000,\"validatedSubTotal\":false,\"cash\":\"50.500\",\"change\":\"30.040\",\"tax\":0.000,\"discount\":0.000,\"subTotalConfidence\":0.0,\"totalConfidence\":0.99,\"cashConfidence\":0.99,\"changeConfidence\":0.99,\"roundingConfidence\":0.0,\"otherData\":[\"f\",\"Boots UK Limited\",\"NOTTINGHAM - 6\",\"18/06/2019\",\"(0115) 9410199\",\"18:24\",\"Served by: LAURIEN GOOD\",\"1404\",\"619 7646 0006 144 *6330************686\",\"\"],\"lineItems\":[{\"qty\":28,\"desc\":\"Nno Nno Int Int Wht Wht Stp Strong 28 2 5.00 NOW\",\"unit\":\"\",\"price\":0.000,\"descClean\":\"Nno Nno Int Int Wht Wht Stp Strong 2 5.00 NOW STUDENT DISCOUNT\",\"lineTotal\":18.750,\"productCode\":\"\"}],\"summaryItems\":[{\"qty\":0,\"desc\":\"TOTAL TO PAY\",\"unit\":\"\",\"price\":0.000,\"descClean\":\"TOTAL TO PAY\",\"lineTotal\":20.460,\"productCode\":\"\"},{\"qty\":0,\"desc\":\"CASH\",\"unit\":\"\",\"price\":0.000,\"descClean\":\"CASH\",\"lineTotal\":50.500,\"productCode\":\"\"},{\"qty\":0,\"desc\":\"CHANGE\",\"unit\":\"\",\"price\":0.000,\"descClean\":\"CHANGE\",\"lineTotal\":30.040,\"productCode\":\"\"}]}}  \n",
       "3  {\"message\":\"SUCCESS: Result available\",\"status\":\"done\",\"status_code\":3,\"token\":null,\"success\":true,\"code\":202,\"duplicate\":false,\"duplicateToken\":null,\"result\":{\"establishment\":\"Selfridges\",\"validatedEstablishment\":false,\"date\":\"2019-06-01 20:48:00\",\"total\":370.000,\"url\":\"www.selfridges.com\",\"phoneNumber\":\"+44 (0) 207 160 62\",\"paymentMethod\":\"ALIPAY\",\"address\":\"400 Oxford Street London W1A 1AB\",\"validatedTotal\":false,\"subTotal\":0.000,\"validatedSubTotal\":false,\"cash\":\"0.000\",\"change\":\"0.000\",\"tax\":0.000,\"discount\":0.000,\"subTotalConfidence\":0.0,\"totalConfidence\":0.0,\"cashConfidence\":0.0,\"changeConfidence\":0.0,\"roundingConfidence\":0.0,\"otherData\":[\"SELFRIDGES&Cº\",\"400 Oxford Street London W1A 1AB\",\"Freephone 0800 123 400\",\"( From overseas +44 (0) 207 160 6222)\",\"V.A.T NO. GB 705 3259 52\",\"www.selfridges.com\",\"You were served by: Mikel\",\"Chanel RTW & Accs\",\"1 @ f370.00\",\"CAR\",\"Notified terms and conditions will apply\",\"For details visit selfridges.com/london\",\"****************************** ************\",\"We have a passion for what we do and\",\"want you to have an amazing experience\",\"every time you come to Selfridges.\",\"*****************************************\",\"Loteborhoomorpbtitles 298 espela\",\"Shop online at www.selfridges.com\",\"You are welcome to exchange or refund\",\"your purchase by Sat 29 Jun 2019\",\"Please note Sale items\",\"can only be exchanged\",\"-\",\"-\",\"Term 0250 Opr 9999979506 Trans 3919\",\"Store 009999 Date 01/06/19 20:48\",\"00999902503919190601204713\",\"mellogu\",\"erot new uovi\",\"\"],\"lineItems\":[{\"qty\":1,\"desc\":\"1 @ f370.00\",\"unit\":\"\",\"price\":0.000,\"descClean\":\"f370.00\",\"lineTotal\":370.000,\"productCode\":\"\"},{\"qty\":1,\"desc\":\"Alipay READVICE\",\"unit\":\"\",\"price\":0.000,\"descClean\":\"- - Total Item READVICE f370.00 Alipay READVICE\",\"lineTotal\":370.000,\"productCode\":\"\"}],\"summaryItems\":[]}}  \n",
       "4                                                                                                                                                                                                                                                                                                                                                                                                                                   {\"message\":\"SUCCESS: Result available\",\"status\":\"done\",\"status_code\":3,\"token\":null,\"success\":true,\"code\":202,\"duplicate\":false,\"duplicateToken\":null,\"result\":{\"establishment\":\"John Lewis\",\"validatedEstablishment\":false,\"date\":\"2019-06-16 14:02:00\",\"total\":26.940,\"url\":\"www.johnlewis.com/customer\",\"phoneNumber\":\"0114 276 8511\",\"paymentMethod\":\"\",\"address\":\", SS1 2HB\",\"validatedTotal\":false,\"subTotal\":26.940,\"validatedSubTotal\":true,\"cash\":\"3.060\",\"change\":\"0.000\",\"tax\":4.490,\"discount\":0.000,\"subTotalConfidence\":0.0,\"totalConfidence\":0.6,\"cashConfidence\":0.6,\"changeConfidence\":0.0,\"roundingConfidence\":0.0,\"otherData\":[],\"lineItems\":[{\"qty\":0,\"desc\":\"S 73220442 Construction Toy\",\"unit\":\"\",\"price\":0.000,\"descClean\":\"S Construction Toy\",\"lineTotal\":8.970,\"productCode\":\"73220442\"},{\"qty\":2,\"desc\":\"S 73220446 Construction Toy\",\"unit\":\"\",\"price\":0.000,\"descClean\":\"S Construction Toy No.items\",\"lineTotal\":17.970,\"productCode\":\"73220446\"}],\"summaryItems\":[{\"qty\":0,\"desc\":\"Total\",\"unit\":\"\",\"price\":0.000,\"descClean\":\"Total\",\"lineTotal\":26.940,\"productCode\":\"\"},{\"qty\":0,\"desc\":\"Cash\",\"unit\":\"\",\"price\":0.000,\"descClean\":\"Cash\",\"lineTotal\":30.000,\"productCode\":\"\"},{\"qty\":0,\"desc\":\"Cash\",\"unit\":\"\",\"price\":0.000,\"descClean\":\"Cash\",\"lineTotal\":3.060,\"productCode\":\"\"},{\"qty\":5,\"desc\":\"S 20.0% 26.94 4.49\",\"unit\":\"\",\"price\":4.490,\"descClean\":\"S 20.0% 26.94\",\"lineTotal\":22.450,\"productCode\":\"\"}]}}  "
      ]
     },
     "execution_count": 7,
     "metadata": {},
     "output_type": "execute_result"
    }
   ],
   "source": [
    "# drop rows with empty or not string rawData \n",
    "dfc = df[df.rawData.apply(lambda x: isinstance(x, str))]\n",
    "dfc.head(5)"
   ]
  },
  {
   "cell_type": "code",
   "execution_count": 8,
   "metadata": {},
   "outputs": [
    {
     "data": {
      "text/html": [
       "<div>\n",
       "<style scoped>\n",
       "    .dataframe tbody tr th:only-of-type {\n",
       "        vertical-align: middle;\n",
       "    }\n",
       "\n",
       "    .dataframe tbody tr th {\n",
       "        vertical-align: top;\n",
       "    }\n",
       "\n",
       "    .dataframe thead th {\n",
       "        text-align: right;\n",
       "    }\n",
       "</style>\n",
       "<table border=\"1\" class=\"dataframe\">\n",
       "  <thead>\n",
       "    <tr style=\"text-align: right;\">\n",
       "      <th></th>\n",
       "      <th>message</th>\n",
       "      <th>status</th>\n",
       "      <th>status_code</th>\n",
       "      <th>token</th>\n",
       "      <th>success</th>\n",
       "      <th>code</th>\n",
       "      <th>duplicate</th>\n",
       "      <th>duplicateToken</th>\n",
       "      <th>result</th>\n",
       "    </tr>\n",
       "  </thead>\n",
       "  <tbody>\n",
       "    <tr>\n",
       "      <th>0</th>\n",
       "      <td>SUCCESS: Result available</td>\n",
       "      <td>done</td>\n",
       "      <td>3</td>\n",
       "      <td>None</td>\n",
       "      <td>True</td>\n",
       "      <td>202</td>\n",
       "      <td>False</td>\n",
       "      <td>None</td>\n",
       "      <td>{'establishment': 'Selfridges', 'validatedEstablishment': False, 'date': '2019-06-14 18:20:00', 'total': 30.0, 'url': 'www.selfridges.com', 'phoneNumber': '8569 4004156', 'paymentMethod': 'VISA', 'address': '400 Oxford Street London W1A 1AB', 'validatedTotal': False, 'subTotal': 30.0, 'validatedSubTotal': True, 'cash': '0.000', 'change': '0.000', 'tax': 0.0, 'discount': 0.0, 'subTotalConfidence': 0.99, 'totalConfidence': 0.7, 'cashConfidence': 0.0, 'changeConfidence': 0.0, 'roundingConfidence': 0.0, 'otherData': [], 'lineItems': [{'qty': 0, 'desc': 'FULTON BROLLYMA41568569 400415685692', 'unit': '', 'price': 0.0, 'descClean': 'You 193 were served by : Ines FULTON BROLLYMA 400415685692', 'lineTotal': 18.0, 'productCode': '41568569'}, {'qty': 0, 'desc': 'JJ DOT HYDR - TRA 82401412', 'unit': '', 'price': 0.0, 'descClean': 'JJ DOT HYDR - TRA', 'lineTotal': 12.0, 'productCode': '82401412'}], 'summaryItems': [{'qty': 2, 'desc': 'Total 2 Items', 'unit': '', 'price': 0.0, 'descClean': 'Total Items', 'lineTotal': 30.0, 'productCode': ''}, {'qty': 0, 'desc': 'Visa', 'unit': '', 'price': 0.0, 'descClean': 'Visa', 'lineTotal': 30.0, 'productCode': ''}, {'qty': 14, 'desc': '009999 Date 14 / 06 / 19', 'unit': '', 'price': 0.0, 'descClean': 'Date / 06 / 19', 'lineTotal': 18.2, 'productCode': '009999'}]}</td>\n",
       "    </tr>\n",
       "    <tr>\n",
       "      <th>1</th>\n",
       "      <td>SUCCESS: Result available</td>\n",
       "      <td>done</td>\n",
       "      <td>3</td>\n",
       "      <td>None</td>\n",
       "      <td>True</td>\n",
       "      <td>202</td>\n",
       "      <td>False</td>\n",
       "      <td>None</td>\n",
       "      <td>{'establishment': 'Harrods', 'validatedEstablishment': False, 'date': '2019-06-19 13:24:00', 'total': 86.0, 'url': 'harrods.com', 'phoneNumber': '020 7730 1234', 'paymentMethod': '', 'address': 'LONDON S1 ot Road', 'validatedTotal': False, 'subTotal': 86.0, 'validatedSubTotal': True, 'cash': '0.000', 'change': '0.000', 'tax': 0.0, 'discount': 0.0, 'subTotalConfidence': 0.6, 'totalConfidence': 0.0, 'cashConfidence': 0.0, 'changeConfidence': 0.0, 'roundingConfidence': 0.0, 'otherData': [], 'lineItems': [{'qty': 0, 'desc': 'Rewards 0005708615 Saving FRAGRANCE', 'unit': '', 'price': 0.0, 'descClean': 'Rewards Saving FRAGRANCE f8.60', 'lineTotal': 86.0, 'productCode': '0005708615'}], 'summaryItems': [{'qty': 0, 'desc': 'Sub Total', 'unit': '', 'price': 0.0, 'descClean': 'Sub Total', 'lineTotal': 86.0, 'productCode': ''}, {'qty': 1, 'desc': 'TOTAL ( 1 item )', 'unit': '', 'price': 0.0, 'descClean': 'TOTAL ( item )', 'lineTotal': 77.4, 'productCode': ''}, {'qty': 0, 'desc': 'Chinese Mobile Tendered', 'unit': '', 'price': 0.0, 'descClean': 'Chinese Mobile Tendered', 'lineTotal': 77.4, 'productCode': ''}, {'qty': 0, 'desc': 'Rewards Points balance', 'unit': '', 'price': 0.0, 'descClean': 'Rewards Points balance', 'lineTotal': 194.8, 'productCode': ''}]}</td>\n",
       "    </tr>\n",
       "  </tbody>\n",
       "</table>\n",
       "</div>"
      ],
      "text/plain": [
       "                     message status  status_code token  success  code  \\\n",
       "0  SUCCESS: Result available   done            3  None     True   202   \n",
       "1  SUCCESS: Result available   done            3  None     True   202   \n",
       "\n",
       "   duplicate duplicateToken  \\\n",
       "0      False           None   \n",
       "1      False           None   \n",
       "\n",
       "                                                                                                                                                                                                                                                                                                                                                                                                                                                                                                                                                                                                                                                                                                                                                                                                                                                                                                                                                                                                                                                                                                                                                                                                                                                                                                                                                          result  \n",
       "0  {'establishment': 'Selfridges', 'validatedEstablishment': False, 'date': '2019-06-14 18:20:00', 'total': 30.0, 'url': 'www.selfridges.com', 'phoneNumber': '8569 4004156', 'paymentMethod': 'VISA', 'address': '400 Oxford Street London W1A 1AB', 'validatedTotal': False, 'subTotal': 30.0, 'validatedSubTotal': True, 'cash': '0.000', 'change': '0.000', 'tax': 0.0, 'discount': 0.0, 'subTotalConfidence': 0.99, 'totalConfidence': 0.7, 'cashConfidence': 0.0, 'changeConfidence': 0.0, 'roundingConfidence': 0.0, 'otherData': [], 'lineItems': [{'qty': 0, 'desc': 'FULTON BROLLYMA41568569 400415685692', 'unit': '', 'price': 0.0, 'descClean': 'You 193 were served by : Ines FULTON BROLLYMA 400415685692', 'lineTotal': 18.0, 'productCode': '41568569'}, {'qty': 0, 'desc': 'JJ DOT HYDR - TRA 82401412', 'unit': '', 'price': 0.0, 'descClean': 'JJ DOT HYDR - TRA', 'lineTotal': 12.0, 'productCode': '82401412'}], 'summaryItems': [{'qty': 2, 'desc': 'Total 2 Items', 'unit': '', 'price': 0.0, 'descClean': 'Total Items', 'lineTotal': 30.0, 'productCode': ''}, {'qty': 0, 'desc': 'Visa', 'unit': '', 'price': 0.0, 'descClean': 'Visa', 'lineTotal': 30.0, 'productCode': ''}, {'qty': 14, 'desc': '009999 Date 14 / 06 / 19', 'unit': '', 'price': 0.0, 'descClean': 'Date / 06 / 19', 'lineTotal': 18.2, 'productCode': '009999'}]}  \n",
       "1                                               {'establishment': 'Harrods', 'validatedEstablishment': False, 'date': '2019-06-19 13:24:00', 'total': 86.0, 'url': 'harrods.com', 'phoneNumber': '020 7730 1234', 'paymentMethod': '', 'address': 'LONDON S1 ot Road', 'validatedTotal': False, 'subTotal': 86.0, 'validatedSubTotal': True, 'cash': '0.000', 'change': '0.000', 'tax': 0.0, 'discount': 0.0, 'subTotalConfidence': 0.6, 'totalConfidence': 0.0, 'cashConfidence': 0.0, 'changeConfidence': 0.0, 'roundingConfidence': 0.0, 'otherData': [], 'lineItems': [{'qty': 0, 'desc': 'Rewards 0005708615 Saving FRAGRANCE', 'unit': '', 'price': 0.0, 'descClean': 'Rewards Saving FRAGRANCE f8.60', 'lineTotal': 86.0, 'productCode': '0005708615'}], 'summaryItems': [{'qty': 0, 'desc': 'Sub Total', 'unit': '', 'price': 0.0, 'descClean': 'Sub Total', 'lineTotal': 86.0, 'productCode': ''}, {'qty': 1, 'desc': 'TOTAL ( 1 item )', 'unit': '', 'price': 0.0, 'descClean': 'TOTAL ( item )', 'lineTotal': 77.4, 'productCode': ''}, {'qty': 0, 'desc': 'Chinese Mobile Tendered', 'unit': '', 'price': 0.0, 'descClean': 'Chinese Mobile Tendered', 'lineTotal': 77.4, 'productCode': ''}, {'qty': 0, 'desc': 'Rewards Points balance', 'unit': '', 'price': 0.0, 'descClean': 'Rewards Points balance', 'lineTotal': 194.8, 'productCode': ''}]}  "
      ]
     },
     "execution_count": 8,
     "metadata": {},
     "output_type": "execute_result"
    }
   ],
   "source": [
    "rawData = dfc.rawData\n",
    "parsedRawData = rawData.apply(json.loads).apply(pd.Series)\n",
    "parsedRawData.head(2)"
   ]
  },
  {
   "cell_type": "code",
   "execution_count": 9,
   "metadata": {},
   "outputs": [],
   "source": [
    "joined = df.join(parsedRawData)\n",
    "data = joined.filter(['retailerName', 'result'])"
   ]
  },
  {
   "cell_type": "code",
   "execution_count": 10,
   "metadata": {},
   "outputs": [
    {
     "data": {
      "text/html": [
       "<div>\n",
       "<style scoped>\n",
       "    .dataframe tbody tr th:only-of-type {\n",
       "        vertical-align: middle;\n",
       "    }\n",
       "\n",
       "    .dataframe tbody tr th {\n",
       "        vertical-align: top;\n",
       "    }\n",
       "\n",
       "    .dataframe thead th {\n",
       "        text-align: right;\n",
       "    }\n",
       "</style>\n",
       "<table border=\"1\" class=\"dataframe\">\n",
       "  <thead>\n",
       "    <tr style=\"text-align: right;\">\n",
       "      <th></th>\n",
       "      <th>establishment</th>\n",
       "      <th>retailerName</th>\n",
       "    </tr>\n",
       "  </thead>\n",
       "  <tbody>\n",
       "    <tr>\n",
       "      <th>0</th>\n",
       "      <td>Selfridges</td>\n",
       "      <td>Selfridges</td>\n",
       "    </tr>\n",
       "    <tr>\n",
       "      <th>1</th>\n",
       "      <td>Harrods</td>\n",
       "      <td>Harrods</td>\n",
       "    </tr>\n",
       "    <tr>\n",
       "      <th>2</th>\n",
       "      <td>Boots</td>\n",
       "      <td>Boots</td>\n",
       "    </tr>\n",
       "    <tr>\n",
       "      <th>3</th>\n",
       "      <td>Selfridges</td>\n",
       "      <td>Selfridges</td>\n",
       "    </tr>\n",
       "    <tr>\n",
       "      <th>4</th>\n",
       "      <td>John Lewis</td>\n",
       "      <td>John Lewis</td>\n",
       "    </tr>\n",
       "  </tbody>\n",
       "</table>\n",
       "</div>"
      ],
      "text/plain": [
       "  establishment retailerName\n",
       "0    Selfridges   Selfridges\n",
       "1       Harrods      Harrods\n",
       "2         Boots        Boots\n",
       "3    Selfridges   Selfridges\n",
       "4    John Lewis   John Lewis"
      ]
     },
     "execution_count": 10,
     "metadata": {},
     "output_type": "execute_result"
    }
   ],
   "source": [
    "# parse json result field and add columns to dataframe\n",
    "parsedResult = data.result.apply(pd.Series)\n",
    "joined = df.join(parsedResult)\n",
    "\n",
    "# filter so that we get only features and labels to train the model\n",
    "data = joined.filter(['establishment', 'retailerName'])\n",
    "data.head(5)"
   ]
  },
  {
   "cell_type": "code",
   "execution_count": 11,
   "metadata": {},
   "outputs": [
    {
     "data": {
      "text/html": [
       "<div>\n",
       "<style scoped>\n",
       "    .dataframe tbody tr th:only-of-type {\n",
       "        vertical-align: middle;\n",
       "    }\n",
       "\n",
       "    .dataframe tbody tr th {\n",
       "        vertical-align: top;\n",
       "    }\n",
       "\n",
       "    .dataframe thead th {\n",
       "        text-align: right;\n",
       "    }\n",
       "</style>\n",
       "<table border=\"1\" class=\"dataframe\">\n",
       "  <thead>\n",
       "    <tr style=\"text-align: right;\">\n",
       "      <th></th>\n",
       "      <th>establishment</th>\n",
       "      <th>retailerName</th>\n",
       "    </tr>\n",
       "  </thead>\n",
       "  <tbody>\n",
       "    <tr>\n",
       "      <th>685</th>\n",
       "      <td>NaN</td>\n",
       "      <td>Boots</td>\n",
       "    </tr>\n",
       "    <tr>\n",
       "      <th>1326</th>\n",
       "      <td>NaN</td>\n",
       "      <td>Boots</td>\n",
       "    </tr>\n",
       "  </tbody>\n",
       "</table>\n",
       "</div>"
      ],
      "text/plain": [
       "     establishment retailerName\n",
       "685            NaN        Boots\n",
       "1326           NaN        Boots"
      ]
     },
     "execution_count": 11,
     "metadata": {},
     "output_type": "execute_result"
    }
   ],
   "source": [
    "ignore = data[data.establishment.apply(lambda x: not isinstance(x, str))]\n",
    "ignore.head(2)"
   ]
  },
  {
   "cell_type": "code",
   "execution_count": 12,
   "metadata": {},
   "outputs": [
    {
     "data": {
      "text/html": [
       "<div>\n",
       "<style scoped>\n",
       "    .dataframe tbody tr th:only-of-type {\n",
       "        vertical-align: middle;\n",
       "    }\n",
       "\n",
       "    .dataframe tbody tr th {\n",
       "        vertical-align: top;\n",
       "    }\n",
       "\n",
       "    .dataframe thead th {\n",
       "        text-align: right;\n",
       "    }\n",
       "</style>\n",
       "<table border=\"1\" class=\"dataframe\">\n",
       "  <thead>\n",
       "    <tr style=\"text-align: right;\">\n",
       "      <th></th>\n",
       "      <th>establishment</th>\n",
       "      <th>retailerName</th>\n",
       "    </tr>\n",
       "  </thead>\n",
       "  <tbody>\n",
       "  </tbody>\n",
       "</table>\n",
       "</div>"
      ],
      "text/plain": [
       "Empty DataFrame\n",
       "Columns: [establishment, retailerName]\n",
       "Index: []"
      ]
     },
     "execution_count": 12,
     "metadata": {},
     "output_type": "execute_result"
    }
   ],
   "source": [
    "ignore = data[data.retailerName.apply(lambda x: not isinstance(x, str))]\n",
    "ignore.head(2)"
   ]
  },
  {
   "cell_type": "code",
   "execution_count": 13,
   "metadata": {},
   "outputs": [
    {
     "data": {
      "text/html": [
       "<div>\n",
       "<style scoped>\n",
       "    .dataframe tbody tr th:only-of-type {\n",
       "        vertical-align: middle;\n",
       "    }\n",
       "\n",
       "    .dataframe tbody tr th {\n",
       "        vertical-align: top;\n",
       "    }\n",
       "\n",
       "    .dataframe thead th {\n",
       "        text-align: right;\n",
       "    }\n",
       "</style>\n",
       "<table border=\"1\" class=\"dataframe\">\n",
       "  <thead>\n",
       "    <tr style=\"text-align: right;\">\n",
       "      <th></th>\n",
       "      <th>establishment</th>\n",
       "      <th>retailerName</th>\n",
       "    </tr>\n",
       "  </thead>\n",
       "  <tbody>\n",
       "    <tr>\n",
       "      <th>0</th>\n",
       "      <td>Selfridges</td>\n",
       "      <td>Selfridges</td>\n",
       "    </tr>\n",
       "    <tr>\n",
       "      <th>1</th>\n",
       "      <td>Harrods</td>\n",
       "      <td>Harrods</td>\n",
       "    </tr>\n",
       "    <tr>\n",
       "      <th>2</th>\n",
       "      <td>Boots</td>\n",
       "      <td>Boots</td>\n",
       "    </tr>\n",
       "    <tr>\n",
       "      <th>3</th>\n",
       "      <td>Selfridges</td>\n",
       "      <td>Selfridges</td>\n",
       "    </tr>\n",
       "    <tr>\n",
       "      <th>4</th>\n",
       "      <td>John Lewis</td>\n",
       "      <td>John Lewis</td>\n",
       "    </tr>\n",
       "    <tr>\n",
       "      <th>5</th>\n",
       "      <td>Selfridges</td>\n",
       "      <td>Selfridges</td>\n",
       "    </tr>\n",
       "    <tr>\n",
       "      <th>6</th>\n",
       "      <td>HOLLAND &amp; BARRETT</td>\n",
       "      <td>Holland &amp; Barrett</td>\n",
       "    </tr>\n",
       "    <tr>\n",
       "      <th>7</th>\n",
       "      <td>Selfridges</td>\n",
       "      <td>Selfridges</td>\n",
       "    </tr>\n",
       "    <tr>\n",
       "      <th>8</th>\n",
       "      <td>Selfridges</td>\n",
       "      <td>Selfridges</td>\n",
       "    </tr>\n",
       "    <tr>\n",
       "      <th>9</th>\n",
       "      <td>John Lewis</td>\n",
       "      <td>John Lewis</td>\n",
       "    </tr>\n",
       "  </tbody>\n",
       "</table>\n",
       "</div>"
      ],
      "text/plain": [
       "       establishment       retailerName\n",
       "0         Selfridges         Selfridges\n",
       "1            Harrods            Harrods\n",
       "2              Boots              Boots\n",
       "3         Selfridges         Selfridges\n",
       "4         John Lewis         John Lewis\n",
       "5         Selfridges         Selfridges\n",
       "6  HOLLAND & BARRETT  Holland & Barrett\n",
       "7         Selfridges         Selfridges\n",
       "8         Selfridges         Selfridges\n",
       "9         John Lewis         John Lewis"
      ]
     },
     "execution_count": 13,
     "metadata": {},
     "output_type": "execute_result"
    }
   ],
   "source": [
    "data = data[data.establishment.apply(lambda x: isinstance(x, str))]\n",
    "# data = data[data.retailerName.apply(lambda x: isinstance(x, str))]\n",
    "data.head(10)"
   ]
  },
  {
   "cell_type": "code",
   "execution_count": 14,
   "metadata": {},
   "outputs": [
    {
     "data": {
      "text/plain": [
       "(1397, 5585, 6982)"
      ]
     },
     "execution_count": 14,
     "metadata": {},
     "output_type": "execute_result"
    }
   ],
   "source": [
    "# get train and test dataset\n",
    "train_size = int(len(data) * .8)\n",
    "train_ocr = data['establishment'][:train_size]\n",
    "train_tags = data['retailerName'][:train_size]\n",
    "test_ocr = data['establishment'][train_size:]\n",
    "test_tags = data['retailerName'][train_size:]\n",
    "\n",
    "test_tags.size, train_size, len(data)"
   ]
  },
  {
   "cell_type": "code",
   "execution_count": 15,
   "metadata": {},
   "outputs": [
    {
     "data": {
      "text/plain": [
       "0           Selfridges\n",
       "1              Harrods\n",
       "2                Boots\n",
       "3           Selfridges\n",
       "4           John Lewis\n",
       "5           Selfridges\n",
       "6    HOLLAND & BARRETT\n",
       "7           Selfridges\n",
       "8           Selfridges\n",
       "9           John Lewis\n",
       "Name: establishment, dtype: object"
      ]
     },
     "execution_count": 15,
     "metadata": {},
     "output_type": "execute_result"
    }
   ],
   "source": [
    "train_ocr.head(10)"
   ]
  },
  {
   "cell_type": "code",
   "execution_count": 16,
   "metadata": {},
   "outputs": [],
   "source": [
    "# use bag of words model\n",
    "max_words = 1000\n",
    "tokenize = Tokenizer(num_words=max_words, char_level=False)\n",
    "tokenize.fit_on_texts(train_ocr)"
   ]
  },
  {
   "cell_type": "code",
   "execution_count": 17,
   "metadata": {},
   "outputs": [],
   "source": [
    "x_train = tokenize.texts_to_matrix(train_ocr)\n",
    "x_test = tokenize.texts_to_matrix(test_ocr)\n",
    "\n",
    "# x_train[0]"
   ]
  },
  {
   "cell_type": "code",
   "execution_count": 18,
   "metadata": {},
   "outputs": [
    {
     "data": {
      "text/plain": [
       "array([1, 6, 5, ..., 2, 5, 5])"
      ]
     },
     "execution_count": 18,
     "metadata": {},
     "output_type": "execute_result"
    }
   ],
   "source": [
    "# Use sklearn utility to convert label strings to numbered index\n",
    "encoder = LabelEncoder()\n",
    "encoder.fit(train_tags)\n",
    "y_train = encoder.transform(train_tags)\n",
    "y_test = encoder.transform(test_tags)\n",
    "\n",
    "y_test"
   ]
  },
  {
   "cell_type": "code",
   "execution_count": 19,
   "metadata": {},
   "outputs": [
    {
     "data": {
      "text/plain": [
       "array([[0., 1., 0., ..., 0., 0., 0.],\n",
       "       [0., 0., 0., ..., 0., 0., 1.],\n",
       "       [0., 0., 0., ..., 0., 1., 0.],\n",
       "       ...,\n",
       "       [0., 0., 1., ..., 0., 0., 0.],\n",
       "       [0., 0., 0., ..., 0., 1., 0.],\n",
       "       [0., 0., 0., ..., 0., 1., 0.]], dtype=float32)"
      ]
     },
     "execution_count": 19,
     "metadata": {},
     "output_type": "execute_result"
    }
   ],
   "source": [
    "# Converts the labels to a one-hot representation\n",
    "num_classes = np.max(y_train) + 1\n",
    "y_train_cat = to_categorical(y_train, num_classes)\n",
    "y_test_cat = to_categorical(y_test, num_classes)\n",
    "y_test_cat"
   ]
  },
  {
   "cell_type": "code",
   "execution_count": 20,
   "metadata": {},
   "outputs": [
    {
     "name": "stdout",
     "output_type": "stream",
     "text": [
      "x_train shape: (5585, 1000)\n",
      "x_test shape: (1397, 1000)\n",
      "y_train_cat shape: (5585, 7)\n",
      "y_test_cat shape: (1397, 7)\n"
     ]
    }
   ],
   "source": [
    "# Inspect the dimensions of our training and test data (this is helpful to debug)\n",
    "print('x_train shape:', x_train.shape)\n",
    "print('x_test shape:', x_test.shape)\n",
    "print('y_train_cat shape:', y_train_cat.shape)\n",
    "print('y_test_cat shape:', y_test_cat.shape)"
   ]
  },
  {
   "cell_type": "code",
   "execution_count": 21,
   "metadata": {},
   "outputs": [],
   "source": [
    "batch_size = 32\n",
    "epochs = 4"
   ]
  },
  {
   "cell_type": "code",
   "execution_count": 22,
   "metadata": {},
   "outputs": [],
   "source": [
    "# Build the model\n",
    "model = keras.Sequential(\n",
    "    [\n",
    "        layers.Dense(2, input_shape=(max_words,),activation=\"relu\", name=\"layer1\"),\n",
    "        layers.Dense(3, activation=\"relu\", name=\"layer2\"),\n",
    "        layers.Dense(4, name=\"layer3\"),\n",
    "    ]\n",
    ")\n",
    "x = tf.ones((0, 1000))\n",
    "y = model(x)\n",
    "\n",
    "# model = keras.Sequential()\n",
    "# model.add(layers.Dense(512, input_shape=(max_words,)))\n",
    "# model.add(Activation('relu'))\n",
    "# model.add(Dropout(0.5))\n",
    "# model.add(Dense(num_classes))\n",
    "# model.add(Activation('softmax'))\n"
   ]
  },
  {
   "cell_type": "code",
   "execution_count": 23,
   "metadata": {},
   "outputs": [],
   "source": [
    "model.compile(loss='categorical_crossentropy',\n",
    "              optimizer='adam',\n",
    "              metrics=['accuracy'])"
   ]
  },
  {
   "cell_type": "code",
   "execution_count": 24,
   "metadata": {},
   "outputs": [
    {
     "name": "stdout",
     "output_type": "stream",
     "text": [
      "Epoch 1/4\n"
     ]
    },
    {
     "ename": "ValueError",
     "evalue": "in user code:\n\n    /opt/conda/lib/python3.8/site-packages/tensorflow/python/keras/engine/training.py:571 train_function  *\n        outputs = self.distribute_strategy.run(\n    /opt/conda/lib/python3.8/site-packages/tensorflow/python/distribute/distribute_lib.py:951 run  **\n        return self._extended.call_for_each_replica(fn, args=args, kwargs=kwargs)\n    /opt/conda/lib/python3.8/site-packages/tensorflow/python/distribute/distribute_lib.py:2290 call_for_each_replica\n        return self._call_for_each_replica(fn, args, kwargs)\n    /opt/conda/lib/python3.8/site-packages/tensorflow/python/distribute/distribute_lib.py:2649 _call_for_each_replica\n        return fn(*args, **kwargs)\n    /opt/conda/lib/python3.8/site-packages/tensorflow/python/keras/engine/training.py:532 train_step  **\n        loss = self.compiled_loss(\n    /opt/conda/lib/python3.8/site-packages/tensorflow/python/keras/engine/compile_utils.py:205 __call__\n        loss_value = loss_obj(y_t, y_p, sample_weight=sw)\n    /opt/conda/lib/python3.8/site-packages/tensorflow/python/keras/losses.py:143 __call__\n        losses = self.call(y_true, y_pred)\n    /opt/conda/lib/python3.8/site-packages/tensorflow/python/keras/losses.py:246 call\n        return self.fn(y_true, y_pred, **self._fn_kwargs)\n    /opt/conda/lib/python3.8/site-packages/tensorflow/python/keras/losses.py:1527 categorical_crossentropy\n        return K.categorical_crossentropy(y_true, y_pred, from_logits=from_logits)\n    /opt/conda/lib/python3.8/site-packages/tensorflow/python/keras/backend.py:4561 categorical_crossentropy\n        target.shape.assert_is_compatible_with(output.shape)\n    /opt/conda/lib/python3.8/site-packages/tensorflow/python/framework/tensor_shape.py:1117 assert_is_compatible_with\n        raise ValueError(\"Shapes %s and %s are incompatible\" % (self, other))\n\n    ValueError: Shapes (None, 7) and (None, 4) are incompatible\n",
     "output_type": "error",
     "traceback": [
      "\u001b[0;31m---------------------------------------------------------------------------\u001b[0m",
      "\u001b[0;31mValueError\u001b[0m                                Traceback (most recent call last)",
      "\u001b[0;32m<ipython-input-24-f306ada1d3dd>\u001b[0m in \u001b[0;36m<module>\u001b[0;34m\u001b[0m\n\u001b[1;32m      1\u001b[0m \u001b[0;31m# train the model\u001b[0m\u001b[0;34m\u001b[0m\u001b[0;34m\u001b[0m\u001b[0;34m\u001b[0m\u001b[0m\n\u001b[0;32m----> 2\u001b[0;31m history = model.fit(x_train, y_train_cat,\n\u001b[0m\u001b[1;32m      3\u001b[0m                     \u001b[0mbatch_size\u001b[0m\u001b[0;34m=\u001b[0m\u001b[0mbatch_size\u001b[0m\u001b[0;34m,\u001b[0m\u001b[0;34m\u001b[0m\u001b[0;34m\u001b[0m\u001b[0m\n\u001b[1;32m      4\u001b[0m                     \u001b[0mepochs\u001b[0m\u001b[0;34m=\u001b[0m\u001b[0mepochs\u001b[0m\u001b[0;34m,\u001b[0m\u001b[0;34m\u001b[0m\u001b[0;34m\u001b[0m\u001b[0m\n\u001b[1;32m      5\u001b[0m                     \u001b[0mverbose\u001b[0m\u001b[0;34m=\u001b[0m\u001b[0;36m1\u001b[0m\u001b[0;34m,\u001b[0m\u001b[0;34m\u001b[0m\u001b[0;34m\u001b[0m\u001b[0m\n",
      "\u001b[0;32m/opt/conda/lib/python3.8/site-packages/tensorflow/python/keras/engine/training.py\u001b[0m in \u001b[0;36m_method_wrapper\u001b[0;34m(self, *args, **kwargs)\u001b[0m\n\u001b[1;32m     64\u001b[0m   \u001b[0;32mdef\u001b[0m \u001b[0m_method_wrapper\u001b[0m\u001b[0;34m(\u001b[0m\u001b[0mself\u001b[0m\u001b[0;34m,\u001b[0m \u001b[0;34m*\u001b[0m\u001b[0margs\u001b[0m\u001b[0;34m,\u001b[0m \u001b[0;34m**\u001b[0m\u001b[0mkwargs\u001b[0m\u001b[0;34m)\u001b[0m\u001b[0;34m:\u001b[0m\u001b[0;34m\u001b[0m\u001b[0;34m\u001b[0m\u001b[0m\n\u001b[1;32m     65\u001b[0m     \u001b[0;32mif\u001b[0m \u001b[0;32mnot\u001b[0m \u001b[0mself\u001b[0m\u001b[0;34m.\u001b[0m\u001b[0m_in_multi_worker_mode\u001b[0m\u001b[0;34m(\u001b[0m\u001b[0;34m)\u001b[0m\u001b[0;34m:\u001b[0m  \u001b[0;31m# pylint: disable=protected-access\u001b[0m\u001b[0;34m\u001b[0m\u001b[0;34m\u001b[0m\u001b[0m\n\u001b[0;32m---> 66\u001b[0;31m       \u001b[0;32mreturn\u001b[0m \u001b[0mmethod\u001b[0m\u001b[0;34m(\u001b[0m\u001b[0mself\u001b[0m\u001b[0;34m,\u001b[0m \u001b[0;34m*\u001b[0m\u001b[0margs\u001b[0m\u001b[0;34m,\u001b[0m \u001b[0;34m**\u001b[0m\u001b[0mkwargs\u001b[0m\u001b[0;34m)\u001b[0m\u001b[0;34m\u001b[0m\u001b[0;34m\u001b[0m\u001b[0m\n\u001b[0m\u001b[1;32m     67\u001b[0m \u001b[0;34m\u001b[0m\u001b[0m\n\u001b[1;32m     68\u001b[0m     \u001b[0;31m# Running inside `run_distribute_coordinator` already.\u001b[0m\u001b[0;34m\u001b[0m\u001b[0;34m\u001b[0m\u001b[0;34m\u001b[0m\u001b[0m\n",
      "\u001b[0;32m/opt/conda/lib/python3.8/site-packages/tensorflow/python/keras/engine/training.py\u001b[0m in \u001b[0;36mfit\u001b[0;34m(self, x, y, batch_size, epochs, verbose, callbacks, validation_split, validation_data, shuffle, class_weight, sample_weight, initial_epoch, steps_per_epoch, validation_steps, validation_batch_size, validation_freq, max_queue_size, workers, use_multiprocessing)\u001b[0m\n\u001b[1;32m    846\u001b[0m                 batch_size=batch_size):\n\u001b[1;32m    847\u001b[0m               \u001b[0mcallbacks\u001b[0m\u001b[0;34m.\u001b[0m\u001b[0mon_train_batch_begin\u001b[0m\u001b[0;34m(\u001b[0m\u001b[0mstep\u001b[0m\u001b[0;34m)\u001b[0m\u001b[0;34m\u001b[0m\u001b[0;34m\u001b[0m\u001b[0m\n\u001b[0;32m--> 848\u001b[0;31m               \u001b[0mtmp_logs\u001b[0m \u001b[0;34m=\u001b[0m \u001b[0mtrain_function\u001b[0m\u001b[0;34m(\u001b[0m\u001b[0miterator\u001b[0m\u001b[0;34m)\u001b[0m\u001b[0;34m\u001b[0m\u001b[0;34m\u001b[0m\u001b[0m\n\u001b[0m\u001b[1;32m    849\u001b[0m               \u001b[0;31m# Catch OutOfRangeError for Datasets of unknown size.\u001b[0m\u001b[0;34m\u001b[0m\u001b[0;34m\u001b[0m\u001b[0;34m\u001b[0m\u001b[0m\n\u001b[1;32m    850\u001b[0m               \u001b[0;31m# This blocks until the batch has finished executing.\u001b[0m\u001b[0;34m\u001b[0m\u001b[0;34m\u001b[0m\u001b[0;34m\u001b[0m\u001b[0m\n",
      "\u001b[0;32m/opt/conda/lib/python3.8/site-packages/tensorflow/python/eager/def_function.py\u001b[0m in \u001b[0;36m__call__\u001b[0;34m(self, *args, **kwds)\u001b[0m\n\u001b[1;32m    578\u001b[0m         \u001b[0mxla_context\u001b[0m\u001b[0;34m.\u001b[0m\u001b[0mExit\u001b[0m\u001b[0;34m(\u001b[0m\u001b[0;34m)\u001b[0m\u001b[0;34m\u001b[0m\u001b[0;34m\u001b[0m\u001b[0m\n\u001b[1;32m    579\u001b[0m     \u001b[0;32melse\u001b[0m\u001b[0;34m:\u001b[0m\u001b[0;34m\u001b[0m\u001b[0;34m\u001b[0m\u001b[0m\n\u001b[0;32m--> 580\u001b[0;31m       \u001b[0mresult\u001b[0m \u001b[0;34m=\u001b[0m \u001b[0mself\u001b[0m\u001b[0;34m.\u001b[0m\u001b[0m_call\u001b[0m\u001b[0;34m(\u001b[0m\u001b[0;34m*\u001b[0m\u001b[0margs\u001b[0m\u001b[0;34m,\u001b[0m \u001b[0;34m**\u001b[0m\u001b[0mkwds\u001b[0m\u001b[0;34m)\u001b[0m\u001b[0;34m\u001b[0m\u001b[0;34m\u001b[0m\u001b[0m\n\u001b[0m\u001b[1;32m    581\u001b[0m \u001b[0;34m\u001b[0m\u001b[0m\n\u001b[1;32m    582\u001b[0m     \u001b[0;32mif\u001b[0m \u001b[0mtracing_count\u001b[0m \u001b[0;34m==\u001b[0m \u001b[0mself\u001b[0m\u001b[0;34m.\u001b[0m\u001b[0m_get_tracing_count\u001b[0m\u001b[0;34m(\u001b[0m\u001b[0;34m)\u001b[0m\u001b[0;34m:\u001b[0m\u001b[0;34m\u001b[0m\u001b[0;34m\u001b[0m\u001b[0m\n",
      "\u001b[0;32m/opt/conda/lib/python3.8/site-packages/tensorflow/python/eager/def_function.py\u001b[0m in \u001b[0;36m_call\u001b[0;34m(self, *args, **kwds)\u001b[0m\n\u001b[1;32m    625\u001b[0m       \u001b[0;31m# This is the first call of __call__, so we have to initialize.\u001b[0m\u001b[0;34m\u001b[0m\u001b[0;34m\u001b[0m\u001b[0;34m\u001b[0m\u001b[0m\n\u001b[1;32m    626\u001b[0m       \u001b[0minitializers\u001b[0m \u001b[0;34m=\u001b[0m \u001b[0;34m[\u001b[0m\u001b[0;34m]\u001b[0m\u001b[0;34m\u001b[0m\u001b[0;34m\u001b[0m\u001b[0m\n\u001b[0;32m--> 627\u001b[0;31m       \u001b[0mself\u001b[0m\u001b[0;34m.\u001b[0m\u001b[0m_initialize\u001b[0m\u001b[0;34m(\u001b[0m\u001b[0margs\u001b[0m\u001b[0;34m,\u001b[0m \u001b[0mkwds\u001b[0m\u001b[0;34m,\u001b[0m \u001b[0madd_initializers_to\u001b[0m\u001b[0;34m=\u001b[0m\u001b[0minitializers\u001b[0m\u001b[0;34m)\u001b[0m\u001b[0;34m\u001b[0m\u001b[0;34m\u001b[0m\u001b[0m\n\u001b[0m\u001b[1;32m    628\u001b[0m     \u001b[0;32mfinally\u001b[0m\u001b[0;34m:\u001b[0m\u001b[0;34m\u001b[0m\u001b[0;34m\u001b[0m\u001b[0m\n\u001b[1;32m    629\u001b[0m       \u001b[0;31m# At this point we know that the initialization is complete (or less\u001b[0m\u001b[0;34m\u001b[0m\u001b[0;34m\u001b[0m\u001b[0;34m\u001b[0m\u001b[0m\n",
      "\u001b[0;32m/opt/conda/lib/python3.8/site-packages/tensorflow/python/eager/def_function.py\u001b[0m in \u001b[0;36m_initialize\u001b[0;34m(self, args, kwds, add_initializers_to)\u001b[0m\n\u001b[1;32m    503\u001b[0m     \u001b[0mself\u001b[0m\u001b[0;34m.\u001b[0m\u001b[0m_graph_deleter\u001b[0m \u001b[0;34m=\u001b[0m \u001b[0mFunctionDeleter\u001b[0m\u001b[0;34m(\u001b[0m\u001b[0mself\u001b[0m\u001b[0;34m.\u001b[0m\u001b[0m_lifted_initializer_graph\u001b[0m\u001b[0;34m)\u001b[0m\u001b[0;34m\u001b[0m\u001b[0;34m\u001b[0m\u001b[0m\n\u001b[1;32m    504\u001b[0m     self._concrete_stateful_fn = (\n\u001b[0;32m--> 505\u001b[0;31m         self._stateful_fn._get_concrete_function_internal_garbage_collected(  # pylint: disable=protected-access\n\u001b[0m\u001b[1;32m    506\u001b[0m             *args, **kwds))\n\u001b[1;32m    507\u001b[0m \u001b[0;34m\u001b[0m\u001b[0m\n",
      "\u001b[0;32m/opt/conda/lib/python3.8/site-packages/tensorflow/python/eager/function.py\u001b[0m in \u001b[0;36m_get_concrete_function_internal_garbage_collected\u001b[0;34m(self, *args, **kwargs)\u001b[0m\n\u001b[1;32m   2444\u001b[0m       \u001b[0margs\u001b[0m\u001b[0;34m,\u001b[0m \u001b[0mkwargs\u001b[0m \u001b[0;34m=\u001b[0m \u001b[0;32mNone\u001b[0m\u001b[0;34m,\u001b[0m \u001b[0;32mNone\u001b[0m\u001b[0;34m\u001b[0m\u001b[0;34m\u001b[0m\u001b[0m\n\u001b[1;32m   2445\u001b[0m     \u001b[0;32mwith\u001b[0m \u001b[0mself\u001b[0m\u001b[0;34m.\u001b[0m\u001b[0m_lock\u001b[0m\u001b[0;34m:\u001b[0m\u001b[0;34m\u001b[0m\u001b[0;34m\u001b[0m\u001b[0m\n\u001b[0;32m-> 2446\u001b[0;31m       \u001b[0mgraph_function\u001b[0m\u001b[0;34m,\u001b[0m \u001b[0m_\u001b[0m\u001b[0;34m,\u001b[0m \u001b[0m_\u001b[0m \u001b[0;34m=\u001b[0m \u001b[0mself\u001b[0m\u001b[0;34m.\u001b[0m\u001b[0m_maybe_define_function\u001b[0m\u001b[0;34m(\u001b[0m\u001b[0margs\u001b[0m\u001b[0;34m,\u001b[0m \u001b[0mkwargs\u001b[0m\u001b[0;34m)\u001b[0m\u001b[0;34m\u001b[0m\u001b[0;34m\u001b[0m\u001b[0m\n\u001b[0m\u001b[1;32m   2447\u001b[0m     \u001b[0;32mreturn\u001b[0m \u001b[0mgraph_function\u001b[0m\u001b[0;34m\u001b[0m\u001b[0;34m\u001b[0m\u001b[0m\n\u001b[1;32m   2448\u001b[0m \u001b[0;34m\u001b[0m\u001b[0m\n",
      "\u001b[0;32m/opt/conda/lib/python3.8/site-packages/tensorflow/python/eager/function.py\u001b[0m in \u001b[0;36m_maybe_define_function\u001b[0;34m(self, args, kwargs)\u001b[0m\n\u001b[1;32m   2775\u001b[0m \u001b[0;34m\u001b[0m\u001b[0m\n\u001b[1;32m   2776\u001b[0m       \u001b[0mself\u001b[0m\u001b[0;34m.\u001b[0m\u001b[0m_function_cache\u001b[0m\u001b[0;34m.\u001b[0m\u001b[0mmissed\u001b[0m\u001b[0;34m.\u001b[0m\u001b[0madd\u001b[0m\u001b[0;34m(\u001b[0m\u001b[0mcall_context_key\u001b[0m\u001b[0;34m)\u001b[0m\u001b[0;34m\u001b[0m\u001b[0;34m\u001b[0m\u001b[0m\n\u001b[0;32m-> 2777\u001b[0;31m       \u001b[0mgraph_function\u001b[0m \u001b[0;34m=\u001b[0m \u001b[0mself\u001b[0m\u001b[0;34m.\u001b[0m\u001b[0m_create_graph_function\u001b[0m\u001b[0;34m(\u001b[0m\u001b[0margs\u001b[0m\u001b[0;34m,\u001b[0m \u001b[0mkwargs\u001b[0m\u001b[0;34m)\u001b[0m\u001b[0;34m\u001b[0m\u001b[0;34m\u001b[0m\u001b[0m\n\u001b[0m\u001b[1;32m   2778\u001b[0m       \u001b[0mself\u001b[0m\u001b[0;34m.\u001b[0m\u001b[0m_function_cache\u001b[0m\u001b[0;34m.\u001b[0m\u001b[0mprimary\u001b[0m\u001b[0;34m[\u001b[0m\u001b[0mcache_key\u001b[0m\u001b[0;34m]\u001b[0m \u001b[0;34m=\u001b[0m \u001b[0mgraph_function\u001b[0m\u001b[0;34m\u001b[0m\u001b[0;34m\u001b[0m\u001b[0m\n\u001b[1;32m   2779\u001b[0m       \u001b[0;32mreturn\u001b[0m \u001b[0mgraph_function\u001b[0m\u001b[0;34m,\u001b[0m \u001b[0margs\u001b[0m\u001b[0;34m,\u001b[0m \u001b[0mkwargs\u001b[0m\u001b[0;34m\u001b[0m\u001b[0;34m\u001b[0m\u001b[0m\n",
      "\u001b[0;32m/opt/conda/lib/python3.8/site-packages/tensorflow/python/eager/function.py\u001b[0m in \u001b[0;36m_create_graph_function\u001b[0;34m(self, args, kwargs, override_flat_arg_shapes)\u001b[0m\n\u001b[1;32m   2655\u001b[0m     \u001b[0marg_names\u001b[0m \u001b[0;34m=\u001b[0m \u001b[0mbase_arg_names\u001b[0m \u001b[0;34m+\u001b[0m \u001b[0mmissing_arg_names\u001b[0m\u001b[0;34m\u001b[0m\u001b[0;34m\u001b[0m\u001b[0m\n\u001b[1;32m   2656\u001b[0m     graph_function = ConcreteFunction(\n\u001b[0;32m-> 2657\u001b[0;31m         func_graph_module.func_graph_from_py_func(\n\u001b[0m\u001b[1;32m   2658\u001b[0m             \u001b[0mself\u001b[0m\u001b[0;34m.\u001b[0m\u001b[0m_name\u001b[0m\u001b[0;34m,\u001b[0m\u001b[0;34m\u001b[0m\u001b[0;34m\u001b[0m\u001b[0m\n\u001b[1;32m   2659\u001b[0m             \u001b[0mself\u001b[0m\u001b[0;34m.\u001b[0m\u001b[0m_python_function\u001b[0m\u001b[0;34m,\u001b[0m\u001b[0;34m\u001b[0m\u001b[0;34m\u001b[0m\u001b[0m\n",
      "\u001b[0;32m/opt/conda/lib/python3.8/site-packages/tensorflow/python/framework/func_graph.py\u001b[0m in \u001b[0;36mfunc_graph_from_py_func\u001b[0;34m(name, python_func, args, kwargs, signature, func_graph, autograph, autograph_options, add_control_dependencies, arg_names, op_return_value, collections, capture_by_value, override_flat_arg_shapes)\u001b[0m\n\u001b[1;32m    979\u001b[0m         \u001b[0m_\u001b[0m\u001b[0;34m,\u001b[0m \u001b[0moriginal_func\u001b[0m \u001b[0;34m=\u001b[0m \u001b[0mtf_decorator\u001b[0m\u001b[0;34m.\u001b[0m\u001b[0munwrap\u001b[0m\u001b[0;34m(\u001b[0m\u001b[0mpython_func\u001b[0m\u001b[0;34m)\u001b[0m\u001b[0;34m\u001b[0m\u001b[0;34m\u001b[0m\u001b[0m\n\u001b[1;32m    980\u001b[0m \u001b[0;34m\u001b[0m\u001b[0m\n\u001b[0;32m--> 981\u001b[0;31m       \u001b[0mfunc_outputs\u001b[0m \u001b[0;34m=\u001b[0m \u001b[0mpython_func\u001b[0m\u001b[0;34m(\u001b[0m\u001b[0;34m*\u001b[0m\u001b[0mfunc_args\u001b[0m\u001b[0;34m,\u001b[0m \u001b[0;34m**\u001b[0m\u001b[0mfunc_kwargs\u001b[0m\u001b[0;34m)\u001b[0m\u001b[0;34m\u001b[0m\u001b[0;34m\u001b[0m\u001b[0m\n\u001b[0m\u001b[1;32m    982\u001b[0m \u001b[0;34m\u001b[0m\u001b[0m\n\u001b[1;32m    983\u001b[0m       \u001b[0;31m# invariant: `func_outputs` contains only Tensors, CompositeTensors,\u001b[0m\u001b[0;34m\u001b[0m\u001b[0;34m\u001b[0m\u001b[0;34m\u001b[0m\u001b[0m\n",
      "\u001b[0;32m/opt/conda/lib/python3.8/site-packages/tensorflow/python/eager/def_function.py\u001b[0m in \u001b[0;36mwrapped_fn\u001b[0;34m(*args, **kwds)\u001b[0m\n\u001b[1;32m    439\u001b[0m         \u001b[0;31m# __wrapped__ allows AutoGraph to swap in a converted function. We give\u001b[0m\u001b[0;34m\u001b[0m\u001b[0;34m\u001b[0m\u001b[0;34m\u001b[0m\u001b[0m\n\u001b[1;32m    440\u001b[0m         \u001b[0;31m# the function a weak reference to itself to avoid a reference cycle.\u001b[0m\u001b[0;34m\u001b[0m\u001b[0;34m\u001b[0m\u001b[0;34m\u001b[0m\u001b[0m\n\u001b[0;32m--> 441\u001b[0;31m         \u001b[0;32mreturn\u001b[0m \u001b[0mweak_wrapped_fn\u001b[0m\u001b[0;34m(\u001b[0m\u001b[0;34m)\u001b[0m\u001b[0;34m.\u001b[0m\u001b[0m__wrapped__\u001b[0m\u001b[0;34m(\u001b[0m\u001b[0;34m*\u001b[0m\u001b[0margs\u001b[0m\u001b[0;34m,\u001b[0m \u001b[0;34m**\u001b[0m\u001b[0mkwds\u001b[0m\u001b[0;34m)\u001b[0m\u001b[0;34m\u001b[0m\u001b[0;34m\u001b[0m\u001b[0m\n\u001b[0m\u001b[1;32m    442\u001b[0m     \u001b[0mweak_wrapped_fn\u001b[0m \u001b[0;34m=\u001b[0m \u001b[0mweakref\u001b[0m\u001b[0;34m.\u001b[0m\u001b[0mref\u001b[0m\u001b[0;34m(\u001b[0m\u001b[0mwrapped_fn\u001b[0m\u001b[0;34m)\u001b[0m\u001b[0;34m\u001b[0m\u001b[0;34m\u001b[0m\u001b[0m\n\u001b[1;32m    443\u001b[0m \u001b[0;34m\u001b[0m\u001b[0m\n",
      "\u001b[0;32m/opt/conda/lib/python3.8/site-packages/tensorflow/python/framework/func_graph.py\u001b[0m in \u001b[0;36mwrapper\u001b[0;34m(*args, **kwargs)\u001b[0m\n\u001b[1;32m    966\u001b[0m           \u001b[0;32mexcept\u001b[0m \u001b[0mException\u001b[0m \u001b[0;32mas\u001b[0m \u001b[0me\u001b[0m\u001b[0;34m:\u001b[0m  \u001b[0;31m# pylint:disable=broad-except\u001b[0m\u001b[0;34m\u001b[0m\u001b[0;34m\u001b[0m\u001b[0m\n\u001b[1;32m    967\u001b[0m             \u001b[0;32mif\u001b[0m \u001b[0mhasattr\u001b[0m\u001b[0;34m(\u001b[0m\u001b[0me\u001b[0m\u001b[0;34m,\u001b[0m \u001b[0;34m\"ag_error_metadata\"\u001b[0m\u001b[0;34m)\u001b[0m\u001b[0;34m:\u001b[0m\u001b[0;34m\u001b[0m\u001b[0;34m\u001b[0m\u001b[0m\n\u001b[0;32m--> 968\u001b[0;31m               \u001b[0;32mraise\u001b[0m \u001b[0me\u001b[0m\u001b[0;34m.\u001b[0m\u001b[0mag_error_metadata\u001b[0m\u001b[0;34m.\u001b[0m\u001b[0mto_exception\u001b[0m\u001b[0;34m(\u001b[0m\u001b[0me\u001b[0m\u001b[0;34m)\u001b[0m\u001b[0;34m\u001b[0m\u001b[0;34m\u001b[0m\u001b[0m\n\u001b[0m\u001b[1;32m    969\u001b[0m             \u001b[0;32melse\u001b[0m\u001b[0;34m:\u001b[0m\u001b[0;34m\u001b[0m\u001b[0;34m\u001b[0m\u001b[0m\n\u001b[1;32m    970\u001b[0m               \u001b[0;32mraise\u001b[0m\u001b[0;34m\u001b[0m\u001b[0;34m\u001b[0m\u001b[0m\n",
      "\u001b[0;31mValueError\u001b[0m: in user code:\n\n    /opt/conda/lib/python3.8/site-packages/tensorflow/python/keras/engine/training.py:571 train_function  *\n        outputs = self.distribute_strategy.run(\n    /opt/conda/lib/python3.8/site-packages/tensorflow/python/distribute/distribute_lib.py:951 run  **\n        return self._extended.call_for_each_replica(fn, args=args, kwargs=kwargs)\n    /opt/conda/lib/python3.8/site-packages/tensorflow/python/distribute/distribute_lib.py:2290 call_for_each_replica\n        return self._call_for_each_replica(fn, args, kwargs)\n    /opt/conda/lib/python3.8/site-packages/tensorflow/python/distribute/distribute_lib.py:2649 _call_for_each_replica\n        return fn(*args, **kwargs)\n    /opt/conda/lib/python3.8/site-packages/tensorflow/python/keras/engine/training.py:532 train_step  **\n        loss = self.compiled_loss(\n    /opt/conda/lib/python3.8/site-packages/tensorflow/python/keras/engine/compile_utils.py:205 __call__\n        loss_value = loss_obj(y_t, y_p, sample_weight=sw)\n    /opt/conda/lib/python3.8/site-packages/tensorflow/python/keras/losses.py:143 __call__\n        losses = self.call(y_true, y_pred)\n    /opt/conda/lib/python3.8/site-packages/tensorflow/python/keras/losses.py:246 call\n        return self.fn(y_true, y_pred, **self._fn_kwargs)\n    /opt/conda/lib/python3.8/site-packages/tensorflow/python/keras/losses.py:1527 categorical_crossentropy\n        return K.categorical_crossentropy(y_true, y_pred, from_logits=from_logits)\n    /opt/conda/lib/python3.8/site-packages/tensorflow/python/keras/backend.py:4561 categorical_crossentropy\n        target.shape.assert_is_compatible_with(output.shape)\n    /opt/conda/lib/python3.8/site-packages/tensorflow/python/framework/tensor_shape.py:1117 assert_is_compatible_with\n        raise ValueError(\"Shapes %s and %s are incompatible\" % (self, other))\n\n    ValueError: Shapes (None, 7) and (None, 4) are incompatible\n"
     ]
    }
   ],
   "source": [
    "# train the model\n",
    "history = model.fit(x_train, y_train_cat,\n",
    "                    batch_size=batch_size,\n",
    "                    epochs=epochs,\n",
    "                    verbose=1,\n",
    "                    validation_split=0.1)"
   ]
  },
  {
   "cell_type": "code",
   "execution_count": null,
   "metadata": {},
   "outputs": [],
   "source": [
    "# evaluate the accuracy\n",
    "score = model.evaluate(x_test, y_test_cat, batch_size=batch_size, verbose=1)\n",
    "print('Test accuracy: {0:.2f}%'.format(score[1] * 100))"
   ]
  },
  {
   "cell_type": "code",
   "execution_count": 25,
   "metadata": {},
   "outputs": [
    {
     "name": "stdout",
     "output_type": "stream",
     "text": [
      "Debelum ...\n",
      "correct:Debenhams\n",
      "predicted: Boots\n",
      "\n",
      "TK Maxx ...\n",
      "correct:TK Maxx\n",
      "predicted: Boots\n",
      "\n",
      "Selfridges ...\n",
      "correct:Selfridges\n",
      "predicted: Boots\n",
      "\n",
      "JOHN LEWIS ...\n",
      "correct:John Lewis\n",
      "predicted: Boots\n",
      "\n",
      "Boots ...\n",
      "correct:Boots\n",
      "predicted: Holland & Barrett\n",
      "\n",
      "Boots ...\n",
      "correct:Boots\n",
      "predicted: Holland & Barrett\n",
      "\n",
      "Harrods ...\n",
      "correct:Harrods\n",
      "predicted: Holland & Barrett\n",
      "\n",
      "Selfridges ...\n",
      "correct:Selfridges\n",
      "predicted: Boots\n",
      "\n",
      "Debenhams ...\n",
      "correct:Debenhams\n",
      "predicted: Harrods\n",
      "\n",
      "HOLLAND & BARRETT ...\n",
      "correct:Holland & Barrett\n",
      "predicted: Holland & Barrett\n",
      "\n"
     ]
    }
   ],
   "source": [
    "text_labels = encoder.classes_ \n",
    "for i in range(10):\n",
    "    prediction = model.predict(np.array([x_test[i]]))\n",
    "    predicted_label = text_labels[np.argmax(prediction)]\n",
    "    print(test_ocr.iloc[i][:50], \"...\")\n",
    "    print('correct:' + test_tags.iloc[i])\n",
    "    print(\"predicted: \" + predicted_label + \"\\n\")"
   ]
  },
  {
   "cell_type": "code",
   "execution_count": 26,
   "metadata": {},
   "outputs": [
    {
     "data": {
      "text/plain": [
       "array(['Boots', 'Debenhams', 'Harrods', 'Holland & Barrett', 'John Lewis',\n",
       "       'Selfridges', 'TK Maxx'], dtype=object)"
      ]
     },
     "execution_count": 26,
     "metadata": {},
     "output_type": "execute_result"
    }
   ],
   "source": [
    "encoder.classes_\n"
   ]
  },
  {
   "cell_type": "code",
   "execution_count": 27,
   "metadata": {},
   "outputs": [
    {
     "name": "stdout",
     "output_type": "stream",
     "text": [
      "predict:[[-0.01592306 -0.05342743  0.03455738  0.06057582]]\n",
      "index:3 \n",
      "label:Holland & Barrett\n"
     ]
    }
   ],
   "source": [
    "encoder.classes_\n",
    "matrix = tokenize.texts_to_matrix(['TK UK'])\n",
    "prediction = model.predict(np.array([matrix[0]]))\n",
    "predicted_label = text_labels[np.argmax(prediction)]\n",
    "print(\"predict:{0}\\nindex:{1} \\nlabel:{2}\".format(prediction, np.argmax(prediction), predicted_label))"
   ]
  },
  {
   "cell_type": "code",
   "execution_count": 28,
   "metadata": {},
   "outputs": [],
   "source": [
    "y_softmax = model.predict(x_test)\n",
    "\n",
    "y_test_1d = []\n",
    "y_pred_1d = []\n",
    "\n",
    "for i in range(len(y_test_cat)):\n",
    "    probs = y_test_cat[i]\n",
    "    index_arr = np.nonzero(probs)\n",
    "    one_hot_index = index_arr[0].item(0)\n",
    "    y_test_1d.append(one_hot_index)\n",
    "\n",
    "for i in range(0, len(y_softmax)):\n",
    "    probs = y_softmax[i]\n",
    "    predicted_index = np.argmax(probs)"
   ]
  },
  {
   "cell_type": "code",
   "execution_count": 29,
   "metadata": {},
   "outputs": [],
   "source": [
    "# This utility function is from the sklearn docs: http://scikit-learn.org/stable/auto_examples/model_selection/plot_confusion_matrix.html\n",
    "def plot_confusion_matrix(cm, classes, title='Confusion matrix', cmap=plt.cm.Blues):\n",
    "    \"\"\"\n",
    "    This function prints and plots the confusion matrix.\n",
    "    Normalization can be applied by setting `normalize=True`.\n",
    "    \"\"\"\n",
    "\n",
    "    cm = cm.astype('float') / cm.sum(axis=1)[:, np.newaxis]\n",
    "\n",
    "    plt.imshow(cm, interpolation='nearest', cmap=cmap)\n",
    "    plt.title(title, fontsize=30)\n",
    "    plt.colorbar()\n",
    "    tick_marks = np.arange(len(classes))\n",
    "    plt.xticks(tick_marks, classes, rotation=45, fontsize=22)\n",
    "    plt.yticks(tick_marks, classes, fontsize=22)\n",
    "\n",
    "    fmt = '.2f'\n",
    "    thresh = cm.max() / 2.\n",
    "    for i, j in itertools.product(range(cm.shape[0]), range(cm.shape[1])):\n",
    "        plt.text(j, i, format(cm[i, j], fmt),\n",
    "                 horizontalalignment=\"center\",\n",
    "                 color=\"white\" if cm[i, j] > thresh else \"black\")\n",
    "\n",
    "    plt.ylabel('Correct label', fontsize=25)\n",
    "    plt.xlabel('Predicted label', fontsize=25)"
   ]
  },
  {
   "cell_type": "code",
   "execution_count": 30,
   "metadata": {},
   "outputs": [
    {
     "ename": "ValueError",
     "evalue": "Found input variables with inconsistent numbers of samples: [1397, 0]",
     "output_type": "error",
     "traceback": [
      "\u001b[0;31m---------------------------------------------------------------------------\u001b[0m",
      "\u001b[0;31mValueError\u001b[0m                                Traceback (most recent call last)",
      "\u001b[0;32m<ipython-input-30-6232f1f1d27f>\u001b[0m in \u001b[0;36m<module>\u001b[0;34m\u001b[0m\n\u001b[0;32m----> 1\u001b[0;31m \u001b[0mcnf_matrix\u001b[0m \u001b[0;34m=\u001b[0m \u001b[0mconfusion_matrix\u001b[0m\u001b[0;34m(\u001b[0m\u001b[0my_test_1d\u001b[0m\u001b[0;34m,\u001b[0m \u001b[0my_pred_1d\u001b[0m\u001b[0;34m)\u001b[0m\u001b[0;34m\u001b[0m\u001b[0;34m\u001b[0m\u001b[0m\n\u001b[0m\u001b[1;32m      2\u001b[0m \u001b[0mplt\u001b[0m\u001b[0;34m.\u001b[0m\u001b[0mfigure\u001b[0m\u001b[0;34m(\u001b[0m\u001b[0mfigsize\u001b[0m\u001b[0;34m=\u001b[0m\u001b[0;34m(\u001b[0m\u001b[0;36m24\u001b[0m\u001b[0;34m,\u001b[0m\u001b[0;36m20\u001b[0m\u001b[0;34m)\u001b[0m\u001b[0;34m)\u001b[0m\u001b[0;34m\u001b[0m\u001b[0;34m\u001b[0m\u001b[0m\n\u001b[1;32m      3\u001b[0m \u001b[0mplot_confusion_matrix\u001b[0m\u001b[0;34m(\u001b[0m\u001b[0mcnf_matrix\u001b[0m\u001b[0;34m,\u001b[0m \u001b[0mclasses\u001b[0m\u001b[0;34m=\u001b[0m\u001b[0mtext_labels\u001b[0m\u001b[0;34m,\u001b[0m \u001b[0mtitle\u001b[0m\u001b[0;34m=\u001b[0m\u001b[0;34m\"Confusion matrix\"\u001b[0m\u001b[0;34m)\u001b[0m\u001b[0;34m\u001b[0m\u001b[0;34m\u001b[0m\u001b[0m\n\u001b[1;32m      4\u001b[0m \u001b[0mplt\u001b[0m\u001b[0;34m.\u001b[0m\u001b[0mshow\u001b[0m\u001b[0;34m(\u001b[0m\u001b[0;34m)\u001b[0m\u001b[0;34m\u001b[0m\u001b[0;34m\u001b[0m\u001b[0m\n",
      "\u001b[0;32m/opt/conda/lib/python3.8/site-packages/sklearn/utils/validation.py\u001b[0m in \u001b[0;36minner_f\u001b[0;34m(*args, **kwargs)\u001b[0m\n\u001b[1;32m     70\u001b[0m                           FutureWarning)\n\u001b[1;32m     71\u001b[0m         \u001b[0mkwargs\u001b[0m\u001b[0;34m.\u001b[0m\u001b[0mupdate\u001b[0m\u001b[0;34m(\u001b[0m\u001b[0;34m{\u001b[0m\u001b[0mk\u001b[0m\u001b[0;34m:\u001b[0m \u001b[0marg\u001b[0m \u001b[0;32mfor\u001b[0m \u001b[0mk\u001b[0m\u001b[0;34m,\u001b[0m \u001b[0marg\u001b[0m \u001b[0;32min\u001b[0m \u001b[0mzip\u001b[0m\u001b[0;34m(\u001b[0m\u001b[0msig\u001b[0m\u001b[0;34m.\u001b[0m\u001b[0mparameters\u001b[0m\u001b[0;34m,\u001b[0m \u001b[0margs\u001b[0m\u001b[0;34m)\u001b[0m\u001b[0;34m}\u001b[0m\u001b[0;34m)\u001b[0m\u001b[0;34m\u001b[0m\u001b[0;34m\u001b[0m\u001b[0m\n\u001b[0;32m---> 72\u001b[0;31m         \u001b[0;32mreturn\u001b[0m \u001b[0mf\u001b[0m\u001b[0;34m(\u001b[0m\u001b[0;34m**\u001b[0m\u001b[0mkwargs\u001b[0m\u001b[0;34m)\u001b[0m\u001b[0;34m\u001b[0m\u001b[0;34m\u001b[0m\u001b[0m\n\u001b[0m\u001b[1;32m     73\u001b[0m     \u001b[0;32mreturn\u001b[0m \u001b[0minner_f\u001b[0m\u001b[0;34m\u001b[0m\u001b[0;34m\u001b[0m\u001b[0m\n\u001b[1;32m     74\u001b[0m \u001b[0;34m\u001b[0m\u001b[0m\n",
      "\u001b[0;32m/opt/conda/lib/python3.8/site-packages/sklearn/metrics/_classification.py\u001b[0m in \u001b[0;36mconfusion_matrix\u001b[0;34m(y_true, y_pred, labels, sample_weight, normalize)\u001b[0m\n\u001b[1;32m    274\u001b[0m \u001b[0;34m\u001b[0m\u001b[0m\n\u001b[1;32m    275\u001b[0m     \"\"\"\n\u001b[0;32m--> 276\u001b[0;31m     \u001b[0my_type\u001b[0m\u001b[0;34m,\u001b[0m \u001b[0my_true\u001b[0m\u001b[0;34m,\u001b[0m \u001b[0my_pred\u001b[0m \u001b[0;34m=\u001b[0m \u001b[0m_check_targets\u001b[0m\u001b[0;34m(\u001b[0m\u001b[0my_true\u001b[0m\u001b[0;34m,\u001b[0m \u001b[0my_pred\u001b[0m\u001b[0;34m)\u001b[0m\u001b[0;34m\u001b[0m\u001b[0;34m\u001b[0m\u001b[0m\n\u001b[0m\u001b[1;32m    277\u001b[0m     \u001b[0;32mif\u001b[0m \u001b[0my_type\u001b[0m \u001b[0;32mnot\u001b[0m \u001b[0;32min\u001b[0m \u001b[0;34m(\u001b[0m\u001b[0;34m\"binary\"\u001b[0m\u001b[0;34m,\u001b[0m \u001b[0;34m\"multiclass\"\u001b[0m\u001b[0;34m)\u001b[0m\u001b[0;34m:\u001b[0m\u001b[0;34m\u001b[0m\u001b[0;34m\u001b[0m\u001b[0m\n\u001b[1;32m    278\u001b[0m         \u001b[0;32mraise\u001b[0m \u001b[0mValueError\u001b[0m\u001b[0;34m(\u001b[0m\u001b[0;34m\"%s is not supported\"\u001b[0m \u001b[0;34m%\u001b[0m \u001b[0my_type\u001b[0m\u001b[0;34m)\u001b[0m\u001b[0;34m\u001b[0m\u001b[0;34m\u001b[0m\u001b[0m\n",
      "\u001b[0;32m/opt/conda/lib/python3.8/site-packages/sklearn/metrics/_classification.py\u001b[0m in \u001b[0;36m_check_targets\u001b[0;34m(y_true, y_pred)\u001b[0m\n\u001b[1;32m     79\u001b[0m     \u001b[0my_pred\u001b[0m \u001b[0;34m:\u001b[0m \u001b[0marray\u001b[0m \u001b[0;32mor\u001b[0m \u001b[0mindicator\u001b[0m \u001b[0mmatrix\u001b[0m\u001b[0;34m\u001b[0m\u001b[0;34m\u001b[0m\u001b[0m\n\u001b[1;32m     80\u001b[0m     \"\"\"\n\u001b[0;32m---> 81\u001b[0;31m     \u001b[0mcheck_consistent_length\u001b[0m\u001b[0;34m(\u001b[0m\u001b[0my_true\u001b[0m\u001b[0;34m,\u001b[0m \u001b[0my_pred\u001b[0m\u001b[0;34m)\u001b[0m\u001b[0;34m\u001b[0m\u001b[0;34m\u001b[0m\u001b[0m\n\u001b[0m\u001b[1;32m     82\u001b[0m     \u001b[0mtype_true\u001b[0m \u001b[0;34m=\u001b[0m \u001b[0mtype_of_target\u001b[0m\u001b[0;34m(\u001b[0m\u001b[0my_true\u001b[0m\u001b[0;34m)\u001b[0m\u001b[0;34m\u001b[0m\u001b[0;34m\u001b[0m\u001b[0m\n\u001b[1;32m     83\u001b[0m     \u001b[0mtype_pred\u001b[0m \u001b[0;34m=\u001b[0m \u001b[0mtype_of_target\u001b[0m\u001b[0;34m(\u001b[0m\u001b[0my_pred\u001b[0m\u001b[0;34m)\u001b[0m\u001b[0;34m\u001b[0m\u001b[0;34m\u001b[0m\u001b[0m\n",
      "\u001b[0;32m/opt/conda/lib/python3.8/site-packages/sklearn/utils/validation.py\u001b[0m in \u001b[0;36mcheck_consistent_length\u001b[0;34m(*arrays)\u001b[0m\n\u001b[1;32m    253\u001b[0m     \u001b[0muniques\u001b[0m \u001b[0;34m=\u001b[0m \u001b[0mnp\u001b[0m\u001b[0;34m.\u001b[0m\u001b[0munique\u001b[0m\u001b[0;34m(\u001b[0m\u001b[0mlengths\u001b[0m\u001b[0;34m)\u001b[0m\u001b[0;34m\u001b[0m\u001b[0;34m\u001b[0m\u001b[0m\n\u001b[1;32m    254\u001b[0m     \u001b[0;32mif\u001b[0m \u001b[0mlen\u001b[0m\u001b[0;34m(\u001b[0m\u001b[0muniques\u001b[0m\u001b[0;34m)\u001b[0m \u001b[0;34m>\u001b[0m \u001b[0;36m1\u001b[0m\u001b[0;34m:\u001b[0m\u001b[0;34m\u001b[0m\u001b[0;34m\u001b[0m\u001b[0m\n\u001b[0;32m--> 255\u001b[0;31m         raise ValueError(\"Found input variables with inconsistent numbers of\"\n\u001b[0m\u001b[1;32m    256\u001b[0m                          \" samples: %r\" % [int(l) for l in lengths])\n\u001b[1;32m    257\u001b[0m \u001b[0;34m\u001b[0m\u001b[0m\n",
      "\u001b[0;31mValueError\u001b[0m: Found input variables with inconsistent numbers of samples: [1397, 0]"
     ]
    }
   ],
   "source": [
    "cnf_matrix = confusion_matrix(y_test_1d, y_pred_1d)\n",
    "plt.figure(figsize=(24,20))\n",
    "plot_confusion_matrix(cnf_matrix, classes=text_labels, title=\"Confusion matrix\")\n",
    "plt.show()"
   ]
  },
  {
   "cell_type": "code",
   "execution_count": null,
   "metadata": {},
   "outputs": [],
   "source": []
  },
  {
   "cell_type": "code",
   "execution_count": null,
   "metadata": {},
   "outputs": [],
   "source": []
  },
  {
   "cell_type": "code",
   "execution_count": null,
   "metadata": {},
   "outputs": [],
   "source": []
  },
  {
   "cell_type": "code",
   "execution_count": null,
   "metadata": {},
   "outputs": [],
   "source": []
  }
 ],
 "metadata": {
  "kernelspec": {
   "display_name": "Python 3",
   "language": "python",
   "name": "python3"
  },
  "language_info": {
   "codemirror_mode": {
    "name": "ipython",
    "version": 3
   },
   "file_extension": ".py",
   "mimetype": "text/x-python",
   "name": "python",
   "nbconvert_exporter": "python",
   "pygments_lexer": "ipython3",
   "version": "3.8.5"
  }
 },
 "nbformat": 4,
 "nbformat_minor": 4
}
