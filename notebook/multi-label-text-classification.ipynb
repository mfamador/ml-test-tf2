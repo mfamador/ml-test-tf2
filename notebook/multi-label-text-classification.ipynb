{
 "cells": [
  {
   "cell_type": "code",
   "execution_count": 9,
   "metadata": {},
   "outputs": [],
   "source": [
    "import tensorflow as tf\n",
    "from tensorflow.keras import layers\n",
    "from tensorflow.keras.preprocessing.text import Tokenizer\n",
    "from tensorflow.keras.utils import to_categorical\n",
    "\n",
    "import itertools\n",
    "import json\n",
    "\n",
    "import matplotlib.pyplot as plt\n",
    "import numpy as np\n",
    "import pandas as pd\n",
    "from sklearn.metrics import confusion_matrix\n",
    "from sklearn.preprocessing import LabelEncoder\n",
    "\n",
    "pd.options.display.max_colwidth = 10000"
   ]
  },
  {
   "cell_type": "code",
   "execution_count": 10,
   "metadata": {},
   "outputs": [
    {
     "data": {
      "text/plain": "   comments currency          lastUpdated         purchaseTime    status  \\\n0       NaN      GBP  2019-06-15 17:00:57  2019-06-14 18:20:00  REVIEWED   \n\n          uploadedTime  totalConfidence lastOpenAt       lastVerifiedAt  \\\n0  2019-06-14 22:11:40              0.7        NaN  2019-06-15 17:00:57   \n\n   taxTotal  total deletedAt retailerName retailerCountry  retailerVatNumber  \\\n0       NaN    NaN       NaN   Selfridges              GB                NaN   \n\n                                                                                                                                                                                                                                                                                                                                                                                                                                                                                                                                                                                                                                                                                                                                                                                                                                                                                                                                                                                                                                                                                                                                                                                                                                                                                                                                                                                                                                    rawData  \\\n0  {\"message\":\"SUCCESS: Result available\",\"status\":\"done\",\"status_code\":3,\"token\":null,\"success\":true,\"code\":202,\"duplicate\":false,\"duplicateToken\":null,\"result\":{\"establishment\":\"Selfridges\",\"validatedEstablishment\":false,\"date\":\"2019-06-14 18:20:00\",\"total\":30.000,\"url\":\"www.selfridges.com\",\"phoneNumber\":\"8569 4004156\",\"paymentMethod\":\"VISA\",\"address\":\"400 Oxford Street London W1A 1AB\",\"validatedTotal\":false,\"subTotal\":30.000,\"validatedSubTotal\":true,\"cash\":\"0.000\",\"change\":\"0.000\",\"tax\":0.000,\"discount\":0.000,\"subTotalConfidence\":0.99,\"totalConfidence\":0.7,\"cashConfidence\":0.0,\"changeConfidence\":0.0,\"roundingConfidence\":0.0,\"otherData\":[],\"lineItems\":[{\"qty\":0,\"desc\":\"FULTON BROLLYMA41568569 400415685692\",\"unit\":\"\",\"price\":0.000,\"descClean\":\"You 193 were served by : Ines FULTON BROLLYMA 400415685692\",\"lineTotal\":18.000,\"productCode\":\"41568569\"},{\"qty\":0,\"desc\":\"JJ DOT HYDR - TRA 82401412\",\"unit\":\"\",\"price\":0.000,\"descClean\":\"JJ DOT HYDR - TRA\",\"lineTotal\":12.000,\"productCode\":\"82401412\"}],\"summaryItems\":[{\"qty\":2,\"desc\":\"Total 2 Items\",\"unit\":\"\",\"price\":0.000,\"descClean\":\"Total Items\",\"lineTotal\":30.000,\"productCode\":\"\"},{\"qty\":0,\"desc\":\"Visa\",\"unit\":\"\",\"price\":0.000,\"descClean\":\"Visa\",\"lineTotal\":30.000,\"productCode\":\"\"},{\"qty\":14,\"desc\":\"009999 Date 14 / 06 / 19\",\"unit\":\"\",\"price\":0.000,\"descClean\":\"Date / 06 / 19\",\"lineTotal\":18.200,\"productCode\":\"009999\"}]}}   \n\n                                                                             receiptImage  \n0  https://s3-eu-west-1.amazonaws.com/wevat-receipts/5955cc32-894b-4dbd-8c1f-f54fbd95d8e8  ",
      "text/html": "<div>\n<style scoped>\n    .dataframe tbody tr th:only-of-type {\n        vertical-align: middle;\n    }\n\n    .dataframe tbody tr th {\n        vertical-align: top;\n    }\n\n    .dataframe thead th {\n        text-align: right;\n    }\n</style>\n<table border=\"1\" class=\"dataframe\">\n  <thead>\n    <tr style=\"text-align: right;\">\n      <th></th>\n      <th>comments</th>\n      <th>currency</th>\n      <th>lastUpdated</th>\n      <th>purchaseTime</th>\n      <th>status</th>\n      <th>uploadedTime</th>\n      <th>totalConfidence</th>\n      <th>lastOpenAt</th>\n      <th>lastVerifiedAt</th>\n      <th>taxTotal</th>\n      <th>total</th>\n      <th>deletedAt</th>\n      <th>retailerName</th>\n      <th>retailerCountry</th>\n      <th>retailerVatNumber</th>\n      <th>rawData</th>\n      <th>receiptImage</th>\n    </tr>\n  </thead>\n  <tbody>\n    <tr>\n      <th>0</th>\n      <td>NaN</td>\n      <td>GBP</td>\n      <td>2019-06-15 17:00:57</td>\n      <td>2019-06-14 18:20:00</td>\n      <td>REVIEWED</td>\n      <td>2019-06-14 22:11:40</td>\n      <td>0.7</td>\n      <td>NaN</td>\n      <td>2019-06-15 17:00:57</td>\n      <td>NaN</td>\n      <td>NaN</td>\n      <td>NaN</td>\n      <td>Selfridges</td>\n      <td>GB</td>\n      <td>NaN</td>\n      <td>{\"message\":\"SUCCESS: Result available\",\"status\":\"done\",\"status_code\":3,\"token\":null,\"success\":true,\"code\":202,\"duplicate\":false,\"duplicateToken\":null,\"result\":{\"establishment\":\"Selfridges\",\"validatedEstablishment\":false,\"date\":\"2019-06-14 18:20:00\",\"total\":30.000,\"url\":\"www.selfridges.com\",\"phoneNumber\":\"8569 4004156\",\"paymentMethod\":\"VISA\",\"address\":\"400 Oxford Street London W1A 1AB\",\"validatedTotal\":false,\"subTotal\":30.000,\"validatedSubTotal\":true,\"cash\":\"0.000\",\"change\":\"0.000\",\"tax\":0.000,\"discount\":0.000,\"subTotalConfidence\":0.99,\"totalConfidence\":0.7,\"cashConfidence\":0.0,\"changeConfidence\":0.0,\"roundingConfidence\":0.0,\"otherData\":[],\"lineItems\":[{\"qty\":0,\"desc\":\"FULTON BROLLYMA41568569 400415685692\",\"unit\":\"\",\"price\":0.000,\"descClean\":\"You 193 were served by : Ines FULTON BROLLYMA 400415685692\",\"lineTotal\":18.000,\"productCode\":\"41568569\"},{\"qty\":0,\"desc\":\"JJ DOT HYDR - TRA 82401412\",\"unit\":\"\",\"price\":0.000,\"descClean\":\"JJ DOT HYDR - TRA\",\"lineTotal\":12.000,\"productCode\":\"82401412\"}],\"summaryItems\":[{\"qty\":2,\"desc\":\"Total 2 Items\",\"unit\":\"\",\"price\":0.000,\"descClean\":\"Total Items\",\"lineTotal\":30.000,\"productCode\":\"\"},{\"qty\":0,\"desc\":\"Visa\",\"unit\":\"\",\"price\":0.000,\"descClean\":\"Visa\",\"lineTotal\":30.000,\"productCode\":\"\"},{\"qty\":14,\"desc\":\"009999 Date 14 / 06 / 19\",\"unit\":\"\",\"price\":0.000,\"descClean\":\"Date / 06 / 19\",\"lineTotal\":18.200,\"productCode\":\"009999\"}]}}</td>\n      <td>https://s3-eu-west-1.amazonaws.com/wevat-receipts/5955cc32-894b-4dbd-8c1f-f54fbd95d8e8</td>\n    </tr>\n  </tbody>\n</table>\n</div>"
     },
     "execution_count": 10,
     "metadata": {},
     "output_type": "execute_result"
    }
   ],
   "source": [
    "# read provided dataset\n",
    "df = pd.read_csv(\"../receipt_data.csv\")\n",
    "df.head(1)"
   ]
  },
  {
   "cell_type": "code",
   "execution_count": 11,
   "metadata": {},
   "outputs": [
    {
     "data": {
      "text/plain": "  retailerName  \\\n0   Selfridges   \n1      Harrods   \n2        Boots   \n3   Selfridges   \n4   John Lewis   \n\n                                                                                                                                                                                                                                                                                                                                                                                                                                                                                                                                                                                                                                                                                                                                                                                                                                                                                                                                                                                                                                                                                                                                                                                                                                                                                                                                                                                                                                                                                                                                                                                                                                                                                                                                                                                                                                                                                     rawData  \n0                                                                                                                                                                                                                                                                                                                                                                                                                                                   {\"message\":\"SUCCESS: Result available\",\"status\":\"done\",\"status_code\":3,\"token\":null,\"success\":true,\"code\":202,\"duplicate\":false,\"duplicateToken\":null,\"result\":{\"establishment\":\"Selfridges\",\"validatedEstablishment\":false,\"date\":\"2019-06-14 18:20:00\",\"total\":30.000,\"url\":\"www.selfridges.com\",\"phoneNumber\":\"8569 4004156\",\"paymentMethod\":\"VISA\",\"address\":\"400 Oxford Street London W1A 1AB\",\"validatedTotal\":false,\"subTotal\":30.000,\"validatedSubTotal\":true,\"cash\":\"0.000\",\"change\":\"0.000\",\"tax\":0.000,\"discount\":0.000,\"subTotalConfidence\":0.99,\"totalConfidence\":0.7,\"cashConfidence\":0.0,\"changeConfidence\":0.0,\"roundingConfidence\":0.0,\"otherData\":[],\"lineItems\":[{\"qty\":0,\"desc\":\"FULTON BROLLYMA41568569 400415685692\",\"unit\":\"\",\"price\":0.000,\"descClean\":\"You 193 were served by : Ines FULTON BROLLYMA 400415685692\",\"lineTotal\":18.000,\"productCode\":\"41568569\"},{\"qty\":0,\"desc\":\"JJ DOT HYDR - TRA 82401412\",\"unit\":\"\",\"price\":0.000,\"descClean\":\"JJ DOT HYDR - TRA\",\"lineTotal\":12.000,\"productCode\":\"82401412\"}],\"summaryItems\":[{\"qty\":2,\"desc\":\"Total 2 Items\",\"unit\":\"\",\"price\":0.000,\"descClean\":\"Total Items\",\"lineTotal\":30.000,\"productCode\":\"\"},{\"qty\":0,\"desc\":\"Visa\",\"unit\":\"\",\"price\":0.000,\"descClean\":\"Visa\",\"lineTotal\":30.000,\"productCode\":\"\"},{\"qty\":14,\"desc\":\"009999 Date 14 / 06 / 19\",\"unit\":\"\",\"price\":0.000,\"descClean\":\"Date / 06 / 19\",\"lineTotal\":18.200,\"productCode\":\"009999\"}]}}  \n1                                                                                                                                                                                                                                                                                                                                                                                                                                                                                                {\"message\":\"SUCCESS: Result available\",\"status\":\"done\",\"status_code\":3,\"token\":null,\"success\":true,\"code\":202,\"duplicate\":false,\"duplicateToken\":null,\"result\":{\"establishment\":\"Harrods\",\"validatedEstablishment\":false,\"date\":\"2019-06-19 13:24:00\",\"total\":86.000,\"url\":\"harrods.com\",\"phoneNumber\":\"020 7730 1234\",\"paymentMethod\":\"\",\"address\":\"LONDON S1 ot Road\",\"validatedTotal\":false,\"subTotal\":86.000,\"validatedSubTotal\":true,\"cash\":\"0.000\",\"change\":\"0.000\",\"tax\":0.000,\"discount\":0.000,\"subTotalConfidence\":0.6,\"totalConfidence\":0.0,\"cashConfidence\":0.0,\"changeConfidence\":0.0,\"roundingConfidence\":0.0,\"otherData\":[],\"lineItems\":[{\"qty\":0,\"desc\":\"Rewards 0005708615 Saving FRAGRANCE\",\"unit\":\"\",\"price\":0.000,\"descClean\":\"Rewards Saving FRAGRANCE f8.60\",\"lineTotal\":86.000,\"productCode\":\"0005708615\"}],\"summaryItems\":[{\"qty\":0,\"desc\":\"Sub Total\",\"unit\":\"\",\"price\":0.000,\"descClean\":\"Sub Total\",\"lineTotal\":86.000,\"productCode\":\"\"},{\"qty\":1,\"desc\":\"TOTAL ( 1 item )\",\"unit\":\"\",\"price\":0.000,\"descClean\":\"TOTAL ( item )\",\"lineTotal\":77.400,\"productCode\":\"\"},{\"qty\":0,\"desc\":\"Chinese Mobile Tendered\",\"unit\":\"\",\"price\":0.000,\"descClean\":\"Chinese Mobile Tendered\",\"lineTotal\":77.400,\"productCode\":\"\"},{\"qty\":0,\"desc\":\"Rewards Points balance\",\"unit\":\"\",\"price\":0.000,\"descClean\":\"Rewards Points balance\",\"lineTotal\":194.800,\"productCode\":\"\"}]}}  \n2                                                                                                                                                                                                                                                                                                                                                                                                                                                                                                                         {\"message\":\"SUCCESS: Result available\",\"status\":\"done\",\"status_code\":3,\"token\":null,\"success\":true,\"code\":202,\"duplicate\":false,\"duplicateToken\":null,\"result\":{\"establishment\":\"Boots\",\"validatedEstablishment\":false,\"date\":\"2019-06-18 18:24:00\",\"total\":20.460,\"url\":\"\",\"phoneNumber\":\"(0115) 9410199\",\"paymentMethod\":\"\",\"address\":\"\",\"validatedTotal\":true,\"subTotal\":0.000,\"validatedSubTotal\":false,\"cash\":\"50.500\",\"change\":\"30.040\",\"tax\":0.000,\"discount\":0.000,\"subTotalConfidence\":0.0,\"totalConfidence\":0.99,\"cashConfidence\":0.99,\"changeConfidence\":0.99,\"roundingConfidence\":0.0,\"otherData\":[\"f\",\"Boots UK Limited\",\"NOTTINGHAM - 6\",\"18/06/2019\",\"(0115) 9410199\",\"18:24\",\"Served by: LAURIEN GOOD\",\"1404\",\"619 7646 0006 144 *6330************686\",\"\"],\"lineItems\":[{\"qty\":28,\"desc\":\"Nno Nno Int Int Wht Wht Stp Strong 28 2 5.00 NOW\",\"unit\":\"\",\"price\":0.000,\"descClean\":\"Nno Nno Int Int Wht Wht Stp Strong 2 5.00 NOW STUDENT DISCOUNT\",\"lineTotal\":18.750,\"productCode\":\"\"}],\"summaryItems\":[{\"qty\":0,\"desc\":\"TOTAL TO PAY\",\"unit\":\"\",\"price\":0.000,\"descClean\":\"TOTAL TO PAY\",\"lineTotal\":20.460,\"productCode\":\"\"},{\"qty\":0,\"desc\":\"CASH\",\"unit\":\"\",\"price\":0.000,\"descClean\":\"CASH\",\"lineTotal\":50.500,\"productCode\":\"\"},{\"qty\":0,\"desc\":\"CHANGE\",\"unit\":\"\",\"price\":0.000,\"descClean\":\"CHANGE\",\"lineTotal\":30.040,\"productCode\":\"\"}]}}  \n3  {\"message\":\"SUCCESS: Result available\",\"status\":\"done\",\"status_code\":3,\"token\":null,\"success\":true,\"code\":202,\"duplicate\":false,\"duplicateToken\":null,\"result\":{\"establishment\":\"Selfridges\",\"validatedEstablishment\":false,\"date\":\"2019-06-01 20:48:00\",\"total\":370.000,\"url\":\"www.selfridges.com\",\"phoneNumber\":\"+44 (0) 207 160 62\",\"paymentMethod\":\"ALIPAY\",\"address\":\"400 Oxford Street London W1A 1AB\",\"validatedTotal\":false,\"subTotal\":0.000,\"validatedSubTotal\":false,\"cash\":\"0.000\",\"change\":\"0.000\",\"tax\":0.000,\"discount\":0.000,\"subTotalConfidence\":0.0,\"totalConfidence\":0.0,\"cashConfidence\":0.0,\"changeConfidence\":0.0,\"roundingConfidence\":0.0,\"otherData\":[\"SELFRIDGES&Cº\",\"400 Oxford Street London W1A 1AB\",\"Freephone 0800 123 400\",\"( From overseas +44 (0) 207 160 6222)\",\"V.A.T NO. GB 705 3259 52\",\"www.selfridges.com\",\"You were served by: Mikel\",\"Chanel RTW & Accs\",\"1 @ f370.00\",\"CAR\",\"Notified terms and conditions will apply\",\"For details visit selfridges.com/london\",\"****************************** ************\",\"We have a passion for what we do and\",\"want you to have an amazing experience\",\"every time you come to Selfridges.\",\"*****************************************\",\"Loteborhoomorpbtitles 298 espela\",\"Shop online at www.selfridges.com\",\"You are welcome to exchange or refund\",\"your purchase by Sat 29 Jun 2019\",\"Please note Sale items\",\"can only be exchanged\",\"-\",\"-\",\"Term 0250 Opr 9999979506 Trans 3919\",\"Store 009999 Date 01/06/19 20:48\",\"00999902503919190601204713\",\"mellogu\",\"erot new uovi\",\"\"],\"lineItems\":[{\"qty\":1,\"desc\":\"1 @ f370.00\",\"unit\":\"\",\"price\":0.000,\"descClean\":\"f370.00\",\"lineTotal\":370.000,\"productCode\":\"\"},{\"qty\":1,\"desc\":\"Alipay READVICE\",\"unit\":\"\",\"price\":0.000,\"descClean\":\"- - Total Item READVICE f370.00 Alipay READVICE\",\"lineTotal\":370.000,\"productCode\":\"\"}],\"summaryItems\":[]}}  \n4                                                                                                                                                                                                                                                                                                                                                                                                                                   {\"message\":\"SUCCESS: Result available\",\"status\":\"done\",\"status_code\":3,\"token\":null,\"success\":true,\"code\":202,\"duplicate\":false,\"duplicateToken\":null,\"result\":{\"establishment\":\"John Lewis\",\"validatedEstablishment\":false,\"date\":\"2019-06-16 14:02:00\",\"total\":26.940,\"url\":\"www.johnlewis.com/customer\",\"phoneNumber\":\"0114 276 8511\",\"paymentMethod\":\"\",\"address\":\", SS1 2HB\",\"validatedTotal\":false,\"subTotal\":26.940,\"validatedSubTotal\":true,\"cash\":\"3.060\",\"change\":\"0.000\",\"tax\":4.490,\"discount\":0.000,\"subTotalConfidence\":0.0,\"totalConfidence\":0.6,\"cashConfidence\":0.6,\"changeConfidence\":0.0,\"roundingConfidence\":0.0,\"otherData\":[],\"lineItems\":[{\"qty\":0,\"desc\":\"S 73220442 Construction Toy\",\"unit\":\"\",\"price\":0.000,\"descClean\":\"S Construction Toy\",\"lineTotal\":8.970,\"productCode\":\"73220442\"},{\"qty\":2,\"desc\":\"S 73220446 Construction Toy\",\"unit\":\"\",\"price\":0.000,\"descClean\":\"S Construction Toy No.items\",\"lineTotal\":17.970,\"productCode\":\"73220446\"}],\"summaryItems\":[{\"qty\":0,\"desc\":\"Total\",\"unit\":\"\",\"price\":0.000,\"descClean\":\"Total\",\"lineTotal\":26.940,\"productCode\":\"\"},{\"qty\":0,\"desc\":\"Cash\",\"unit\":\"\",\"price\":0.000,\"descClean\":\"Cash\",\"lineTotal\":30.000,\"productCode\":\"\"},{\"qty\":0,\"desc\":\"Cash\",\"unit\":\"\",\"price\":0.000,\"descClean\":\"Cash\",\"lineTotal\":3.060,\"productCode\":\"\"},{\"qty\":5,\"desc\":\"S 20.0% 26.94 4.49\",\"unit\":\"\",\"price\":4.490,\"descClean\":\"S 20.0% 26.94\",\"lineTotal\":22.450,\"productCode\":\"\"}]}}  ",
      "text/html": "<div>\n<style scoped>\n    .dataframe tbody tr th:only-of-type {\n        vertical-align: middle;\n    }\n\n    .dataframe tbody tr th {\n        vertical-align: top;\n    }\n\n    .dataframe thead th {\n        text-align: right;\n    }\n</style>\n<table border=\"1\" class=\"dataframe\">\n  <thead>\n    <tr style=\"text-align: right;\">\n      <th></th>\n      <th>retailerName</th>\n      <th>rawData</th>\n    </tr>\n  </thead>\n  <tbody>\n    <tr>\n      <th>0</th>\n      <td>Selfridges</td>\n      <td>{\"message\":\"SUCCESS: Result available\",\"status\":\"done\",\"status_code\":3,\"token\":null,\"success\":true,\"code\":202,\"duplicate\":false,\"duplicateToken\":null,\"result\":{\"establishment\":\"Selfridges\",\"validatedEstablishment\":false,\"date\":\"2019-06-14 18:20:00\",\"total\":30.000,\"url\":\"www.selfridges.com\",\"phoneNumber\":\"8569 4004156\",\"paymentMethod\":\"VISA\",\"address\":\"400 Oxford Street London W1A 1AB\",\"validatedTotal\":false,\"subTotal\":30.000,\"validatedSubTotal\":true,\"cash\":\"0.000\",\"change\":\"0.000\",\"tax\":0.000,\"discount\":0.000,\"subTotalConfidence\":0.99,\"totalConfidence\":0.7,\"cashConfidence\":0.0,\"changeConfidence\":0.0,\"roundingConfidence\":0.0,\"otherData\":[],\"lineItems\":[{\"qty\":0,\"desc\":\"FULTON BROLLYMA41568569 400415685692\",\"unit\":\"\",\"price\":0.000,\"descClean\":\"You 193 were served by : Ines FULTON BROLLYMA 400415685692\",\"lineTotal\":18.000,\"productCode\":\"41568569\"},{\"qty\":0,\"desc\":\"JJ DOT HYDR - TRA 82401412\",\"unit\":\"\",\"price\":0.000,\"descClean\":\"JJ DOT HYDR - TRA\",\"lineTotal\":12.000,\"productCode\":\"82401412\"}],\"summaryItems\":[{\"qty\":2,\"desc\":\"Total 2 Items\",\"unit\":\"\",\"price\":0.000,\"descClean\":\"Total Items\",\"lineTotal\":30.000,\"productCode\":\"\"},{\"qty\":0,\"desc\":\"Visa\",\"unit\":\"\",\"price\":0.000,\"descClean\":\"Visa\",\"lineTotal\":30.000,\"productCode\":\"\"},{\"qty\":14,\"desc\":\"009999 Date 14 / 06 / 19\",\"unit\":\"\",\"price\":0.000,\"descClean\":\"Date / 06 / 19\",\"lineTotal\":18.200,\"productCode\":\"009999\"}]}}</td>\n    </tr>\n    <tr>\n      <th>1</th>\n      <td>Harrods</td>\n      <td>{\"message\":\"SUCCESS: Result available\",\"status\":\"done\",\"status_code\":3,\"token\":null,\"success\":true,\"code\":202,\"duplicate\":false,\"duplicateToken\":null,\"result\":{\"establishment\":\"Harrods\",\"validatedEstablishment\":false,\"date\":\"2019-06-19 13:24:00\",\"total\":86.000,\"url\":\"harrods.com\",\"phoneNumber\":\"020 7730 1234\",\"paymentMethod\":\"\",\"address\":\"LONDON S1 ot Road\",\"validatedTotal\":false,\"subTotal\":86.000,\"validatedSubTotal\":true,\"cash\":\"0.000\",\"change\":\"0.000\",\"tax\":0.000,\"discount\":0.000,\"subTotalConfidence\":0.6,\"totalConfidence\":0.0,\"cashConfidence\":0.0,\"changeConfidence\":0.0,\"roundingConfidence\":0.0,\"otherData\":[],\"lineItems\":[{\"qty\":0,\"desc\":\"Rewards 0005708615 Saving FRAGRANCE\",\"unit\":\"\",\"price\":0.000,\"descClean\":\"Rewards Saving FRAGRANCE f8.60\",\"lineTotal\":86.000,\"productCode\":\"0005708615\"}],\"summaryItems\":[{\"qty\":0,\"desc\":\"Sub Total\",\"unit\":\"\",\"price\":0.000,\"descClean\":\"Sub Total\",\"lineTotal\":86.000,\"productCode\":\"\"},{\"qty\":1,\"desc\":\"TOTAL ( 1 item )\",\"unit\":\"\",\"price\":0.000,\"descClean\":\"TOTAL ( item )\",\"lineTotal\":77.400,\"productCode\":\"\"},{\"qty\":0,\"desc\":\"Chinese Mobile Tendered\",\"unit\":\"\",\"price\":0.000,\"descClean\":\"Chinese Mobile Tendered\",\"lineTotal\":77.400,\"productCode\":\"\"},{\"qty\":0,\"desc\":\"Rewards Points balance\",\"unit\":\"\",\"price\":0.000,\"descClean\":\"Rewards Points balance\",\"lineTotal\":194.800,\"productCode\":\"\"}]}}</td>\n    </tr>\n    <tr>\n      <th>2</th>\n      <td>Boots</td>\n      <td>{\"message\":\"SUCCESS: Result available\",\"status\":\"done\",\"status_code\":3,\"token\":null,\"success\":true,\"code\":202,\"duplicate\":false,\"duplicateToken\":null,\"result\":{\"establishment\":\"Boots\",\"validatedEstablishment\":false,\"date\":\"2019-06-18 18:24:00\",\"total\":20.460,\"url\":\"\",\"phoneNumber\":\"(0115) 9410199\",\"paymentMethod\":\"\",\"address\":\"\",\"validatedTotal\":true,\"subTotal\":0.000,\"validatedSubTotal\":false,\"cash\":\"50.500\",\"change\":\"30.040\",\"tax\":0.000,\"discount\":0.000,\"subTotalConfidence\":0.0,\"totalConfidence\":0.99,\"cashConfidence\":0.99,\"changeConfidence\":0.99,\"roundingConfidence\":0.0,\"otherData\":[\"f\",\"Boots UK Limited\",\"NOTTINGHAM - 6\",\"18/06/2019\",\"(0115) 9410199\",\"18:24\",\"Served by: LAURIEN GOOD\",\"1404\",\"619 7646 0006 144 *6330************686\",\"\"],\"lineItems\":[{\"qty\":28,\"desc\":\"Nno Nno Int Int Wht Wht Stp Strong 28 2 5.00 NOW\",\"unit\":\"\",\"price\":0.000,\"descClean\":\"Nno Nno Int Int Wht Wht Stp Strong 2 5.00 NOW STUDENT DISCOUNT\",\"lineTotal\":18.750,\"productCode\":\"\"}],\"summaryItems\":[{\"qty\":0,\"desc\":\"TOTAL TO PAY\",\"unit\":\"\",\"price\":0.000,\"descClean\":\"TOTAL TO PAY\",\"lineTotal\":20.460,\"productCode\":\"\"},{\"qty\":0,\"desc\":\"CASH\",\"unit\":\"\",\"price\":0.000,\"descClean\":\"CASH\",\"lineTotal\":50.500,\"productCode\":\"\"},{\"qty\":0,\"desc\":\"CHANGE\",\"unit\":\"\",\"price\":0.000,\"descClean\":\"CHANGE\",\"lineTotal\":30.040,\"productCode\":\"\"}]}}</td>\n    </tr>\n    <tr>\n      <th>3</th>\n      <td>Selfridges</td>\n      <td>{\"message\":\"SUCCESS: Result available\",\"status\":\"done\",\"status_code\":3,\"token\":null,\"success\":true,\"code\":202,\"duplicate\":false,\"duplicateToken\":null,\"result\":{\"establishment\":\"Selfridges\",\"validatedEstablishment\":false,\"date\":\"2019-06-01 20:48:00\",\"total\":370.000,\"url\":\"www.selfridges.com\",\"phoneNumber\":\"+44 (0) 207 160 62\",\"paymentMethod\":\"ALIPAY\",\"address\":\"400 Oxford Street London W1A 1AB\",\"validatedTotal\":false,\"subTotal\":0.000,\"validatedSubTotal\":false,\"cash\":\"0.000\",\"change\":\"0.000\",\"tax\":0.000,\"discount\":0.000,\"subTotalConfidence\":0.0,\"totalConfidence\":0.0,\"cashConfidence\":0.0,\"changeConfidence\":0.0,\"roundingConfidence\":0.0,\"otherData\":[\"SELFRIDGES&amp;Cº\",\"400 Oxford Street London W1A 1AB\",\"Freephone 0800 123 400\",\"( From overseas +44 (0) 207 160 6222)\",\"V.A.T NO. GB 705 3259 52\",\"www.selfridges.com\",\"You were served by: Mikel\",\"Chanel RTW &amp; Accs\",\"1 @ f370.00\",\"CAR\",\"Notified terms and conditions will apply\",\"For details visit selfridges.com/london\",\"****************************** ************\",\"We have a passion for what we do and\",\"want you to have an amazing experience\",\"every time you come to Selfridges.\",\"*****************************************\",\"Loteborhoomorpbtitles 298 espela\",\"Shop online at www.selfridges.com\",\"You are welcome to exchange or refund\",\"your purchase by Sat 29 Jun 2019\",\"Please note Sale items\",\"can only be exchanged\",\"-\",\"-\",\"Term 0250 Opr 9999979506 Trans 3919\",\"Store 009999 Date 01/06/19 20:48\",\"00999902503919190601204713\",\"mellogu\",\"erot new uovi\",\"\"],\"lineItems\":[{\"qty\":1,\"desc\":\"1 @ f370.00\",\"unit\":\"\",\"price\":0.000,\"descClean\":\"f370.00\",\"lineTotal\":370.000,\"productCode\":\"\"},{\"qty\":1,\"desc\":\"Alipay READVICE\",\"unit\":\"\",\"price\":0.000,\"descClean\":\"- - Total Item READVICE f370.00 Alipay READVICE\",\"lineTotal\":370.000,\"productCode\":\"\"}],\"summaryItems\":[]}}</td>\n    </tr>\n    <tr>\n      <th>4</th>\n      <td>John Lewis</td>\n      <td>{\"message\":\"SUCCESS: Result available\",\"status\":\"done\",\"status_code\":3,\"token\":null,\"success\":true,\"code\":202,\"duplicate\":false,\"duplicateToken\":null,\"result\":{\"establishment\":\"John Lewis\",\"validatedEstablishment\":false,\"date\":\"2019-06-16 14:02:00\",\"total\":26.940,\"url\":\"www.johnlewis.com/customer\",\"phoneNumber\":\"0114 276 8511\",\"paymentMethod\":\"\",\"address\":\", SS1 2HB\",\"validatedTotal\":false,\"subTotal\":26.940,\"validatedSubTotal\":true,\"cash\":\"3.060\",\"change\":\"0.000\",\"tax\":4.490,\"discount\":0.000,\"subTotalConfidence\":0.0,\"totalConfidence\":0.6,\"cashConfidence\":0.6,\"changeConfidence\":0.0,\"roundingConfidence\":0.0,\"otherData\":[],\"lineItems\":[{\"qty\":0,\"desc\":\"S 73220442 Construction Toy\",\"unit\":\"\",\"price\":0.000,\"descClean\":\"S Construction Toy\",\"lineTotal\":8.970,\"productCode\":\"73220442\"},{\"qty\":2,\"desc\":\"S 73220446 Construction Toy\",\"unit\":\"\",\"price\":0.000,\"descClean\":\"S Construction Toy No.items\",\"lineTotal\":17.970,\"productCode\":\"73220446\"}],\"summaryItems\":[{\"qty\":0,\"desc\":\"Total\",\"unit\":\"\",\"price\":0.000,\"descClean\":\"Total\",\"lineTotal\":26.940,\"productCode\":\"\"},{\"qty\":0,\"desc\":\"Cash\",\"unit\":\"\",\"price\":0.000,\"descClean\":\"Cash\",\"lineTotal\":30.000,\"productCode\":\"\"},{\"qty\":0,\"desc\":\"Cash\",\"unit\":\"\",\"price\":0.000,\"descClean\":\"Cash\",\"lineTotal\":3.060,\"productCode\":\"\"},{\"qty\":5,\"desc\":\"S 20.0% 26.94 4.49\",\"unit\":\"\",\"price\":4.490,\"descClean\":\"S 20.0% 26.94\",\"lineTotal\":22.450,\"productCode\":\"\"}]}}</td>\n    </tr>\n  </tbody>\n</table>\n</div>"
     },
     "execution_count": 11,
     "metadata": {},
     "output_type": "execute_result"
    }
   ],
   "source": [
    "# filter retailerName to be used as label and rawData as features\n",
    "df = df.filter(['retailerName', 'rawData'])\n",
    "df.head(5)"
   ]
  },
  {
   "cell_type": "code",
   "execution_count": 12,
   "metadata": {},
   "outputs": [
    {
     "data": {
      "text/plain": "Selfridges           1961\nBoots                1601\nHarrods              1188\nHolland & Barrett     582\nJohn Lewis            458\nTK Maxx               433\nDebenhams             394\nBoots UK Limited      383\nName: retailerName, dtype: int64"
     },
     "execution_count": 12,
     "metadata": {},
     "output_type": "execute_result"
    }
   ],
   "source": [
    "\n",
    "# we can see that some Boot tags are duplicated\n",
    "df['retailerName'].value_counts()"
   ]
  },
  {
   "cell_type": "code",
   "execution_count": 13,
   "metadata": {},
   "outputs": [
    {
     "data": {
      "text/plain": "Boots                1984\nSelfridges           1961\nHarrods              1188\nHolland & Barrett     582\nJohn Lewis            458\nTK Maxx               433\nDebenhams             394\nName: retailerName, dtype: int64"
     },
     "execution_count": 13,
     "metadata": {},
     "output_type": "execute_result"
    }
   ],
   "source": [
    "# clean some data with bad labels\n",
    "df.retailerName = df.retailerName.str.replace('Boots.*', 'Boots', regex=True)\n",
    "\n",
    "# Boot retailer tags must be now deduplicated\n",
    "# The counts should be closer for the model be more balanced\n",
    "df['retailerName'].value_counts()"
   ]
  },
  {
   "cell_type": "code",
   "execution_count": 14,
   "metadata": {},
   "outputs": [
    {
     "data": {
      "text/plain": "           retailerName rawData\n685               Boots     NaN\n1326              Boots     NaN\n1537         John Lewis     NaN\n1872  Holland & Barrett     NaN\n3050              Boots     NaN",
      "text/html": "<div>\n<style scoped>\n    .dataframe tbody tr th:only-of-type {\n        vertical-align: middle;\n    }\n\n    .dataframe tbody tr th {\n        vertical-align: top;\n    }\n\n    .dataframe thead th {\n        text-align: right;\n    }\n</style>\n<table border=\"1\" class=\"dataframe\">\n  <thead>\n    <tr style=\"text-align: right;\">\n      <th></th>\n      <th>retailerName</th>\n      <th>rawData</th>\n    </tr>\n  </thead>\n  <tbody>\n    <tr>\n      <th>685</th>\n      <td>Boots</td>\n      <td>NaN</td>\n    </tr>\n    <tr>\n      <th>1326</th>\n      <td>Boots</td>\n      <td>NaN</td>\n    </tr>\n    <tr>\n      <th>1537</th>\n      <td>John Lewis</td>\n      <td>NaN</td>\n    </tr>\n    <tr>\n      <th>1872</th>\n      <td>Holland &amp; Barrett</td>\n      <td>NaN</td>\n    </tr>\n    <tr>\n      <th>3050</th>\n      <td>Boots</td>\n      <td>NaN</td>\n    </tr>\n  </tbody>\n</table>\n</div>"
     },
     "execution_count": 14,
     "metadata": {},
     "output_type": "execute_result"
    }
   ],
   "source": [
    "ignore = df[df.rawData.apply(lambda x: not isinstance(x, str))]\n",
    "ignore.head(5)"
   ]
  },
  {
   "cell_type": "code",
   "execution_count": 15,
   "metadata": {},
   "outputs": [
    {
     "data": {
      "text/plain": "  retailerName  \\\n0   Selfridges   \n1      Harrods   \n2        Boots   \n3   Selfridges   \n4   John Lewis   \n\n                                                                                                                                                                                                                                                                                                                                                                                                                                                                                                                                                                                                                                                                                                                                                                                                                                                                                                                                                                                                                                                                                                                                                                                                                                                                                                                                                                                                                                                                                                                                                                                                                                                                                                                                                                                                                                                                                     rawData  \n0                                                                                                                                                                                                                                                                                                                                                                                                                                                   {\"message\":\"SUCCESS: Result available\",\"status\":\"done\",\"status_code\":3,\"token\":null,\"success\":true,\"code\":202,\"duplicate\":false,\"duplicateToken\":null,\"result\":{\"establishment\":\"Selfridges\",\"validatedEstablishment\":false,\"date\":\"2019-06-14 18:20:00\",\"total\":30.000,\"url\":\"www.selfridges.com\",\"phoneNumber\":\"8569 4004156\",\"paymentMethod\":\"VISA\",\"address\":\"400 Oxford Street London W1A 1AB\",\"validatedTotal\":false,\"subTotal\":30.000,\"validatedSubTotal\":true,\"cash\":\"0.000\",\"change\":\"0.000\",\"tax\":0.000,\"discount\":0.000,\"subTotalConfidence\":0.99,\"totalConfidence\":0.7,\"cashConfidence\":0.0,\"changeConfidence\":0.0,\"roundingConfidence\":0.0,\"otherData\":[],\"lineItems\":[{\"qty\":0,\"desc\":\"FULTON BROLLYMA41568569 400415685692\",\"unit\":\"\",\"price\":0.000,\"descClean\":\"You 193 were served by : Ines FULTON BROLLYMA 400415685692\",\"lineTotal\":18.000,\"productCode\":\"41568569\"},{\"qty\":0,\"desc\":\"JJ DOT HYDR - TRA 82401412\",\"unit\":\"\",\"price\":0.000,\"descClean\":\"JJ DOT HYDR - TRA\",\"lineTotal\":12.000,\"productCode\":\"82401412\"}],\"summaryItems\":[{\"qty\":2,\"desc\":\"Total 2 Items\",\"unit\":\"\",\"price\":0.000,\"descClean\":\"Total Items\",\"lineTotal\":30.000,\"productCode\":\"\"},{\"qty\":0,\"desc\":\"Visa\",\"unit\":\"\",\"price\":0.000,\"descClean\":\"Visa\",\"lineTotal\":30.000,\"productCode\":\"\"},{\"qty\":14,\"desc\":\"009999 Date 14 / 06 / 19\",\"unit\":\"\",\"price\":0.000,\"descClean\":\"Date / 06 / 19\",\"lineTotal\":18.200,\"productCode\":\"009999\"}]}}  \n1                                                                                                                                                                                                                                                                                                                                                                                                                                                                                                {\"message\":\"SUCCESS: Result available\",\"status\":\"done\",\"status_code\":3,\"token\":null,\"success\":true,\"code\":202,\"duplicate\":false,\"duplicateToken\":null,\"result\":{\"establishment\":\"Harrods\",\"validatedEstablishment\":false,\"date\":\"2019-06-19 13:24:00\",\"total\":86.000,\"url\":\"harrods.com\",\"phoneNumber\":\"020 7730 1234\",\"paymentMethod\":\"\",\"address\":\"LONDON S1 ot Road\",\"validatedTotal\":false,\"subTotal\":86.000,\"validatedSubTotal\":true,\"cash\":\"0.000\",\"change\":\"0.000\",\"tax\":0.000,\"discount\":0.000,\"subTotalConfidence\":0.6,\"totalConfidence\":0.0,\"cashConfidence\":0.0,\"changeConfidence\":0.0,\"roundingConfidence\":0.0,\"otherData\":[],\"lineItems\":[{\"qty\":0,\"desc\":\"Rewards 0005708615 Saving FRAGRANCE\",\"unit\":\"\",\"price\":0.000,\"descClean\":\"Rewards Saving FRAGRANCE f8.60\",\"lineTotal\":86.000,\"productCode\":\"0005708615\"}],\"summaryItems\":[{\"qty\":0,\"desc\":\"Sub Total\",\"unit\":\"\",\"price\":0.000,\"descClean\":\"Sub Total\",\"lineTotal\":86.000,\"productCode\":\"\"},{\"qty\":1,\"desc\":\"TOTAL ( 1 item )\",\"unit\":\"\",\"price\":0.000,\"descClean\":\"TOTAL ( item )\",\"lineTotal\":77.400,\"productCode\":\"\"},{\"qty\":0,\"desc\":\"Chinese Mobile Tendered\",\"unit\":\"\",\"price\":0.000,\"descClean\":\"Chinese Mobile Tendered\",\"lineTotal\":77.400,\"productCode\":\"\"},{\"qty\":0,\"desc\":\"Rewards Points balance\",\"unit\":\"\",\"price\":0.000,\"descClean\":\"Rewards Points balance\",\"lineTotal\":194.800,\"productCode\":\"\"}]}}  \n2                                                                                                                                                                                                                                                                                                                                                                                                                                                                                                                         {\"message\":\"SUCCESS: Result available\",\"status\":\"done\",\"status_code\":3,\"token\":null,\"success\":true,\"code\":202,\"duplicate\":false,\"duplicateToken\":null,\"result\":{\"establishment\":\"Boots\",\"validatedEstablishment\":false,\"date\":\"2019-06-18 18:24:00\",\"total\":20.460,\"url\":\"\",\"phoneNumber\":\"(0115) 9410199\",\"paymentMethod\":\"\",\"address\":\"\",\"validatedTotal\":true,\"subTotal\":0.000,\"validatedSubTotal\":false,\"cash\":\"50.500\",\"change\":\"30.040\",\"tax\":0.000,\"discount\":0.000,\"subTotalConfidence\":0.0,\"totalConfidence\":0.99,\"cashConfidence\":0.99,\"changeConfidence\":0.99,\"roundingConfidence\":0.0,\"otherData\":[\"f\",\"Boots UK Limited\",\"NOTTINGHAM - 6\",\"18/06/2019\",\"(0115) 9410199\",\"18:24\",\"Served by: LAURIEN GOOD\",\"1404\",\"619 7646 0006 144 *6330************686\",\"\"],\"lineItems\":[{\"qty\":28,\"desc\":\"Nno Nno Int Int Wht Wht Stp Strong 28 2 5.00 NOW\",\"unit\":\"\",\"price\":0.000,\"descClean\":\"Nno Nno Int Int Wht Wht Stp Strong 2 5.00 NOW STUDENT DISCOUNT\",\"lineTotal\":18.750,\"productCode\":\"\"}],\"summaryItems\":[{\"qty\":0,\"desc\":\"TOTAL TO PAY\",\"unit\":\"\",\"price\":0.000,\"descClean\":\"TOTAL TO PAY\",\"lineTotal\":20.460,\"productCode\":\"\"},{\"qty\":0,\"desc\":\"CASH\",\"unit\":\"\",\"price\":0.000,\"descClean\":\"CASH\",\"lineTotal\":50.500,\"productCode\":\"\"},{\"qty\":0,\"desc\":\"CHANGE\",\"unit\":\"\",\"price\":0.000,\"descClean\":\"CHANGE\",\"lineTotal\":30.040,\"productCode\":\"\"}]}}  \n3  {\"message\":\"SUCCESS: Result available\",\"status\":\"done\",\"status_code\":3,\"token\":null,\"success\":true,\"code\":202,\"duplicate\":false,\"duplicateToken\":null,\"result\":{\"establishment\":\"Selfridges\",\"validatedEstablishment\":false,\"date\":\"2019-06-01 20:48:00\",\"total\":370.000,\"url\":\"www.selfridges.com\",\"phoneNumber\":\"+44 (0) 207 160 62\",\"paymentMethod\":\"ALIPAY\",\"address\":\"400 Oxford Street London W1A 1AB\",\"validatedTotal\":false,\"subTotal\":0.000,\"validatedSubTotal\":false,\"cash\":\"0.000\",\"change\":\"0.000\",\"tax\":0.000,\"discount\":0.000,\"subTotalConfidence\":0.0,\"totalConfidence\":0.0,\"cashConfidence\":0.0,\"changeConfidence\":0.0,\"roundingConfidence\":0.0,\"otherData\":[\"SELFRIDGES&Cº\",\"400 Oxford Street London W1A 1AB\",\"Freephone 0800 123 400\",\"( From overseas +44 (0) 207 160 6222)\",\"V.A.T NO. GB 705 3259 52\",\"www.selfridges.com\",\"You were served by: Mikel\",\"Chanel RTW & Accs\",\"1 @ f370.00\",\"CAR\",\"Notified terms and conditions will apply\",\"For details visit selfridges.com/london\",\"****************************** ************\",\"We have a passion for what we do and\",\"want you to have an amazing experience\",\"every time you come to Selfridges.\",\"*****************************************\",\"Loteborhoomorpbtitles 298 espela\",\"Shop online at www.selfridges.com\",\"You are welcome to exchange or refund\",\"your purchase by Sat 29 Jun 2019\",\"Please note Sale items\",\"can only be exchanged\",\"-\",\"-\",\"Term 0250 Opr 9999979506 Trans 3919\",\"Store 009999 Date 01/06/19 20:48\",\"00999902503919190601204713\",\"mellogu\",\"erot new uovi\",\"\"],\"lineItems\":[{\"qty\":1,\"desc\":\"1 @ f370.00\",\"unit\":\"\",\"price\":0.000,\"descClean\":\"f370.00\",\"lineTotal\":370.000,\"productCode\":\"\"},{\"qty\":1,\"desc\":\"Alipay READVICE\",\"unit\":\"\",\"price\":0.000,\"descClean\":\"- - Total Item READVICE f370.00 Alipay READVICE\",\"lineTotal\":370.000,\"productCode\":\"\"}],\"summaryItems\":[]}}  \n4                                                                                                                                                                                                                                                                                                                                                                                                                                   {\"message\":\"SUCCESS: Result available\",\"status\":\"done\",\"status_code\":3,\"token\":null,\"success\":true,\"code\":202,\"duplicate\":false,\"duplicateToken\":null,\"result\":{\"establishment\":\"John Lewis\",\"validatedEstablishment\":false,\"date\":\"2019-06-16 14:02:00\",\"total\":26.940,\"url\":\"www.johnlewis.com/customer\",\"phoneNumber\":\"0114 276 8511\",\"paymentMethod\":\"\",\"address\":\", SS1 2HB\",\"validatedTotal\":false,\"subTotal\":26.940,\"validatedSubTotal\":true,\"cash\":\"3.060\",\"change\":\"0.000\",\"tax\":4.490,\"discount\":0.000,\"subTotalConfidence\":0.0,\"totalConfidence\":0.6,\"cashConfidence\":0.6,\"changeConfidence\":0.0,\"roundingConfidence\":0.0,\"otherData\":[],\"lineItems\":[{\"qty\":0,\"desc\":\"S 73220442 Construction Toy\",\"unit\":\"\",\"price\":0.000,\"descClean\":\"S Construction Toy\",\"lineTotal\":8.970,\"productCode\":\"73220442\"},{\"qty\":2,\"desc\":\"S 73220446 Construction Toy\",\"unit\":\"\",\"price\":0.000,\"descClean\":\"S Construction Toy No.items\",\"lineTotal\":17.970,\"productCode\":\"73220446\"}],\"summaryItems\":[{\"qty\":0,\"desc\":\"Total\",\"unit\":\"\",\"price\":0.000,\"descClean\":\"Total\",\"lineTotal\":26.940,\"productCode\":\"\"},{\"qty\":0,\"desc\":\"Cash\",\"unit\":\"\",\"price\":0.000,\"descClean\":\"Cash\",\"lineTotal\":30.000,\"productCode\":\"\"},{\"qty\":0,\"desc\":\"Cash\",\"unit\":\"\",\"price\":0.000,\"descClean\":\"Cash\",\"lineTotal\":3.060,\"productCode\":\"\"},{\"qty\":5,\"desc\":\"S 20.0% 26.94 4.49\",\"unit\":\"\",\"price\":4.490,\"descClean\":\"S 20.0% 26.94\",\"lineTotal\":22.450,\"productCode\":\"\"}]}}  ",
      "text/html": "<div>\n<style scoped>\n    .dataframe tbody tr th:only-of-type {\n        vertical-align: middle;\n    }\n\n    .dataframe tbody tr th {\n        vertical-align: top;\n    }\n\n    .dataframe thead th {\n        text-align: right;\n    }\n</style>\n<table border=\"1\" class=\"dataframe\">\n  <thead>\n    <tr style=\"text-align: right;\">\n      <th></th>\n      <th>retailerName</th>\n      <th>rawData</th>\n    </tr>\n  </thead>\n  <tbody>\n    <tr>\n      <th>0</th>\n      <td>Selfridges</td>\n      <td>{\"message\":\"SUCCESS: Result available\",\"status\":\"done\",\"status_code\":3,\"token\":null,\"success\":true,\"code\":202,\"duplicate\":false,\"duplicateToken\":null,\"result\":{\"establishment\":\"Selfridges\",\"validatedEstablishment\":false,\"date\":\"2019-06-14 18:20:00\",\"total\":30.000,\"url\":\"www.selfridges.com\",\"phoneNumber\":\"8569 4004156\",\"paymentMethod\":\"VISA\",\"address\":\"400 Oxford Street London W1A 1AB\",\"validatedTotal\":false,\"subTotal\":30.000,\"validatedSubTotal\":true,\"cash\":\"0.000\",\"change\":\"0.000\",\"tax\":0.000,\"discount\":0.000,\"subTotalConfidence\":0.99,\"totalConfidence\":0.7,\"cashConfidence\":0.0,\"changeConfidence\":0.0,\"roundingConfidence\":0.0,\"otherData\":[],\"lineItems\":[{\"qty\":0,\"desc\":\"FULTON BROLLYMA41568569 400415685692\",\"unit\":\"\",\"price\":0.000,\"descClean\":\"You 193 were served by : Ines FULTON BROLLYMA 400415685692\",\"lineTotal\":18.000,\"productCode\":\"41568569\"},{\"qty\":0,\"desc\":\"JJ DOT HYDR - TRA 82401412\",\"unit\":\"\",\"price\":0.000,\"descClean\":\"JJ DOT HYDR - TRA\",\"lineTotal\":12.000,\"productCode\":\"82401412\"}],\"summaryItems\":[{\"qty\":2,\"desc\":\"Total 2 Items\",\"unit\":\"\",\"price\":0.000,\"descClean\":\"Total Items\",\"lineTotal\":30.000,\"productCode\":\"\"},{\"qty\":0,\"desc\":\"Visa\",\"unit\":\"\",\"price\":0.000,\"descClean\":\"Visa\",\"lineTotal\":30.000,\"productCode\":\"\"},{\"qty\":14,\"desc\":\"009999 Date 14 / 06 / 19\",\"unit\":\"\",\"price\":0.000,\"descClean\":\"Date / 06 / 19\",\"lineTotal\":18.200,\"productCode\":\"009999\"}]}}</td>\n    </tr>\n    <tr>\n      <th>1</th>\n      <td>Harrods</td>\n      <td>{\"message\":\"SUCCESS: Result available\",\"status\":\"done\",\"status_code\":3,\"token\":null,\"success\":true,\"code\":202,\"duplicate\":false,\"duplicateToken\":null,\"result\":{\"establishment\":\"Harrods\",\"validatedEstablishment\":false,\"date\":\"2019-06-19 13:24:00\",\"total\":86.000,\"url\":\"harrods.com\",\"phoneNumber\":\"020 7730 1234\",\"paymentMethod\":\"\",\"address\":\"LONDON S1 ot Road\",\"validatedTotal\":false,\"subTotal\":86.000,\"validatedSubTotal\":true,\"cash\":\"0.000\",\"change\":\"0.000\",\"tax\":0.000,\"discount\":0.000,\"subTotalConfidence\":0.6,\"totalConfidence\":0.0,\"cashConfidence\":0.0,\"changeConfidence\":0.0,\"roundingConfidence\":0.0,\"otherData\":[],\"lineItems\":[{\"qty\":0,\"desc\":\"Rewards 0005708615 Saving FRAGRANCE\",\"unit\":\"\",\"price\":0.000,\"descClean\":\"Rewards Saving FRAGRANCE f8.60\",\"lineTotal\":86.000,\"productCode\":\"0005708615\"}],\"summaryItems\":[{\"qty\":0,\"desc\":\"Sub Total\",\"unit\":\"\",\"price\":0.000,\"descClean\":\"Sub Total\",\"lineTotal\":86.000,\"productCode\":\"\"},{\"qty\":1,\"desc\":\"TOTAL ( 1 item )\",\"unit\":\"\",\"price\":0.000,\"descClean\":\"TOTAL ( item )\",\"lineTotal\":77.400,\"productCode\":\"\"},{\"qty\":0,\"desc\":\"Chinese Mobile Tendered\",\"unit\":\"\",\"price\":0.000,\"descClean\":\"Chinese Mobile Tendered\",\"lineTotal\":77.400,\"productCode\":\"\"},{\"qty\":0,\"desc\":\"Rewards Points balance\",\"unit\":\"\",\"price\":0.000,\"descClean\":\"Rewards Points balance\",\"lineTotal\":194.800,\"productCode\":\"\"}]}}</td>\n    </tr>\n    <tr>\n      <th>2</th>\n      <td>Boots</td>\n      <td>{\"message\":\"SUCCESS: Result available\",\"status\":\"done\",\"status_code\":3,\"token\":null,\"success\":true,\"code\":202,\"duplicate\":false,\"duplicateToken\":null,\"result\":{\"establishment\":\"Boots\",\"validatedEstablishment\":false,\"date\":\"2019-06-18 18:24:00\",\"total\":20.460,\"url\":\"\",\"phoneNumber\":\"(0115) 9410199\",\"paymentMethod\":\"\",\"address\":\"\",\"validatedTotal\":true,\"subTotal\":0.000,\"validatedSubTotal\":false,\"cash\":\"50.500\",\"change\":\"30.040\",\"tax\":0.000,\"discount\":0.000,\"subTotalConfidence\":0.0,\"totalConfidence\":0.99,\"cashConfidence\":0.99,\"changeConfidence\":0.99,\"roundingConfidence\":0.0,\"otherData\":[\"f\",\"Boots UK Limited\",\"NOTTINGHAM - 6\",\"18/06/2019\",\"(0115) 9410199\",\"18:24\",\"Served by: LAURIEN GOOD\",\"1404\",\"619 7646 0006 144 *6330************686\",\"\"],\"lineItems\":[{\"qty\":28,\"desc\":\"Nno Nno Int Int Wht Wht Stp Strong 28 2 5.00 NOW\",\"unit\":\"\",\"price\":0.000,\"descClean\":\"Nno Nno Int Int Wht Wht Stp Strong 2 5.00 NOW STUDENT DISCOUNT\",\"lineTotal\":18.750,\"productCode\":\"\"}],\"summaryItems\":[{\"qty\":0,\"desc\":\"TOTAL TO PAY\",\"unit\":\"\",\"price\":0.000,\"descClean\":\"TOTAL TO PAY\",\"lineTotal\":20.460,\"productCode\":\"\"},{\"qty\":0,\"desc\":\"CASH\",\"unit\":\"\",\"price\":0.000,\"descClean\":\"CASH\",\"lineTotal\":50.500,\"productCode\":\"\"},{\"qty\":0,\"desc\":\"CHANGE\",\"unit\":\"\",\"price\":0.000,\"descClean\":\"CHANGE\",\"lineTotal\":30.040,\"productCode\":\"\"}]}}</td>\n    </tr>\n    <tr>\n      <th>3</th>\n      <td>Selfridges</td>\n      <td>{\"message\":\"SUCCESS: Result available\",\"status\":\"done\",\"status_code\":3,\"token\":null,\"success\":true,\"code\":202,\"duplicate\":false,\"duplicateToken\":null,\"result\":{\"establishment\":\"Selfridges\",\"validatedEstablishment\":false,\"date\":\"2019-06-01 20:48:00\",\"total\":370.000,\"url\":\"www.selfridges.com\",\"phoneNumber\":\"+44 (0) 207 160 62\",\"paymentMethod\":\"ALIPAY\",\"address\":\"400 Oxford Street London W1A 1AB\",\"validatedTotal\":false,\"subTotal\":0.000,\"validatedSubTotal\":false,\"cash\":\"0.000\",\"change\":\"0.000\",\"tax\":0.000,\"discount\":0.000,\"subTotalConfidence\":0.0,\"totalConfidence\":0.0,\"cashConfidence\":0.0,\"changeConfidence\":0.0,\"roundingConfidence\":0.0,\"otherData\":[\"SELFRIDGES&amp;Cº\",\"400 Oxford Street London W1A 1AB\",\"Freephone 0800 123 400\",\"( From overseas +44 (0) 207 160 6222)\",\"V.A.T NO. GB 705 3259 52\",\"www.selfridges.com\",\"You were served by: Mikel\",\"Chanel RTW &amp; Accs\",\"1 @ f370.00\",\"CAR\",\"Notified terms and conditions will apply\",\"For details visit selfridges.com/london\",\"****************************** ************\",\"We have a passion for what we do and\",\"want you to have an amazing experience\",\"every time you come to Selfridges.\",\"*****************************************\",\"Loteborhoomorpbtitles 298 espela\",\"Shop online at www.selfridges.com\",\"You are welcome to exchange or refund\",\"your purchase by Sat 29 Jun 2019\",\"Please note Sale items\",\"can only be exchanged\",\"-\",\"-\",\"Term 0250 Opr 9999979506 Trans 3919\",\"Store 009999 Date 01/06/19 20:48\",\"00999902503919190601204713\",\"mellogu\",\"erot new uovi\",\"\"],\"lineItems\":[{\"qty\":1,\"desc\":\"1 @ f370.00\",\"unit\":\"\",\"price\":0.000,\"descClean\":\"f370.00\",\"lineTotal\":370.000,\"productCode\":\"\"},{\"qty\":1,\"desc\":\"Alipay READVICE\",\"unit\":\"\",\"price\":0.000,\"descClean\":\"- - Total Item READVICE f370.00 Alipay READVICE\",\"lineTotal\":370.000,\"productCode\":\"\"}],\"summaryItems\":[]}}</td>\n    </tr>\n    <tr>\n      <th>4</th>\n      <td>John Lewis</td>\n      <td>{\"message\":\"SUCCESS: Result available\",\"status\":\"done\",\"status_code\":3,\"token\":null,\"success\":true,\"code\":202,\"duplicate\":false,\"duplicateToken\":null,\"result\":{\"establishment\":\"John Lewis\",\"validatedEstablishment\":false,\"date\":\"2019-06-16 14:02:00\",\"total\":26.940,\"url\":\"www.johnlewis.com/customer\",\"phoneNumber\":\"0114 276 8511\",\"paymentMethod\":\"\",\"address\":\", SS1 2HB\",\"validatedTotal\":false,\"subTotal\":26.940,\"validatedSubTotal\":true,\"cash\":\"3.060\",\"change\":\"0.000\",\"tax\":4.490,\"discount\":0.000,\"subTotalConfidence\":0.0,\"totalConfidence\":0.6,\"cashConfidence\":0.6,\"changeConfidence\":0.0,\"roundingConfidence\":0.0,\"otherData\":[],\"lineItems\":[{\"qty\":0,\"desc\":\"S 73220442 Construction Toy\",\"unit\":\"\",\"price\":0.000,\"descClean\":\"S Construction Toy\",\"lineTotal\":8.970,\"productCode\":\"73220442\"},{\"qty\":2,\"desc\":\"S 73220446 Construction Toy\",\"unit\":\"\",\"price\":0.000,\"descClean\":\"S Construction Toy No.items\",\"lineTotal\":17.970,\"productCode\":\"73220446\"}],\"summaryItems\":[{\"qty\":0,\"desc\":\"Total\",\"unit\":\"\",\"price\":0.000,\"descClean\":\"Total\",\"lineTotal\":26.940,\"productCode\":\"\"},{\"qty\":0,\"desc\":\"Cash\",\"unit\":\"\",\"price\":0.000,\"descClean\":\"Cash\",\"lineTotal\":30.000,\"productCode\":\"\"},{\"qty\":0,\"desc\":\"Cash\",\"unit\":\"\",\"price\":0.000,\"descClean\":\"Cash\",\"lineTotal\":3.060,\"productCode\":\"\"},{\"qty\":5,\"desc\":\"S 20.0% 26.94 4.49\",\"unit\":\"\",\"price\":4.490,\"descClean\":\"S 20.0% 26.94\",\"lineTotal\":22.450,\"productCode\":\"\"}]}}</td>\n    </tr>\n  </tbody>\n</table>\n</div>"
     },
     "execution_count": 15,
     "metadata": {},
     "output_type": "execute_result"
    }
   ],
   "source": [
    "# drop rows with empty or not string rawData \n",
    "dfc = df[df.rawData.apply(lambda x: isinstance(x, str))]\n",
    "dfc.head(5)"
   ]
  },
  {
   "cell_type": "code",
   "execution_count": 16,
   "metadata": {},
   "outputs": [
    {
     "data": {
      "text/plain": "                     message status  status_code token  success  code  \\\n0  SUCCESS: Result available   done            3  None     True   202   \n1  SUCCESS: Result available   done            3  None     True   202   \n\n   duplicate duplicateToken  \\\n0      False           None   \n1      False           None   \n\n                                                                                                                                                                                                                                                                                                                                                                                                                                                                                                                                                                                                                                                                                                                                                                                                                                                                                                                                                                                                                                                                                                                                                                                                                                                                                                                                                          result  \n0  {'establishment': 'Selfridges', 'validatedEstablishment': False, 'date': '2019-06-14 18:20:00', 'total': 30.0, 'url': 'www.selfridges.com', 'phoneNumber': '8569 4004156', 'paymentMethod': 'VISA', 'address': '400 Oxford Street London W1A 1AB', 'validatedTotal': False, 'subTotal': 30.0, 'validatedSubTotal': True, 'cash': '0.000', 'change': '0.000', 'tax': 0.0, 'discount': 0.0, 'subTotalConfidence': 0.99, 'totalConfidence': 0.7, 'cashConfidence': 0.0, 'changeConfidence': 0.0, 'roundingConfidence': 0.0, 'otherData': [], 'lineItems': [{'qty': 0, 'desc': 'FULTON BROLLYMA41568569 400415685692', 'unit': '', 'price': 0.0, 'descClean': 'You 193 were served by : Ines FULTON BROLLYMA 400415685692', 'lineTotal': 18.0, 'productCode': '41568569'}, {'qty': 0, 'desc': 'JJ DOT HYDR - TRA 82401412', 'unit': '', 'price': 0.0, 'descClean': 'JJ DOT HYDR - TRA', 'lineTotal': 12.0, 'productCode': '82401412'}], 'summaryItems': [{'qty': 2, 'desc': 'Total 2 Items', 'unit': '', 'price': 0.0, 'descClean': 'Total Items', 'lineTotal': 30.0, 'productCode': ''}, {'qty': 0, 'desc': 'Visa', 'unit': '', 'price': 0.0, 'descClean': 'Visa', 'lineTotal': 30.0, 'productCode': ''}, {'qty': 14, 'desc': '009999 Date 14 / 06 / 19', 'unit': '', 'price': 0.0, 'descClean': 'Date / 06 / 19', 'lineTotal': 18.2, 'productCode': '009999'}]}  \n1                                               {'establishment': 'Harrods', 'validatedEstablishment': False, 'date': '2019-06-19 13:24:00', 'total': 86.0, 'url': 'harrods.com', 'phoneNumber': '020 7730 1234', 'paymentMethod': '', 'address': 'LONDON S1 ot Road', 'validatedTotal': False, 'subTotal': 86.0, 'validatedSubTotal': True, 'cash': '0.000', 'change': '0.000', 'tax': 0.0, 'discount': 0.0, 'subTotalConfidence': 0.6, 'totalConfidence': 0.0, 'cashConfidence': 0.0, 'changeConfidence': 0.0, 'roundingConfidence': 0.0, 'otherData': [], 'lineItems': [{'qty': 0, 'desc': 'Rewards 0005708615 Saving FRAGRANCE', 'unit': '', 'price': 0.0, 'descClean': 'Rewards Saving FRAGRANCE f8.60', 'lineTotal': 86.0, 'productCode': '0005708615'}], 'summaryItems': [{'qty': 0, 'desc': 'Sub Total', 'unit': '', 'price': 0.0, 'descClean': 'Sub Total', 'lineTotal': 86.0, 'productCode': ''}, {'qty': 1, 'desc': 'TOTAL ( 1 item )', 'unit': '', 'price': 0.0, 'descClean': 'TOTAL ( item )', 'lineTotal': 77.4, 'productCode': ''}, {'qty': 0, 'desc': 'Chinese Mobile Tendered', 'unit': '', 'price': 0.0, 'descClean': 'Chinese Mobile Tendered', 'lineTotal': 77.4, 'productCode': ''}, {'qty': 0, 'desc': 'Rewards Points balance', 'unit': '', 'price': 0.0, 'descClean': 'Rewards Points balance', 'lineTotal': 194.8, 'productCode': ''}]}  ",
      "text/html": "<div>\n<style scoped>\n    .dataframe tbody tr th:only-of-type {\n        vertical-align: middle;\n    }\n\n    .dataframe tbody tr th {\n        vertical-align: top;\n    }\n\n    .dataframe thead th {\n        text-align: right;\n    }\n</style>\n<table border=\"1\" class=\"dataframe\">\n  <thead>\n    <tr style=\"text-align: right;\">\n      <th></th>\n      <th>message</th>\n      <th>status</th>\n      <th>status_code</th>\n      <th>token</th>\n      <th>success</th>\n      <th>code</th>\n      <th>duplicate</th>\n      <th>duplicateToken</th>\n      <th>result</th>\n    </tr>\n  </thead>\n  <tbody>\n    <tr>\n      <th>0</th>\n      <td>SUCCESS: Result available</td>\n      <td>done</td>\n      <td>3</td>\n      <td>None</td>\n      <td>True</td>\n      <td>202</td>\n      <td>False</td>\n      <td>None</td>\n      <td>{'establishment': 'Selfridges', 'validatedEstablishment': False, 'date': '2019-06-14 18:20:00', 'total': 30.0, 'url': 'www.selfridges.com', 'phoneNumber': '8569 4004156', 'paymentMethod': 'VISA', 'address': '400 Oxford Street London W1A 1AB', 'validatedTotal': False, 'subTotal': 30.0, 'validatedSubTotal': True, 'cash': '0.000', 'change': '0.000', 'tax': 0.0, 'discount': 0.0, 'subTotalConfidence': 0.99, 'totalConfidence': 0.7, 'cashConfidence': 0.0, 'changeConfidence': 0.0, 'roundingConfidence': 0.0, 'otherData': [], 'lineItems': [{'qty': 0, 'desc': 'FULTON BROLLYMA41568569 400415685692', 'unit': '', 'price': 0.0, 'descClean': 'You 193 were served by : Ines FULTON BROLLYMA 400415685692', 'lineTotal': 18.0, 'productCode': '41568569'}, {'qty': 0, 'desc': 'JJ DOT HYDR - TRA 82401412', 'unit': '', 'price': 0.0, 'descClean': 'JJ DOT HYDR - TRA', 'lineTotal': 12.0, 'productCode': '82401412'}], 'summaryItems': [{'qty': 2, 'desc': 'Total 2 Items', 'unit': '', 'price': 0.0, 'descClean': 'Total Items', 'lineTotal': 30.0, 'productCode': ''}, {'qty': 0, 'desc': 'Visa', 'unit': '', 'price': 0.0, 'descClean': 'Visa', 'lineTotal': 30.0, 'productCode': ''}, {'qty': 14, 'desc': '009999 Date 14 / 06 / 19', 'unit': '', 'price': 0.0, 'descClean': 'Date / 06 / 19', 'lineTotal': 18.2, 'productCode': '009999'}]}</td>\n    </tr>\n    <tr>\n      <th>1</th>\n      <td>SUCCESS: Result available</td>\n      <td>done</td>\n      <td>3</td>\n      <td>None</td>\n      <td>True</td>\n      <td>202</td>\n      <td>False</td>\n      <td>None</td>\n      <td>{'establishment': 'Harrods', 'validatedEstablishment': False, 'date': '2019-06-19 13:24:00', 'total': 86.0, 'url': 'harrods.com', 'phoneNumber': '020 7730 1234', 'paymentMethod': '', 'address': 'LONDON S1 ot Road', 'validatedTotal': False, 'subTotal': 86.0, 'validatedSubTotal': True, 'cash': '0.000', 'change': '0.000', 'tax': 0.0, 'discount': 0.0, 'subTotalConfidence': 0.6, 'totalConfidence': 0.0, 'cashConfidence': 0.0, 'changeConfidence': 0.0, 'roundingConfidence': 0.0, 'otherData': [], 'lineItems': [{'qty': 0, 'desc': 'Rewards 0005708615 Saving FRAGRANCE', 'unit': '', 'price': 0.0, 'descClean': 'Rewards Saving FRAGRANCE f8.60', 'lineTotal': 86.0, 'productCode': '0005708615'}], 'summaryItems': [{'qty': 0, 'desc': 'Sub Total', 'unit': '', 'price': 0.0, 'descClean': 'Sub Total', 'lineTotal': 86.0, 'productCode': ''}, {'qty': 1, 'desc': 'TOTAL ( 1 item )', 'unit': '', 'price': 0.0, 'descClean': 'TOTAL ( item )', 'lineTotal': 77.4, 'productCode': ''}, {'qty': 0, 'desc': 'Chinese Mobile Tendered', 'unit': '', 'price': 0.0, 'descClean': 'Chinese Mobile Tendered', 'lineTotal': 77.4, 'productCode': ''}, {'qty': 0, 'desc': 'Rewards Points balance', 'unit': '', 'price': 0.0, 'descClean': 'Rewards Points balance', 'lineTotal': 194.8, 'productCode': ''}]}</td>\n    </tr>\n  </tbody>\n</table>\n</div>"
     },
     "execution_count": 16,
     "metadata": {},
     "output_type": "execute_result"
    }
   ],
   "source": [
    "rawData = dfc.rawData\n",
    "parsedRawData = rawData.apply(json.loads).apply(pd.Series)\n",
    "parsedRawData.head(2)"
   ]
  },
  {
   "cell_type": "code",
   "execution_count": 17,
   "metadata": {},
   "outputs": [],
   "source": [
    "joined = df.join(parsedRawData)\n",
    "data = joined.filter(['retailerName', 'result'])"
   ]
  },
  {
   "cell_type": "code",
   "execution_count": 18,
   "metadata": {},
   "outputs": [
    {
     "data": {
      "text/plain": "  establishment retailerName\n0    Selfridges   Selfridges\n1       Harrods      Harrods\n2         Boots        Boots\n3    Selfridges   Selfridges\n4    John Lewis   John Lewis",
      "text/html": "<div>\n<style scoped>\n    .dataframe tbody tr th:only-of-type {\n        vertical-align: middle;\n    }\n\n    .dataframe tbody tr th {\n        vertical-align: top;\n    }\n\n    .dataframe thead th {\n        text-align: right;\n    }\n</style>\n<table border=\"1\" class=\"dataframe\">\n  <thead>\n    <tr style=\"text-align: right;\">\n      <th></th>\n      <th>establishment</th>\n      <th>retailerName</th>\n    </tr>\n  </thead>\n  <tbody>\n    <tr>\n      <th>0</th>\n      <td>Selfridges</td>\n      <td>Selfridges</td>\n    </tr>\n    <tr>\n      <th>1</th>\n      <td>Harrods</td>\n      <td>Harrods</td>\n    </tr>\n    <tr>\n      <th>2</th>\n      <td>Boots</td>\n      <td>Boots</td>\n    </tr>\n    <tr>\n      <th>3</th>\n      <td>Selfridges</td>\n      <td>Selfridges</td>\n    </tr>\n    <tr>\n      <th>4</th>\n      <td>John Lewis</td>\n      <td>John Lewis</td>\n    </tr>\n  </tbody>\n</table>\n</div>"
     },
     "execution_count": 18,
     "metadata": {},
     "output_type": "execute_result"
    }
   ],
   "source": [
    "# parse json result field and add columns to dataframe\n",
    "parsedResult = data.result.apply(pd.Series)\n",
    "joined = df.join(parsedResult)\n",
    "\n",
    "# filter so that we get only features and labels to train the model\n",
    "data = joined.filter(['establishment', 'retailerName'])\n",
    "data.head(5)"
   ]
  },
  {
   "cell_type": "code",
   "execution_count": 19,
   "metadata": {},
   "outputs": [
    {
     "data": {
      "text/plain": "     establishment retailerName\n685            NaN        Boots\n1326           NaN        Boots",
      "text/html": "<div>\n<style scoped>\n    .dataframe tbody tr th:only-of-type {\n        vertical-align: middle;\n    }\n\n    .dataframe tbody tr th {\n        vertical-align: top;\n    }\n\n    .dataframe thead th {\n        text-align: right;\n    }\n</style>\n<table border=\"1\" class=\"dataframe\">\n  <thead>\n    <tr style=\"text-align: right;\">\n      <th></th>\n      <th>establishment</th>\n      <th>retailerName</th>\n    </tr>\n  </thead>\n  <tbody>\n    <tr>\n      <th>685</th>\n      <td>NaN</td>\n      <td>Boots</td>\n    </tr>\n    <tr>\n      <th>1326</th>\n      <td>NaN</td>\n      <td>Boots</td>\n    </tr>\n  </tbody>\n</table>\n</div>"
     },
     "execution_count": 19,
     "metadata": {},
     "output_type": "execute_result"
    }
   ],
   "source": [
    "ignore = data[data.establishment.apply(lambda x: not isinstance(x, str))]\n",
    "ignore.head(2)"
   ]
  },
  {
   "cell_type": "code",
   "execution_count": 20,
   "metadata": {},
   "outputs": [
    {
     "data": {
      "text/plain": "Empty DataFrame\nColumns: [establishment, retailerName]\nIndex: []",
      "text/html": "<div>\n<style scoped>\n    .dataframe tbody tr th:only-of-type {\n        vertical-align: middle;\n    }\n\n    .dataframe tbody tr th {\n        vertical-align: top;\n    }\n\n    .dataframe thead th {\n        text-align: right;\n    }\n</style>\n<table border=\"1\" class=\"dataframe\">\n  <thead>\n    <tr style=\"text-align: right;\">\n      <th></th>\n      <th>establishment</th>\n      <th>retailerName</th>\n    </tr>\n  </thead>\n  <tbody>\n  </tbody>\n</table>\n</div>"
     },
     "execution_count": 20,
     "metadata": {},
     "output_type": "execute_result"
    }
   ],
   "source": [
    "ignore = data[data.retailerName.apply(lambda x: not isinstance(x, str))]\n",
    "ignore.head(2)"
   ]
  },
  {
   "cell_type": "code",
   "execution_count": 21,
   "metadata": {},
   "outputs": [
    {
     "data": {
      "text/plain": "       establishment       retailerName\n0         Selfridges         Selfridges\n1            Harrods            Harrods\n2              Boots              Boots\n3         Selfridges         Selfridges\n4         John Lewis         John Lewis\n5         Selfridges         Selfridges\n6  HOLLAND & BARRETT  Holland & Barrett\n7         Selfridges         Selfridges\n8         Selfridges         Selfridges\n9         John Lewis         John Lewis",
      "text/html": "<div>\n<style scoped>\n    .dataframe tbody tr th:only-of-type {\n        vertical-align: middle;\n    }\n\n    .dataframe tbody tr th {\n        vertical-align: top;\n    }\n\n    .dataframe thead th {\n        text-align: right;\n    }\n</style>\n<table border=\"1\" class=\"dataframe\">\n  <thead>\n    <tr style=\"text-align: right;\">\n      <th></th>\n      <th>establishment</th>\n      <th>retailerName</th>\n    </tr>\n  </thead>\n  <tbody>\n    <tr>\n      <th>0</th>\n      <td>Selfridges</td>\n      <td>Selfridges</td>\n    </tr>\n    <tr>\n      <th>1</th>\n      <td>Harrods</td>\n      <td>Harrods</td>\n    </tr>\n    <tr>\n      <th>2</th>\n      <td>Boots</td>\n      <td>Boots</td>\n    </tr>\n    <tr>\n      <th>3</th>\n      <td>Selfridges</td>\n      <td>Selfridges</td>\n    </tr>\n    <tr>\n      <th>4</th>\n      <td>John Lewis</td>\n      <td>John Lewis</td>\n    </tr>\n    <tr>\n      <th>5</th>\n      <td>Selfridges</td>\n      <td>Selfridges</td>\n    </tr>\n    <tr>\n      <th>6</th>\n      <td>HOLLAND &amp; BARRETT</td>\n      <td>Holland &amp; Barrett</td>\n    </tr>\n    <tr>\n      <th>7</th>\n      <td>Selfridges</td>\n      <td>Selfridges</td>\n    </tr>\n    <tr>\n      <th>8</th>\n      <td>Selfridges</td>\n      <td>Selfridges</td>\n    </tr>\n    <tr>\n      <th>9</th>\n      <td>John Lewis</td>\n      <td>John Lewis</td>\n    </tr>\n  </tbody>\n</table>\n</div>"
     },
     "execution_count": 21,
     "metadata": {},
     "output_type": "execute_result"
    }
   ],
   "source": [
    "data = data[data.establishment.apply(lambda x: isinstance(x, str))]\n",
    "# data = data[data.retailerName.apply(lambda x: isinstance(x, str))]\n",
    "data.head(10)"
   ]
  },
  {
   "cell_type": "code",
   "execution_count": 22,
   "metadata": {},
   "outputs": [
    {
     "data": {
      "text/plain": "(1397, 5585, 6982)"
     },
     "execution_count": 22,
     "metadata": {},
     "output_type": "execute_result"
    }
   ],
   "source": [
    "# get train and test dataset\n",
    "train_size = int(len(data) * .8)\n",
    "train_ocr = data['establishment'][:train_size]\n",
    "train_tags = data['retailerName'][:train_size]\n",
    "test_ocr = data['establishment'][train_size:]\n",
    "test_tags = data['retailerName'][train_size:]\n",
    "\n",
    "test_tags.size, train_size, len(data)"
   ]
  },
  {
   "cell_type": "code",
   "execution_count": 23,
   "metadata": {},
   "outputs": [
    {
     "data": {
      "text/plain": "0           Selfridges\n1              Harrods\n2                Boots\n3           Selfridges\n4           John Lewis\n5           Selfridges\n6    HOLLAND & BARRETT\n7           Selfridges\n8           Selfridges\n9           John Lewis\nName: establishment, dtype: object"
     },
     "execution_count": 23,
     "metadata": {},
     "output_type": "execute_result"
    }
   ],
   "source": [
    "train_ocr.head(10)"
   ]
  },
  {
   "cell_type": "code",
   "execution_count": 24,
   "metadata": {},
   "outputs": [],
   "source": [
    "# use bag of words model\n",
    "max_words = 1000\n",
    "tokenize = Tokenizer(num_words=max_words, char_level=False)\n",
    "tokenize.fit_on_texts(train_ocr)"
   ]
  },
  {
   "cell_type": "code",
   "execution_count": 25,
   "metadata": {},
   "outputs": [],
   "source": [
    "x_train = tokenize.texts_to_matrix(train_ocr)\n",
    "x_test = tokenize.texts_to_matrix(test_ocr)\n",
    "\n",
    "# x_train[0]"
   ]
  },
  {
   "cell_type": "code",
   "execution_count": null,
   "metadata": {},
   "outputs": [],
   "source": [
    "# Use sklearn utility to convert label strings to numbered index\n",
    "encoder = LabelEncoder()\n",
    "encoder.fit(train_tags)\n",
    "y_train = encoder.transform(train_tags)\n",
    "y_test = encoder.transform(test_tags)\n",
    "\n",
    "y_test"
   ]
  },
  {
   "cell_type": "code",
   "execution_count": null,
   "metadata": {},
   "outputs": [],
   "source": [
    "# Converts the labels to a one-hot representation\n",
    "num_classes = np.max(y_train) + 1\n",
    "y_train_cat = to_categorical(y_train, num_classes)\n",
    "y_test_cat = to_categorical(y_test, num_classes)\n",
    "y_test_cat"
   ]
  },
  {
   "cell_type": "code",
   "execution_count": null,
   "metadata": {},
   "outputs": [],
   "source": [
    "# Inspect the dimensions of our training and test data (this is helpful to debug)\n",
    "print('x_train shape:', x_train.shape)\n",
    "print('x_test shape:', x_test.shape)\n",
    "print('y_train_cat shape:', y_train_cat.shape)\n",
    "print('y_test_cat shape:', y_test_cat.shape)"
   ]
  },
  {
   "cell_type": "code",
   "execution_count": null,
   "metadata": {},
   "outputs": [],
   "source": [
    "batch_size = 32\n",
    "epochs = 4"
   ]
  },
  {
   "cell_type": "code",
   "execution_count": null,
   "metadata": {},
   "outputs": [],
   "source": [
    "model = tf.keras.Sequential([\n",
    "    layers.Dense(512, activation='relu', name='hidden_layer', input_shape=(max_words,)),\n",
    "    layers.Dense(num_classes, activation='softmax', name='output')\n",
    "])"
   ]
  },
  {
   "cell_type": "code",
   "execution_count": null,
   "metadata": {},
   "outputs": [],
   "source": [
    "LR = 1e-5 # Keep it small when transfer learning\n",
    "EPOCHS = 30\n",
    "model.compile(\n",
    "  optimizer=tf.keras.optimizers.Adam(learning_rate=LR),\n",
    "  loss='categorical_crossentropy',\n",
    "  metrics=['accuracy'])"
   ]
  },
  {
   "cell_type": "code",
   "execution_count": null,
   "metadata": {},
   "outputs": [],
   "source": [
    "# train the model\n",
    "history = model.fit(x_train, y_train_cat,\n",
    "                    batch_size=batch_size,\n",
    "                    epochs=epochs,\n",
    "                    verbose=1,\n",
    "                    validation_split=0.1)"
   ]
  },
  {
   "cell_type": "code",
   "execution_count": null,
   "metadata": {},
   "outputs": [],
   "source": [
    "# evaluate the accuracy\n",
    "score = model.evaluate(x_test, y_test_cat, batch_size=batch_size, verbose=1)\n",
    "print('Test accuracy: {0:.2f}%'.format(score[1] * 100))"
   ]
  },
  {
   "cell_type": "code",
   "execution_count": null,
   "metadata": {},
   "outputs": [],
   "source": [
    "text_labels = encoder.classes_ \n",
    "for i in range(10):\n",
    "    prediction = model.predict(np.array([x_test[i]]))\n",
    "    predicted_label = text_labels[np.argmax(prediction)]\n",
    "    print(test_ocr.iloc[i][:50], \"...\")\n",
    "    print('correct:' + test_tags.iloc[i])\n",
    "    print(\"predicted: \" + predicted_label + \"\\n\")"
   ]
  },
  {
   "cell_type": "code",
   "execution_count": null,
   "metadata": {},
   "outputs": [],
   "source": [
    "encoder.classes_\n"
   ]
  },
  {
   "cell_type": "code",
   "execution_count": null,
   "metadata": {},
   "outputs": [],
   "source": [
    "encoder.classes_\n",
    "matrix = tokenize.texts_to_matrix(['HTK UK'])\n",
    "prediction = model.predict(np.array([matrix[0]]))\n",
    "predicted_label = text_labels[np.argmax(prediction)]\n",
    "print(\"predict:{0}\\nindex:{1} \\nlabel:{2}\".format(prediction, np.argmax(prediction), predicted_label))"
   ]
  },
  {
   "cell_type": "code",
   "execution_count": null,
   "metadata": {},
   "outputs": [],
   "source": [
    "y_softmax = model.predict(x_test)\n",
    "\n",
    "y_test_1d = []\n",
    "y_pred_1d = []\n",
    "\n",
    "for i in range(len(y_test_cat)):\n",
    "    probs = y_test_cat[i]\n",
    "    index_arr = np.nonzero(probs)\n",
    "    one_hot_index = index_arr[0].item(0)\n",
    "    y_test_1d.append(one_hot_index)\n",
    "\n",
    "for i in range(0, len(y_softmax)):\n",
    "    probs = y_softmax[i]\n",
    "    predicted_index = np.argmax(probs)\n",
    "    y_pred_1d.append(predicted_index)"
   ]
  },
  {
   "cell_type": "code",
   "execution_count": null,
   "metadata": {},
   "outputs": [],
   "source": [
    "def plot_confusion_matrix(cm, classes, title='Confusion matrix', cmap=plt.cm.Blues):\n",
    "    cm = cm.astype('float') / cm.sum(axis=1)[:, np.newaxis]\n",
    "\n",
    "    plt.imshow(cm, interpolation='nearest', cmap=cmap)\n",
    "    plt.title(title, fontsize=30)\n",
    "    plt.colorbar()\n",
    "    tick_marks = np.arange(len(classes))\n",
    "    plt.xticks(tick_marks, classes, rotation=45, fontsize=22)\n",
    "    plt.yticks(tick_marks, classes, fontsize=22)\n",
    "\n",
    "    fmt = '.2f'\n",
    "    thresh = cm.max() / 2.\n",
    "    for i, j in itertools.product(range(cm.shape[0]), range(cm.shape[1])):\n",
    "        plt.text(j, i, format(cm[i, j], fmt),\n",
    "                 horizontalalignment=\"center\",\n",
    "                 color=\"white\" if cm[i, j] > thresh else \"black\")\n",
    "\n",
    "    plt.ylabel('Correct label', fontsize=25)\n",
    "    plt.xlabel('Predicted label', fontsize=25)"
   ]
  },
  {
   "cell_type": "code",
   "execution_count": null,
   "metadata": {},
   "outputs": [],
   "source": [
    "len(y_test_1d), len(y_pred_1d)"
   ]
  },
  {
   "cell_type": "code",
   "execution_count": null,
   "metadata": {},
   "outputs": [],
   "source": [
    "cnf_matrix = confusion_matrix(y_test_1d, y_pred_1d)"
   ]
  },
  {
   "cell_type": "code",
   "execution_count": null,
   "metadata": {},
   "outputs": [],
   "source": [
    "plt.figure(figsize=(24,20))\n",
    "plot_confusion_matrix(cnf_matrix, classes=text_labels, title=\"Confusion matrix\")\n",
    "plt.show()"
   ]
  },
  {
   "cell_type": "code",
   "execution_count": null,
   "metadata": {},
   "outputs": [],
   "source": []
  },
  {
   "cell_type": "code",
   "execution_count": null,
   "metadata": {},
   "outputs": [],
   "source": []
  },
  {
   "cell_type": "code",
   "execution_count": null,
   "metadata": {},
   "outputs": [],
   "source": []
  }
 ],
 "metadata": {
  "kernelspec": {
   "display_name": "Python 3",
   "language": "python",
   "name": "python3"
  },
  "language_info": {
   "codemirror_mode": {
    "name": "ipython",
    "version": 3
   },
   "file_extension": ".py",
   "mimetype": "text/x-python",
   "name": "python",
   "nbconvert_exporter": "python",
   "pygments_lexer": "ipython3",
   "version": "3.8.5"
  }
 },
 "nbformat": 4,
 "nbformat_minor": 4
}